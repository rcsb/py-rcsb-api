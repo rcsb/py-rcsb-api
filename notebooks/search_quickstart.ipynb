{
 "cells": [
  {
   "cell_type": "markdown",
   "id": "177dc250",
   "metadata": {},
   "source": [
    "<a href=\"https://colab.research.google.com/github/rcsb/py-rcsb-api/blob/master/notebooks/search_quickstart.ipynb\" target=\"_parent\"><img src=\"https://colab.research.google.com/assets/colab-badge.svg\" alt=\"Open In Colab\"/></a>"
   ]
  },
  {
   "cell_type": "markdown",
   "id": "upper-filing",
   "metadata": {},
   "source": [
    "# RCSB PDB Search API: Quickstart\n",
    "\n",
    "This quickstart notebook will walk through the basics of creating and executing queries using the `rcsbapi.search` package of the `rcsb-api` package. For more in-depth documentation, reference the [readthedocs page](https://rcsbapi.readthedocs.io/en/latest/search_api/quickstart.html).\n",
    "\n",
    "\\\n",
    "Before beginning, you must install the package:\n",
    "\n",
    "```pip install rcsb-api```"
   ]
  },
  {
   "cell_type": "code",
   "execution_count": null,
   "id": "aef3a8f5",
   "metadata": {},
   "outputs": [],
   "source": [
    "%pip install rcsb-api"
   ]
  },
  {
   "cell_type": "code",
   "execution_count": 17,
   "id": "african-monthly",
   "metadata": {},
   "outputs": [],
   "source": [
    "from rcsbapi.search import TextQuery, AttributeQuery\n",
    "from rcsbapi.search import search_attributes as attrs"
   ]
  },
  {
   "cell_type": "markdown",
   "id": "51db8156",
   "metadata": {},
   "source": [
    "## Full-text search\n",
    "To perform a \"full-text\" search for structures associated with the term \"Hemoglobin\", you can create a `TextQuery`:"
   ]
  },
  {
   "cell_type": "code",
   "execution_count": 18,
   "id": "110a70a9",
   "metadata": {},
   "outputs": [],
   "source": [
    "# Search for structures associated with the phrase \"Hemoglobin\"\n",
    "query = TextQuery(value=\"Hemoglobin\")\n",
    "\n",
    "# Execute the query by running it as a function\n",
    "results = query()\n",
    "\n",
    "# Results are returned as an iterator of result identifiers.\n",
    "for rid in results:\n",
    "    print(rid)"
   ]
  },
  {
   "cell_type": "markdown",
   "id": "a4c2d12b",
   "metadata": {},
   "source": [
    "## Attribute search\n",
    "To perform a search for specific structure or chemical attributes, you can create an `AttributeQuery`."
   ]
  },
  {
   "cell_type": "code",
   "execution_count": 19,
   "id": "79005229",
   "metadata": {},
   "outputs": [],
   "source": [
    "# Construct a query searching for structures from humans\n",
    "query = AttributeQuery(\n",
    "    attribute=\"rcsb_entity_source_organism.scientific_name\",\n",
    "    operator=\"exact_match\",  # Other operators include \"contains_phrase\", \"exists\", and more\n",
    "    value=\"Homo sapiens\"\n",
    ")\n",
    "\n",
    "# Execute query and construct a list from results\n",
    "results = list(query())\n",
    "print(results)"
   ]
  },
  {
   "cell_type": "markdown",
   "id": "8aec7e7e",
   "metadata": {},
   "source": [
    "Refer to the [Search Attributes](https://search.rcsb.org/structure-search-attributes.html) and [Chemical Attributes](https://search.rcsb.org/chemical-search-attributes.html) documentation for a full list of attributes and applicable operators.\n",
    "\n",
    "Alternatively, you can construct attribute queries with comparative operators using the `search_attributes` object (which also allows for names to be tab-completed):"
   ]
  },
  {
   "cell_type": "code",
   "execution_count": 20,
   "id": "1a01cb80",
   "metadata": {},
   "outputs": [],
   "source": [
    "# Search for structures from humans\n",
    "query = attrs.rcsb_entity_source_organism.scientific_name == \"Homo sapiens\"\n",
    "\n",
    "# Run query and construct a list from results\n",
    "results = list(query())\n",
    "print(results)"
   ]
  },
  {
   "cell_type": "markdown",
   "id": "fe2daa02",
   "metadata": {},
   "source": [
    "## Grouping sub-queries\n",
    "\n",
    "You can combine multiple queries using Python bitwise operators. "
   ]
  },
  {
   "cell_type": "code",
   "execution_count": 21,
   "id": "a23da8e7",
   "metadata": {},
   "outputs": [],
   "source": [
    "# Query for human epidermal growth factor receptor (EGFR) structures (UniProt ID P00533)\n",
    "#  with investigational or experimental drugs bound\n",
    "q1 = attrs.rcsb_polymer_entity_container_identifiers.reference_sequence_identifiers.database_accession == \"P00533\"\n",
    "q2 = attrs.rcsb_entity_source_organism.scientific_name == \"Homo sapiens\"\n",
    "q3 = attrs.drugbank_info.drug_groups == \"investigational\"\n",
    "q4 = attrs.drugbank_info.drug_groups == \"experimental\"\n",
    "\n",
    "# Structures matching UniProt ID P00533 AND from humans\n",
    "#  AND (investigational OR experimental drug group)\n",
    "query = q1 & q2 & (q3 | q4)\n",
    "\n",
    "# Execute query and print first 10 ids\n",
    "results = list(query())\n",
    "print(results[:10])"
   ]
  },
  {
   "cell_type": "markdown",
   "id": "9d3692c4",
   "metadata": {},
   "source": [
    "These examples are in \"operator\" syntax. You can also make queries in \"fluent\" syntax. Learn more about both syntaxes and implementation details in [Query Syntax and Execution](https://rcsbapi.readthedocs.io/en/latest/search_api/query_construction.html#query-syntax-and-execution).\n",
    "\n",
    "### Supported Search Services\n",
    "The list of supported search service types are listed in the table below. For more details on their usage, see [Search Service Types](https://rcsbapi.readthedocs.io/en/latest/search_api/query_construction.html#search-service-types).\n",
    "\n",
    "|Search service                    |QueryType                 |\n",
    "|----------------------------------|--------------------------|\n",
    "|Full-text                         |`TextQuery()`             |\n",
    "|Attribute (structure or chemical) |`AttributeQuery()`        |\n",
    "|Sequence similarity               |`SeqSimilarityQuery()`         |\n",
    "|Sequence motif                    |`SeqMotifQuery()`    |\n",
    "|Structure similarity              |`StructSimilarityQuery()` |\n",
    "|Structure motif                   |`StructMotifQuery()`      |\n",
    "|Chemical similarity               |`ChemSimilarityQuery()`   |\n",
    "\n",
    "Learn more about available search services on the [RCSB PDB Search API docs](https://search.rcsb.org/#search-services)."
   ]
  },
  {
   "cell_type": "markdown",
   "id": "e2b42fd8",
   "metadata": {},
   "source": [
    "For more in-depth documentation, go to [readthedocs](https://rcsbapi.readthedocs.io/en/latest/index.html)"
   ]
  }
 ],
 "metadata": {
  "kernelspec": {
   "display_name": "Python 3",
   "language": "python",
   "name": "python3"
  },
  "language_info": {
   "codemirror_mode": {
    "name": "ipython",
    "version": 3
   },
   "file_extension": ".py",
   "mimetype": "text/x-python",
   "name": "python",
   "nbconvert_exporter": "python",
   "pygments_lexer": "ipython3",
   "version": "3.12.6"
  },
  "toc": {
   "base_numbering": 1,
   "nav_menu": {},
   "number_sections": true,
   "sideBar": true,
   "skip_h1_title": false,
   "title_cell": "Table of Contents",
   "title_sidebar": "Contents",
   "toc_cell": false,
   "toc_position": {},
   "toc_section_display": true,
   "toc_window_display": false
  },
  "varInspector": {
   "cols": {
    "lenName": 16,
    "lenType": 16,
    "lenVar": 40
   },
   "kernels_config": {
    "python": {
     "delete_cmd_postfix": "",
     "delete_cmd_prefix": "del ",
     "library": "var_list.py",
     "varRefreshCmd": "print(var_dic_list())"
    },
    "r": {
     "delete_cmd_postfix": ") ",
     "delete_cmd_prefix": "rm(",
     "library": "var_list.r",
     "varRefreshCmd": "cat(var_dic_list()) "
    }
   },
   "types_to_exclude": [
    "module",
    "function",
    "builtin_function_or_method",
    "instance",
    "_Feature"
   ],
   "window_display": false
  }
 },
 "nbformat": 4,
 "nbformat_minor": 5
}
