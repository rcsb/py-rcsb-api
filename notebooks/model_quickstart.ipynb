{
 "cells": [
  {
   "cell_type": "markdown",
   "id": "1daf39af",
   "metadata": {},
   "source": [
    "<a href=\"https://colab.research.google.com/github/rcsb/py-rcsb-api/blob/master/notebooks/model_quickstart.ipynb\" target=\"_parent\"><img src=\"https://colab.research.google.com/assets/colab-badge.svg\" alt=\"Open In Colab\"/></a>"
   ]
  },
  {
   "cell_type": "markdown",
   "id": "f58ebaf7",
   "metadata": {},
   "source": [
    "# RCSB PDB Sequence Model Server API: Quickstart and examples\n",
    "\n",
    "This notebook provides a quickstart to the `rcsbapi.model` module, which enables access to the RCSB PDB [Model Server API](https://models.rcsb.org/) service.\n",
    "\n",
    "For further details and documentation, please refer to the [readthedocs: ModelServer](TODO)."
   ]
  },
  {
   "cell_type": "code",
   "execution_count": null,
   "id": "71b11a28",
   "metadata": {},
   "outputs": [],
   "source": [
    "%pip install rcsb-api"
   ]
  },
  {
   "cell_type": "code",
   "execution_count": null,
   "id": "56dc5406",
   "metadata": {},
   "outputs": [],
   "source": [
    "from rcsbapi.model import ModelQuery\n",
    "model_query_instance = ModelQuery()"
   ]
  },
  {
   "cell_type": "markdown",
   "id": "9a139759",
   "metadata": {},
   "source": [
    "### Let's Fetch a Full Structure for Entry '1TQN'\n",
    "\n",
    "The \"full\" query gives us the entire structure in the format of our choice.\n",
    "By default, it returns data in plain CIF format (Crystallographic Information File)."
   ]
  },
  {
   "cell_type": "code",
   "execution_count": null,
   "id": "25631b20",
   "metadata": {},
   "outputs": [],
   "source": [
    "entry_id = \"1tqn\"\n",
    "\n",
    "full_cif = model_query_instance.get_full_structure(entry_id=entry_id)\n",
    "\n",
    "# Show a preview\n",
    "print(full_cif[:500])"
   ]
  },
  {
   "cell_type": "markdown",
   "id": "ee3e3b5e",
   "metadata": {},
   "source": [
    "### Saving the Structure to a File\n",
    "\n",
    "What if we want to save this data to disk for later use or visualization?\n",
    "We can do that by setting `download=True` and providing a filename and directory."
   ]
  },
  {
   "cell_type": "code",
   "execution_count": null,
   "id": "624f5249",
   "metadata": {},
   "outputs": [],
   "source": [
    "output_path = model_query_instance.get_full_structure(\n",
    "    entry_id=\"1tqn\",\n",
    "    encoding=\"cif\",\n",
    "    download=True,\n",
    "    filename=\"1tqn_structure.cif\",\n",
    "    file_directory=\"./test-out\"\n",
    ")\n",
    "\n",
    "print(\"File downloaded to:\", output_path)"
   ]
  },
  {
   "cell_type": "markdown",
   "id": "e9c39210",
   "metadata": {},
   "source": [
    "### Downloading in Other Formats: BCIF & GZIP\n",
    "\n",
    "You may want smaller binary versions or compressed files.\n",
    "BCIF is a binary version of CIF, and you can gzip it too."
   ]
  },
  {
   "cell_type": "code",
   "execution_count": null,
   "id": "aad4c95a",
   "metadata": {},
   "outputs": [],
   "source": [
    "compressed_bcif = model_query_instance.get_full_structure(\n",
    "    entry_id=\"1tqn\",\n",
    "    encoding=\"bcif\",\n",
    "    download=True,\n",
    "    compress_gzip=True,\n",
    "    file_directory=\"./test-out\"\n",
    ")\n",
    "\n",
    "print(\"Gzipped BCIF file saved at:\", compressed_bcif)"
   ]
  },
  {
   "cell_type": "markdown",
   "id": "e71272d1",
   "metadata": {},
   "source": [
    "### Working with Multiple Structures at Once\n",
    "\n",
    "Let's say you want to download several structures, you can provide a list."
   ]
  },
  {
   "cell_type": "code",
   "execution_count": null,
   "id": "2227ea56",
   "metadata": {},
   "outputs": [],
   "source": [
    "# List of structure IDs to query\n",
    "entry_ids = [\"1cbs\", \"1tqn\"]\n",
    "\n",
    "# Fetch multiple structures (e.g., \"full\" type) and save the result\n",
    "results = model_query_instance.get_multiple_structures(entry_ids, query_type=\"full\", encoding=\"cif\", download=True)\n",
    "\n",
    "print(results)"
   ]
  },
  {
   "cell_type": "markdown",
   "id": "acdb7474",
   "metadata": {},
   "source": [
    "### Different Types of Queries\n",
    "\n",
    "There are also different types of queries: \n",
    "- full: Fetches the full structure for a given entry.\n",
    "- ligand: Retrieves ligand-related information, including components and interactions.\n",
    "- atoms: Fetches atom-level details.\n",
    "- residue_interaction: Retrieves data on interactions between residues.\n",
    "- residue_surroundings: Provides information about residues surrounding a given structure.\n",
    "- symmetry_mates: Retrieves symmetry-related data.\n",
    "- assembly: Fetches information about molecular assemblies.\n",
    "\n",
    "To get more information about these queries and different types of parameters please refer to the documentation in the read the docs. \n",
    "\n",
    "These are some examples of different types of queries:"
   ]
  },
  {
   "cell_type": "code",
   "execution_count": null,
   "id": "709b5963",
   "metadata": {},
   "outputs": [],
   "source": [
    "from rcsbapi.model import ModelQuery\n",
    "model_query_instance = ModelQuery()\n",
    "entry_id = \"1tqn\"\n",
    "entry_ids = [\"1tqn\", \"4HHB\", \"1STP\"]"
   ]
  },
  {
   "cell_type": "markdown",
   "id": "1b4504b9",
   "metadata": {},
   "source": [
    "### Full Structure"
   ]
  },
  {
   "cell_type": "code",
   "execution_count": null,
   "id": "4c0be9ac",
   "metadata": {},
   "outputs": [],
   "source": [
    "result = model_query_instance.get_full_structure(\n",
    "    entry_id=entry_id, encoding=\"cif\", model_nums=\"1\", transform=\"rotate\", copy_all_categories=True\n",
    ")\n",
    "print(result[:500])"
   ]
  },
  {
   "cell_type": "markdown",
   "id": "2e3d3697",
   "metadata": {},
   "source": [
    "### Ligand"
   ]
  },
  {
   "cell_type": "code",
   "execution_count": null,
   "id": "070fea10",
   "metadata": {},
   "outputs": [],
   "source": [
    "ligand_result = model_query_instance.get_ligand(\n",
    "    entry_id=entry_id, label_asym_id=\"A\", encoding=\"cif\", label_seq_id=10, auth_comp_id=\"A00\"\n",
    ")\n",
    "print(ligand_result[:500])"
   ]
  },
  {
   "cell_type": "markdown",
   "id": "c80b4405",
   "metadata": {},
   "source": [
    "### Atoms"
   ]
  },
  {
   "cell_type": "code",
   "execution_count": null,
   "id": "2201b97a",
   "metadata": {},
   "outputs": [],
   "source": [
    "atom_result = model_query_instance.get_atoms(\n",
    "    entry_id=entry_id, label_entity_id=\"A\", encoding=\"cif\", label_atom_id=\"CA\", model_nums=\"1\"\n",
    ")\n",
    "print(atom_result[:500])"
   ]
  },
  {
   "cell_type": "markdown",
   "id": "b8fd0313",
   "metadata": {},
   "source": [
    "### Residue Interaction"
   ]
  },
  {
   "cell_type": "code",
   "execution_count": null,
   "id": "36461d81",
   "metadata": {},
   "outputs": [],
   "source": [
    "interaction_result = model_query_instance.get_residue_interaction(\n",
    "    entry_id=entry_id, radius=10.0, encoding=\"cif\", assembly_name=\"1\", model_nums=\"1\"\n",
    ")\n",
    "print(interaction_result[:500])"
   ]
  },
  {
   "cell_type": "markdown",
   "id": "3ee9bb02",
   "metadata": {},
   "source": [
    "### Residue Surroundings"
   ]
  },
  {
   "cell_type": "code",
   "execution_count": null,
   "id": "5207b950",
   "metadata": {},
   "outputs": [],
   "source": [
    "surrounding_result = model_query_instance.get_residue_surroundings(\n",
    "    entry_id=entry_id, radius=10.0, encoding=\"cif\", label_entity_id=\"A\", auth_comp_id=\"A00\"\n",
    ")\n",
    "print(surrounding_result[:500])"
   ]
  },
  {
   "cell_type": "markdown",
   "id": "30604e53",
   "metadata": {},
   "source": [
    "### Surrounding Ligands"
   ]
  },
  {
   "cell_type": "code",
   "execution_count": null,
   "id": "edd63f77",
   "metadata": {},
   "outputs": [],
   "source": [
    "ligands_result = model_query_instance.get_surrounding_ligands(\n",
    "    entry_id=entry_id, radius=10.0, encoding=\"cif\", omit_water=True\n",
    ")\n",
    "print(ligands_result[:500])"
   ]
  },
  {
   "cell_type": "markdown",
   "id": "f8122e1b",
   "metadata": {},
   "source": [
    "### Symmetry Mates"
   ]
  },
  {
   "cell_type": "code",
   "execution_count": null,
   "id": "a8606b6f",
   "metadata": {},
   "outputs": [],
   "source": [
    "symmetry_result = model_query_instance.get_symmetry_mates(\n",
    "    entry_id=entry_id, radius=10.0, encoding=\"cif\", model_nums=\"1\"\n",
    ")\n",
    "print(symmetry_result[:500])"
   ]
  },
  {
   "cell_type": "markdown",
   "id": "95fb9edf",
   "metadata": {},
   "source": [
    "### Assembly"
   ]
  },
  {
   "cell_type": "code",
   "execution_count": null,
   "id": "fdea3aa5",
   "metadata": {},
   "outputs": [],
   "source": [
    "assembly_result = model_query_instance.get_assembly(\n",
    "    entry_id=entry_id, name=\"1\", encoding=\"cif\", model_nums=\"1\", transform=\"rotate\"\n",
    ")\n",
    "print(assembly_result[:500])"
   ]
  }
 ],
 "metadata": {
  "language_info": {
   "name": "python"
  }
 },
 "nbformat": 4,
 "nbformat_minor": 5
}
