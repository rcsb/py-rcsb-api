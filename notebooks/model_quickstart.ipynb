{
 "cells": [
  {
   "cell_type": "markdown",
   "id": "1daf39af",
   "metadata": {},
   "source": [
    "<a href=\"https://colab.research.google.com/github/rcsb/py-rcsb-api/blob/master/notebooks/model_quickstart.ipynb\" target=\"_parent\"><img src=\"https://colab.research.google.com/assets/colab-badge.svg\" alt=\"Open In Colab\"/></a>"
   ]
  },
  {
   "cell_type": "markdown",
   "id": "f58ebaf7",
   "metadata": {},
   "source": [
    "# RCSB PDB Model Server API: Quickstart and examples\n",
    "\n",
    "This notebook provides a quickstart to the `rcsbapi.model` module, which enables access to the RCSB PDB [Model Server API](https://models.rcsb.org/) service.\n",
    "\n",
    "For further details and documentation, please refer to the [readthedocs: ModelServer](https://rcsbapi.readthedocs.io/en/latest/model_api/quickstart.html)."
   ]
  },
  {
   "cell_type": "markdown",
   "id": "88b1db75",
   "metadata": {},
   "source": [
    "## Getting started\n",
    "### Installation"
   ]
  },
  {
   "cell_type": "code",
   "execution_count": null,
   "id": "71b11a28",
   "metadata": {},
   "outputs": [],
   "source": [
    "%pip install rcsb-api"
   ]
  },
  {
   "cell_type": "markdown",
   "id": "5fb85493",
   "metadata": {},
   "source": [
    "### Package and module import"
   ]
  },
  {
   "cell_type": "code",
   "execution_count": null,
   "id": "56dc5406",
   "metadata": {},
   "outputs": [],
   "source": [
    "from rcsbapi.model import ModelQuery\n",
    "model_query = ModelQuery()"
   ]
  },
  {
   "cell_type": "markdown",
   "id": "9a139759",
   "metadata": {},
   "source": [
    "## Fetching model/structure data\n",
    "\n",
    "Let's fetch the full structure data for PDB entry `\"1TQN\"`.\n",
    "\n",
    "The `.get_full_structure()` query method gives us the entire structure in the format of our choice. By default, it returns data in mmCIF format (Crystallographic Information File)."
   ]
  },
  {
   "cell_type": "code",
   "execution_count": null,
   "id": "25631b20",
   "metadata": {},
   "outputs": [],
   "source": [
    "entry_id = \"1TQN\"\n",
    "\n",
    "full_cif = model_query.get_full_structure(entry_id=entry_id)\n",
    "\n",
    "# Show a preview\n",
    "print(full_cif[:500])"
   ]
  },
  {
   "cell_type": "markdown",
   "id": "ee3e3b5e",
   "metadata": {},
   "source": [
    "### Saving the Structure to a File\n",
    "\n",
    "What if we want to save this data to disk for later use or visualization?\n",
    "We can do that by setting `download=True` and providing a directory to which to save the file."
   ]
  },
  {
   "cell_type": "code",
   "execution_count": null,
   "id": "624f5249",
   "metadata": {},
   "outputs": [],
   "source": [
    "output_path = model_query.get_full_structure(\n",
    "    entry_id=\"1tqn\",\n",
    "    encoding=\"cif\",\n",
    "    download=True,\n",
    "    file_directory=\"model-output\"\n",
    ")\n",
    "\n",
    "print(\"File downloaded to:\", output_path)"
   ]
  },
  {
   "cell_type": "markdown",
   "id": "ce2fa7bb",
   "metadata": {},
   "source": [
    "If desired, yu can also provide a custom `filename` for the file:"
   ]
  },
  {
   "cell_type": "code",
   "execution_count": null,
   "id": "4053032b",
   "metadata": {},
   "outputs": [],
   "source": [
    "output_path = model_query.get_full_structure(\n",
    "    entry_id=\"1tqn\",\n",
    "    encoding=\"cif\",\n",
    "    download=True,\n",
    "    file_directory=\"model-output\",\n",
    "    filename=\"1tqn_structure.cif\"\n",
    ")\n",
    "\n",
    "print(\"File downloaded to:\", output_path)"
   ]
  },
  {
   "cell_type": "markdown",
   "id": "e9c39210",
   "metadata": {},
   "source": [
    "### Downloading in Other Formats: BCIF & GZIP\n",
    "\n",
    "You may want smaller binary versions or compressed files.\n",
    "BCIF is a binary version of CIF, and you can gzip it too."
   ]
  },
  {
   "cell_type": "code",
   "execution_count": null,
   "id": "aad4c95a",
   "metadata": {},
   "outputs": [],
   "source": [
    "output_path = model_query.get_full_structure(\n",
    "    entry_id=\"1tqn\",\n",
    "    encoding=\"bcif\",\n",
    "    download=True,\n",
    "    compress_gzip=True,\n",
    "    file_directory=\"model-output\"\n",
    ")\n",
    "\n",
    "print(\"Gzipped BCIF file saved at:\", output_path)"
   ]
  },
  {
   "cell_type": "markdown",
   "id": "e2150abb",
   "metadata": {},
   "source": [
    "## Fetching Ligand Data \n",
    "\n",
    "Now let's fetch specifically the ligand data (metadata and coordinates) from the structure."
   ]
  },
  {
   "cell_type": "markdown",
   "id": "bff1a071",
   "metadata": {},
   "source": [
    "### Get the first or specific occurrence of a given ligand\n",
    "If your structure only has one instance of a given ligand or you are only interested in fetching a single ligand instance (e.g., if you are only interested in one particular `HEM` ligand in the structure), you can use the `.get_ligand()` method.\n",
    "\n",
    "By default, this returns only the first instance of the specified ligand (e.g., if there are 10 `HEM` ligands in the structure, only the first one is returned). If you want a specific instance of the ligand, you can specify `label_asym_id` and/or `label_entity_id`."
   ]
  },
  {
   "cell_type": "code",
   "execution_count": null,
   "id": "6da17170",
   "metadata": {},
   "outputs": [],
   "source": [
    "# Fetch the only occurrence of the `HEM` ligand for entry \"1TQN\"\n",
    "result = model_query.get_ligand(entry_id=\"1TQN\", label_comp_id=\"HEM\", download=True, file_directory=\"model-output\")\n",
    "print(result)"
   ]
  },
  {
   "cell_type": "markdown",
   "id": "9684050f",
   "metadata": {},
   "source": [
    "### Get all occurrence of a given ligand\n",
    "If you want to get *all* instances of a given ligand in a structure, you can use the `.get_atoms()` method. \n",
    "\n",
    "This will fetch all `atom_site` data for a particular component using `label_comp_id` (e.g., all `HEM` ligands, all water molecules `HOH`, or all `CYS` residues), a given entity, a specific residue in the sequence, and/or a combination of these criteria."
   ]
  },
  {
   "cell_type": "code",
   "execution_count": null,
   "id": "90e01e36",
   "metadata": {},
   "outputs": [],
   "source": [
    "# Fetch the metadata and `atom_site` coordinates of ALL occurrence of `HEM` in entry \"4HHB\"\n",
    "result = model_query.get_atoms(entry_id=\"4HHB\", label_comp_id=\"HEM\", download=True, filename=\"4HHB_HEM_atoms.cif\", file_directory=\"model-output\")\n",
    "print(result)"
   ]
  },
  {
   "cell_type": "markdown",
   "id": "e71272d1",
   "metadata": {},
   "source": [
    "## Working with Multiple Structures\n",
    "\n",
    "Let's say you want to download or fetch data for several structures at once. You can do so by providing a list to the `.get_multiple_structures()` method:"
   ]
  },
  {
   "cell_type": "code",
   "execution_count": null,
   "id": "2227ea56",
   "metadata": {},
   "outputs": [],
   "source": [
    "# List of structure IDs to query\n",
    "entry_ids = [\"1cbs\", \"4hhb\"]\n",
    "\n",
    "# Fetch multiple structures (e.g., \"full\" type) and save the result\n",
    "results = model_query.get_multiple_structures(\n",
    "    entry_ids,\n",
    "    query_type=\"full\",\n",
    "    encoding=\"cif\",\n",
    "    download=True,\n",
    "    compress_gzip=True,\n",
    "    file_directory=\"model-output\"\n",
    ")\n",
    "\n",
    "print(results)"
   ]
  },
  {
   "cell_type": "markdown",
   "id": "acdb7474",
   "metadata": {},
   "source": [
    "### Different Types of Queries\n",
    "\n",
    "This `.get_multiple_structures()` method is ammenable to any of the available `query_type`s:\n",
    "- `full`: Fetches the full structure for a given entry.\n",
    "- `ligand`: Retrieves ligand-related information, including components and interactions.\n",
    "- `atoms`: Fetches atom-level details.\n",
    "- `residue_interaction`: Retrieves data on interactions between residues.\n",
    "- `residue_surroundings`: Provides information about residues surrounding a given structure.\n",
    "- `surrounding_ligands`: Provides information about residues surrounding a given structure.\n",
    "- `symmetry_mates`: Retrieves symmetry-related data.\n",
    "- `assembly`: Fetches information about molecular assemblies.\n",
    "\n",
    "For more information about these queries and different types of parameters, please refer to the [readthedocs documentation](https://rcsbapi.readthedocs.io/en/latest/model_api/quickstart.html)."
   ]
  }
 ],
 "metadata": {
  "kernelspec": {
   "display_name": ".venv",
   "language": "python",
   "name": "python3"
  },
  "language_info": {
   "codemirror_mode": {
    "name": "ipython",
    "version": 3
   },
   "file_extension": ".py",
   "mimetype": "text/x-python",
   "name": "python",
   "nbconvert_exporter": "python",
   "pygments_lexer": "ipython3",
   "version": "3.12.10"
  }
 },
 "nbformat": 4,
 "nbformat_minor": 5
}
