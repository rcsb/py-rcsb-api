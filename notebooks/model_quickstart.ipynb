{
 "cells": [
  {
   "cell_type": "markdown",
   "id": "1daf39af",
   "metadata": {},
   "source": [
    "<a href=\"https://colab.research.google.com/github/rcsb/py-rcsb-api/blob/master/notebooks/model_quickstart.ipynb\" target=\"_parent\"><img src=\"https://colab.research.google.com/assets/colab-badge.svg\" alt=\"Open In Colab\"/></a>"
   ]
  },
  {
   "cell_type": "markdown",
   "id": "f58ebaf7",
   "metadata": {},
   "source": [
    "# RCSB PDB Sequence Model Server API: Quickstart and examples\n",
    "\n",
    "This notebook provides a quickstart to the `rcsbapi.model` module, which enables access to the RCSB PDB [Model Server API](https://models.rcsb.org/) service.\n",
    "\n",
    "For further details and documentation, please refer to the [readthedocs: ModelServer](TODO)."
   ]
  },
  {
   "cell_type": "code",
   "execution_count": null,
   "id": "71b11a28",
   "metadata": {},
   "outputs": [],
   "source": [
    "%pip install rcsb-api"
   ]
  },
  {
   "cell_type": "code",
   "execution_count": null,
   "id": "56dc5406",
   "metadata": {},
   "outputs": [],
   "source": [
    "from rcsbapi.model import model_query\n",
    "query = model_query()"
   ]
  },
  {
   "cell_type": "markdown",
   "id": "9a139759",
   "metadata": {},
   "source": [
    "### Let's Fetch a Full Structure for Entry '1TQN'\n",
    "\n",
    "The \"full\" query gives us the entire structure in the format of our choice.\n",
    "By default, it returns data in plain CIF format (Crystallographic Information File)."
   ]
  },
  {
   "cell_type": "code",
   "execution_count": null,
   "id": "25631b20",
   "metadata": {},
   "outputs": [],
   "source": [
    "entry_id = \"1tqn\"\n",
    "\n",
    "full_cif = query.get_full_structure(entry_id=entry_id)\n",
    "\n",
    "# Show a preview\n",
    "print(full_cif[:500])"
   ]
  },
  {
   "cell_type": "markdown",
   "id": "ee3e3b5e",
   "metadata": {},
   "source": [
    "### Saving the Structure to a File\n",
    "\n",
    "What if we want to save this data to disk for later use or visualization?\n",
    "We can do that by setting `download=True` and providing a filename and directory."
   ]
  },
  {
   "cell_type": "code",
   "execution_count": null,
   "id": "624f5249",
   "metadata": {},
   "outputs": [],
   "source": [
    "output_path = query.get_full_structure(\n",
    "    entry_id=\"1tqn\",\n",
    "    encoding=\"cif\",\n",
    "    download=True,\n",
    "    filename=\"1tqn_structure.cif\",\n",
    "    file_directory=\"./test-out\"\n",
    ")\n",
    "\n",
    "print(\"File downloaded to:\", output_path)"
   ]
  },
  {
   "cell_type": "markdown",
   "id": "e9c39210",
   "metadata": {},
   "source": [
    "### Downloading in Other Formats: BCIF & GZIP\n",
    "\n",
    "You may want smaller binary versions or compressed files.\n",
    "BCIF is a binary version of CIF, and you can gzip it too."
   ]
  },
  {
   "cell_type": "code",
   "execution_count": null,
   "id": "aad4c95a",
   "metadata": {},
   "outputs": [],
   "source": [
    "compressed_bcif = query.get_full_structure(\n",
    "    entry_id=\"1tqn\",\n",
    "    encoding=\"bcif\",\n",
    "    download=True,\n",
    "    compress_gzip=True,\n",
    "    file_directory=\"./test-out\"\n",
    ")\n",
    "\n",
    "print(\"Gzipped BCIF file saved at:\", compressed_bcif)"
   ]
  },
  {
   "cell_type": "markdown",
   "id": "e71272d1",
   "metadata": {},
   "source": [
    "### Working with Multiple Structures at Once\n",
    "\n",
    "Let's say you want to download several structures, you can provide a list."
   ]
  },
  {
   "cell_type": "code",
   "execution_count": null,
   "id": "2227ea56",
   "metadata": {},
   "outputs": [],
   "source": [
    "# List of structure IDs to query\n",
    "entry_ids = [\"1cbs\", \"1tqn\"]\n",
    "\n",
    "# Fetch multiple structures (e.g., \"full\" type) and save the result\n",
    "results = query.get_multiple_structures(entry_ids, query_type=\"full\", encoding=\"cif\", download=True)\n",
    "\n",
    "print(results)"
   ]
  },
  {
   "cell_type": "markdown",
   "id": "acdb7474",
   "metadata": {},
   "source": [
    "### Different Types of Queries\n",
    "\n",
    "There are also different types of queries: \n",
    "- full: Fetches the full structure for a given entry.\n",
    "- ligand: Retrieves ligand-related information, including components and interactions.\n",
    "- atoms: Fetches atom-level details.\n",
    "- residue_interaction: Retrieves data on interactions between residues.\n",
    "- residue_surroundings: Provides information about residues surrounding a given structure.\n",
    "- symmetry_mates: Retrieves symmetry-related data.\n",
    "- assembly: Fetches information about molecular assemblies.\n",
    "\n",
    "To get more information about these queries and different types of parameters please refer to the documentation in the read the docs:"
   ]
  }
 ],
 "metadata": {
  "language_info": {
   "name": "python"
  }
 },
 "nbformat": 4,
 "nbformat_minor": 5
}
