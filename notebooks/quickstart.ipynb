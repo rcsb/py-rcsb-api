{
 "cells": [
  {
   "cell_type": "markdown",
   "metadata": {},
   "source": [
    "<a href=\"https://colab.research.google.com/github/rcsb/py-rcsb-api/blob/master/notebooks/quickstart.ipynb\" target=\"_parent\"><img src=\"https://colab.research.google.com/assets/colab-badge.svg\" alt=\"Open In Colab\"/></a>"
   ]
  },
  {
   "cell_type": "markdown",
   "metadata": {},
   "source": [
    "## RCSB PDB Data API: Quickstart\n",
    "\n",
    "This Quickstart notebook will walk through the basics of creating and executing queries using this package. For more in-depth documentation, reference the [readthedocs page](https://rcsbapi.readthedocs.io/en/latest/index.html).\n",
    "\n",
    "\\\n",
    "Before beginning, you must install the package:\n",
    "\n",
    "```pip install rcsb-api```"
   ]
  },
  {
   "cell_type": "code",
   "execution_count": null,
   "metadata": {},
   "outputs": [],
   "source": [
    "%pip install rcsb-api"
   ]
  },
  {
   "cell_type": "markdown",
   "metadata": {},
   "source": [
    "## Creating and executing queries"
   ]
  },
  {
   "cell_type": "markdown",
   "metadata": {},
   "source": [
    "To create a `Query` object, you need to provide three arguments:\n",
    "- `input_type`: input_types are points where you can begin your query. Some examples are entry, polymer_entity, and polymer_entity_instance. For a full list of input_types see the [readthedocs](https://rcsbapi.readthedocs.io/en/latest/query_construction.html#input-type).\n",
    "- `input_ids`: input_ids are accepted as either a dictionary (for single IDs) or a list of PDB-formatted IDs (for multiple IDs).\n",
    "- `return_data_list`: list of data items to return. These must be unique path segments (specified using dots to separate each name). Further explained [below](#Providing-specific-and-unique-field-names/paths).\n",
    "\n",
    "(More details on input arguments can be found in [readthedocs: Query Construction](https://rcsbapi.readthedocs.io/en/latest/query_construction.html#query-objects).)\n",
    "\n",
    "For example, to create a `Query` object requesting all non-polymer components of a structure (ions, cofactors, etc):"
   ]
  },
  {
   "cell_type": "code",
   "execution_count": 30,
   "metadata": {},
   "outputs": [],
   "source": [
    "from rcsbapi.data import Schema, Query\n",
    "from pprint import pprint  # for easier-to-read output\n",
    "\n",
    "query = Query(\n",
    "    input_type=\"entry\",\n",
    "    input_ids=[\"4HHB\"],\n",
    "    return_data_list=[\"nonpolymer_bound_components\"]  # must be unique field or unique path segment\n",
    ")"
   ]
  },
  {
   "cell_type": "markdown",
   "metadata": {},
   "source": [
    "After creating a `Query` object, you can now run it with `.exec()` or view the GraphQL query with `.get_editor_link()`:"
   ]
  },
  {
   "cell_type": "code",
   "execution_count": 35,
   "metadata": {},
   "outputs": [
    {
     "name": "stdout",
     "output_type": "stream",
     "text": [
      "{'data': {'entry': {'rcsb_entry_info': {'nonpolymer_bound_components': ['HEM']},\n",
      "                    'rcsb_id': '4HHB'}}}\n"
     ]
    }
   ],
   "source": [
    "# Execute the query and print the results\n",
    "return_data = query.exec()\n",
    "pprint(return_data)"
   ]
  },
  {
   "cell_type": "code",
   "execution_count": 36,
   "metadata": {},
   "outputs": [
    {
     "data": {
      "text/plain": [
       "'https://data.rcsb.org/graphql/index.html?query=%7B%20entry%28entry_id%3A%20%224HHB%22%29%20%7B%0A%20%20rcsb_id%0A%20%20%20%20rcsb_entry_info%7B%0A%20%20%20%20%20%20nonpolymer_bound_components%0A%20%20%20%20%20%20%7D%0A%20%7D%0A%7D%0A'"
      ]
     },
     "execution_count": 36,
     "metadata": {},
     "output_type": "execute_result"
    }
   ],
   "source": [
    "# Print the GraphQL editor URL\n",
    "query.get_editor_link()"
   ]
  },
  {
   "cell_type": "markdown",
   "metadata": {},
   "source": [
    "### Querying multiple IDs\n",
    "You can search multiple entries by starting from `input_type` \"entries\"."
   ]
  },
  {
   "cell_type": "code",
   "execution_count": 12,
   "metadata": {},
   "outputs": [
    {
     "name": "stdout",
     "output_type": "stream",
     "text": [
      "{'data': {'entries': [{'rcsb_entry_info': {'nonpolymer_bound_components': ['HEM']},\n",
      "                       'rcsb_id': '4HHB'},\n",
      "                      {'rcsb_entry_info': {'nonpolymer_bound_components': ['ZN']},\n",
      "                       'rcsb_id': '12CA'},\n",
      "                      {'rcsb_entry_info': {'nonpolymer_bound_components': ['NAG',\n",
      "                                                                           'PLM',\n",
      "                                                                           'RET']},\n",
      "                       'rcsb_id': '3PQR'}]}}\n"
     ]
    }
   ],
   "source": [
    "from rcsbapi.data import Schema, Query\n",
    "from pprint import pprint  # for easier-to-read output\n",
    "\n",
    "# Search multiple entries using \"entries\" instead of \"entry\"\n",
    "query = Query(\n",
    "    input_type=\"entries\",\n",
    "    input_ids=[\"4HHB\", \"12CA\", \"3PQR\"],\n",
    "    return_data_list=[\"nonpolymer_bound_components\"]\n",
    ")\n",
    "return_data = query.exec()\n",
    "pprint(return_data)"
   ]
  },
  {
   "cell_type": "markdown",
   "metadata": {},
   "source": [
    "### Querying multiple data items\n",
    "You can also request multiple data items by adding to the `return_data_list`."
   ]
  },
  {
   "cell_type": "code",
   "execution_count": 13,
   "metadata": {},
   "outputs": [
    {
     "name": "stdout",
     "output_type": "stream",
     "text": [
      "{'data': {'entries': [{'citation': [{'title': 'The crystal structure of human '\n",
      "                                              'deoxyhaemoglobin at 1.74 A '\n",
      "                                              'resolution'},\n",
      "                                    {'title': 'Stereochemistry of Iron in '\n",
      "                                              'Deoxyhaemoglobin'},\n",
      "                                    {'title': 'Regulation of Oxygen Affinity '\n",
      "                                              'of Hemoglobin. Influence of '\n",
      "                                              'Structure of the Globin on the '\n",
      "                                              'Heme Iron'},\n",
      "                                    {'title': 'Three-Dimensional Fourier '\n",
      "                                              'Synthesis of Human '\n",
      "                                              'Deoxyhemoglobin at 2.5 '\n",
      "                                              'Angstroms Resolution, I.X-Ray '\n",
      "                                              'Analysis'},\n",
      "                                    {'title': 'Three-Dimensional Fourier '\n",
      "                                              'Synthesis of Human '\n",
      "                                              'Deoxyhaemoglobin at 2.5 '\n",
      "                                              'Angstroms Resolution, '\n",
      "                                              'Refinement of the Atomic Model'},\n",
      "                                    {'title': 'Three-Dimensional Fourier '\n",
      "                                              'Synthesis of Human '\n",
      "                                              'Deoxyhaemoglobin at 3.5 '\n",
      "                                              'Angstroms Resolution'},\n",
      "                                    {'title': None},\n",
      "                                    {'title': None},\n",
      "                                    {'title': None}],\n",
      "                       'rcsb_entry_info': {'nonpolymer_bound_components': ['HEM'],\n",
      "                                           'polymer_composition': 'heteromeric '\n",
      "                                                                  'protein'},\n",
      "                       'rcsb_id': '4HHB'},\n",
      "                      {'citation': [{'title': 'Altering the mouth of a '\n",
      "                                              'hydrophobic pocket. Structure '\n",
      "                                              'and kinetics of human carbonic '\n",
      "                                              'anhydrase II mutants at residue '\n",
      "                                              'Val-121.'}],\n",
      "                       'rcsb_entry_info': {'nonpolymer_bound_components': ['ZN'],\n",
      "                                           'polymer_composition': 'homomeric '\n",
      "                                                                  'protein'},\n",
      "                       'rcsb_id': '12CA'},\n",
      "                      {'citation': [{'title': 'Crystal structure of '\n",
      "                                              'metarhodopsin II.'}],\n",
      "                       'rcsb_entry_info': {'nonpolymer_bound_components': ['NAG',\n",
      "                                                                           'PLM',\n",
      "                                                                           'RET'],\n",
      "                                           'polymer_composition': 'protein/oligosaccharide'},\n",
      "                       'rcsb_id': '3PQR'}]}}\n"
     ]
    }
   ],
   "source": [
    "from rcsbapi.data import Schema, Query\n",
    "\n",
    "#  Query multiple fields in return_data_list\n",
    "query = Query(\n",
    "    input_type=\"entries\",\n",
    "    input_ids=[\"4HHB\", \"12CA\", \"3PQR\"],\n",
    "    return_data_list=[\n",
    "        \"nonpolymer_bound_components\",\n",
    "        \"citation.title\",\n",
    "        \"rcsb_entry_info.polymer_composition\"\n",
    "    ]\n",
    ")\n",
    "return_data = query.exec()\n",
    "pprint(return_data)"
   ]
  },
  {
   "cell_type": "markdown",
   "metadata": {},
   "source": [
    "### Autocompletion of nested fields\n",
    "If there are fields nested under a requested data item in `return_data_list`, the package will add all sub-fields to the query. This allows you to make more general requests to get all information under that field (e.g., `\"exptl\"`). If you would like a more precise query, you can still request specific fields (e.g., `\"exptl.method\"`)."
   ]
  },
  {
   "cell_type": "code",
   "execution_count": 14,
   "metadata": {},
   "outputs": [
    {
     "name": "stdout",
     "output_type": "stream",
     "text": [
      "{'data': {'entries': [{'exptl': [{'crystals_number': None,\n",
      "                                  'details': None,\n",
      "                                  'method': 'X-RAY DIFFRACTION',\n",
      "                                  'method_details': None}],\n",
      "                       'rcsb_id': '4HHB'}]}}\n"
     ]
    }
   ],
   "source": [
    "from rcsbapi.data import Schema, Query\n",
    "\n",
    "# Requesting \"exptl\" gets all fields underneath that field\n",
    "query = Query(\n",
    "    input_type=\"entries\",\n",
    "    input_ids=[\"4HHB\"],\n",
    "    return_data_list=[\"exptl\"] # requests exptl.crystals_number, exptl.method, etc.\n",
    ")\n",
    "return_data = query.exec()\n",
    "pprint(return_data)"
   ]
  },
  {
   "cell_type": "code",
   "execution_count": 16,
   "metadata": {},
   "outputs": [
    {
     "data": {
      "text/plain": [
       "'https://data.rcsb.org/graphql/index.html?query=%7B%20entries%28entry_ids%3A%20%5B%224HHB%22%5D%29%20%7B%0A%20%20rcsb_id%0A%20%20%20%20exptl%7B%0A%20%20%20%20%20%20%20%20crystals_number%0A%20%20%20%20%20%20%20%20method%0A%20%20%20%20%20%20%20%20details%0A%20%20%20%20%20%20%20%20method_details%0A%20%20%20%20%20%20%7D%0A%20%7D%0A%7D%0A'"
      ]
     },
     "execution_count": 16,
     "metadata": {},
     "output_type": "execute_result"
    }
   ],
   "source": [
    "# To view the generated GraphQL query:\n",
    "query.get_editor_link()"
   ]
  },
  {
   "cell_type": "markdown",
   "metadata": {},
   "source": [
    "### Querying different `input_types`\n",
    "You can also start queries from various `input_types` (e.g., `polymer_entities`, `polymer_entity_instances`, `uniprot`). (For more examples, see [readthedocs: Additional Examples](https://rcsbapi.readthedocs.io/en/latest/additional_examples.html))"
   ]
  },
  {
   "cell_type": "code",
   "execution_count": null,
   "metadata": {},
   "outputs": [],
   "source": [
    "# Search from input_type \"polymer_entities\"\n",
    "from rcsbapi.data import Schema, Query\n",
    "query = Query(\n",
    "    input_type=\"polymer_entities\",\n",
    "    input_ids=[\"2CPK_1\", \"3WHM_1\", \"2D5Z_1\"],\n",
    "    return_data_list=[\n",
    "        \"polymer_entities.rcsb_id\",\n",
    "        \"rcsb_entity_source_organism.ncbi_taxonomy_id\",\n",
    "        \"rcsb_entity_source_organism.ncbi_scientific_name\",\n",
    "        \"cluster_id\",\n",
    "        \"identity\"\n",
    "    ]\n",
    ")\n",
    "return_data = query.exec()\n",
    "pprint(return_data)"
   ]
  },
  {
   "cell_type": "code",
   "execution_count": null,
   "metadata": {},
   "outputs": [],
   "source": [
    "# Search from input_type \"polymer_entity_instances\"\n",
    "from rcsbapi.data import Schema, Query\n",
    "query = Query(\n",
    "    input_type=\"polymer_entity_instances\",\n",
    "    input_ids=[\"4HHB.A\", \"12CA.A\", \"3PQR.A\"],\n",
    "    return_data_list=[\n",
    "        \"polymer_entity_instances.rcsb_id\",\n",
    "        \"rcsb_polymer_instance_annotation.annotation_id\",\n",
    "        \"rcsb_polymer_instance_annotation.name\",\n",
    "        \"rcsb_polymer_instance_annotation.type\"\n",
    "    ]\n",
    ")\n",
    "return_data = query.exec()\n",
    "pprint(return_data)"
   ]
  },
  {
   "cell_type": "code",
   "execution_count": null,
   "metadata": {},
   "outputs": [],
   "source": [
    "# Search from input_type \"uniprot\"\n",
    "from rcsbapi.data import Schema, Query\n",
    "query = Query(\n",
    "    input_type=\"uniprot\",\n",
    "    input_ids=[\"P68871\"],\n",
    "    return_data_list=[\n",
    "        \"rcsb_uniprot_annotation\"\n",
    "    ]\n",
    ")\n",
    "return_data = query.exec()\n",
    "pprint(return_data)"
   ]
  },
  {
   "cell_type": "markdown",
   "metadata": {},
   "source": [
    "## Determining fields for `return_data_list`"
   ]
  },
  {
   "cell_type": "markdown",
   "metadata": {},
   "source": [
    "### Providing specific and unique field names/paths\n",
    "There are some fields that must be further specified using multiple fields separated by dots. You can search for the dotation of a field by using `find_paths(input_type, field_name)`.\n",
    "\n",
    "For example, the field, `\"polymer_composition\"`, is redundant between several nodes: "
   ]
  },
  {
   "cell_type": "code",
   "execution_count": null,
   "metadata": {},
   "outputs": [],
   "source": [
    "# The field \"polymer_composition\" isn't specific enough\n",
    "from rcsbapi.data import Schema, Query\n",
    "query = Query(\n",
    "    input_type=\"entries\",\n",
    "    input_ids=[\"4HHB\"],\n",
    "    return_data_list=[\"polymer_composition\"]\n",
    ")\n",
    "\n",
    "# This will throw a ValueError, which will print out up to 10 valid paths that you can use instead:"
   ]
  },
  {
   "cell_type": "markdown",
   "metadata": {},
   "source": [
    "```\n",
    "ValueError: \"polymer_composition\" exists, but is not a unique field, must specify further.\n",
    "3 of 3 possible paths:\n",
    "  assemblies.interfaces.rcsb_interface_info.polymer_composition\n",
    "  assemblies.rcsb_assembly_info.polymer_composition\n",
    "  rcsb_entry_info.polymer_composition\n",
    "```"
   ]
  },
  {
   "cell_type": "markdown",
   "metadata": {},
   "source": [
    "To get a list of all possible paths for a given field name (or a path segment, using dot notation, e.g., `field1.field2`), you can use the `Schema().find_paths()` method:\n",
    "```python\n",
    "from rcsbapi.data import Schema\n",
    "schema = Schema()\n",
    "schema.find_paths(input_type, field_name_or_path_segment)\n",
    "```\n",
    "For example:"
   ]
  },
  {
   "cell_type": "code",
   "execution_count": 21,
   "metadata": {},
   "outputs": [
    {
     "data": {
      "text/plain": [
       "['assemblies.interfaces.rcsb_interface_info.polymer_composition',\n",
       " 'assemblies.rcsb_assembly_info.polymer_composition',\n",
       " 'rcsb_entry_info.polymer_composition']"
      ]
     },
     "execution_count": 21,
     "metadata": {},
     "output_type": "execute_result"
    }
   ],
   "source": [
    "# Find all paths:\n",
    "from rcsbapi.data import Schema\n",
    "schema = Schema()\n",
    "schema.find_paths(input_type=\"entries\", return_data_name=\"polymer_composition\")"
   ]
  },
  {
   "cell_type": "code",
   "execution_count": 23,
   "metadata": {},
   "outputs": [
    {
     "name": "stdout",
     "output_type": "stream",
     "text": [
      "{'data': {'entries': [{'rcsb_entry_info': {'polymer_composition': 'heteromeric '\n",
      "                                                                  'protein'},\n",
      "                       'rcsb_id': '4HHB'}]}}\n"
     ]
    }
   ],
   "source": [
    "# By looking through the list, find the intended field path\n",
    "query = Query(\n",
    "    input_type=\"entries\",\n",
    "    input_ids=[\"4HHB\"],\n",
    "    return_data_list=[\"rcsb_entry_info.polymer_composition\"]\n",
    ")\n",
    "return_data = query.exec()\n",
    "pprint(return_data)"
   ]
  },
  {
   "cell_type": "markdown",
   "metadata": {},
   "source": [
    "###  Discovering field names\n",
    "If you're unsure which fields exist, you can call `find_field_names(search_substring)`.\n",
    "\n",
    "For example, to find all fields containing `\"comp\"`:"
   ]
  },
  {
   "cell_type": "code",
   "execution_count": 27,
   "metadata": {},
   "outputs": [
    {
     "data": {
      "text/plain": [
       "['chem_comps',\n",
       " 'chem_comp',\n",
       " 'label_comp_id',\n",
       " 'chem_comp_monomers',\n",
       " 'chem_comp_nstd_monomers',\n",
       " 'pdbx_chem_comp_audit',\n",
       " 'pdbx_chem_comp_descriptor',\n",
       " 'pdbx_chem_comp_feature',\n",
       " 'pdbx_chem_comp_identifier',\n",
       " 'rcsb_chem_comp_annotation',\n",
       " 'rcsb_chem_comp_container_identifiers',\n",
       " 'rcsb_chem_comp_descriptor',\n",
       " 'rcsb_chem_comp_info',\n",
       " 'rcsb_chem_comp_related',\n",
       " 'rcsb_chem_comp_synonyms',\n",
       " 'rcsb_chem_comp_target',\n",
       " 'mon_nstd_parent_comp_id',\n",
       " 'pdbx_subcomponent_list',\n",
       " 'comp_id',\n",
       " 'component_id',\n",
       " 'comp_id_1',\n",
       " 'comp_id_2',\n",
       " 'chem_comp_id',\n",
       " 'compound_details',\n",
       " 'subcomponent_ids',\n",
       " 'rcsb_comp_model_provenance',\n",
       " 'rcsb_branched_component_count',\n",
       " 'beg_comp_id',\n",
       " 'ligand_comp_id',\n",
       " 'polymer_composition',\n",
       " 'nonpolymer_comp',\n",
       " 'nonpolymer_comp_id',\n",
       " 'completeness',\n",
       " 'target_comp_id',\n",
       " 'pdb_format_compatible',\n",
       " 'nonpolymer_bound_components',\n",
       " 'cofactor_chem_comp_id']"
      ]
     },
     "execution_count": 27,
     "metadata": {},
     "output_type": "execute_result"
    }
   ],
   "source": [
    "from rcsbapi.data import Schema, Query\n",
    "\n",
    "schema = Schema()\n",
    "schema.find_field_names(\"comp\")"
   ]
  },
  {
   "cell_type": "markdown",
   "metadata": {},
   "source": [
    "Note that once you identify which field you want to use, you may need to also run the `find_paths()` method mentioned above on the field name to identify the set of possible field paths for `return_data_list`. "
   ]
  },
  {
   "cell_type": "code",
   "execution_count": 28,
   "metadata": {},
   "outputs": [
    {
     "data": {
      "text/plain": [
       "['assemblies.branched_entity_instances.branched_entity.chem_comp_monomers.chem_comp',\n",
       " 'assemblies.branched_entity_instances.branched_entity.prd.chem_comp',\n",
       " 'assemblies.nonpolymer_entity_instances.nonpolymer_entity.nonpolymer_comp.chem_comp',\n",
       " 'assemblies.nonpolymer_entity_instances.nonpolymer_entity.prd.chem_comp',\n",
       " 'assemblies.polymer_entity_instances.polymer_entity.chem_comp_monomers.chem_comp',\n",
       " 'assemblies.polymer_entity_instances.polymer_entity.chem_comp_nstd_monomers.chem_comp',\n",
       " 'assemblies.polymer_entity_instances.polymer_entity.prd.chem_comp',\n",
       " 'branched_entities.chem_comp_monomers.chem_comp',\n",
       " 'branched_entities.prd.chem_comp',\n",
       " 'nonpolymer_entities.nonpolymer_comp.chem_comp',\n",
       " 'nonpolymer_entities.prd.chem_comp',\n",
       " 'polymer_entities.chem_comp_monomers.chem_comp',\n",
       " 'polymer_entities.chem_comp_nstd_monomers.chem_comp',\n",
       " 'polymer_entities.prd.chem_comp']"
      ]
     },
     "execution_count": 28,
     "metadata": {},
     "output_type": "execute_result"
    }
   ],
   "source": [
    "# Find all paths for the field `\"chem_comps\"`:\n",
    "from rcsbapi.data import Schema\n",
    "schema = Schema()\n",
    "schema.find_paths(input_type=\"entries\", return_data_name=\"chem_comp\")"
   ]
  }
 ],
 "metadata": {
  "kernelspec": {
   "display_name": "Python 3 (ipykernel)",
   "language": "python",
   "name": "python3"
  },
  "language_info": {
   "codemirror_mode": {
    "name": "ipython",
    "version": 3
   },
   "file_extension": ".py",
   "mimetype": "text/x-python",
   "name": "python",
   "nbconvert_exporter": "python",
   "pygments_lexer": "ipython3",
   "version": "3.9.7"
  }
 },
 "nbformat": 4,
 "nbformat_minor": 4
}
