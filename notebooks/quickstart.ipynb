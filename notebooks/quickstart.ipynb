{
 "cells": [
  {
   "cell_type": "code",
   "execution_count": 3,
   "metadata": {},
   "outputs": [],
   "source": [
    "from rcsbapi.data.query import Query\n",
    "from rcsbapi.data.query import SCHEMA\n",
    "from pprint import pprint"
   ]
  },
  {
   "cell_type": "markdown",
   "metadata": {},
   "source": [
    "## RCSB PDB Data API: Quick-start\n",
    "\n",
    "This quick-start notebook will walk through the basics of making queries in this package using a simple example. For more in-depth documentation reference the [README](https://github.com/rcsb/py-rcsb-api/blob/master/README.md).\n",
    "\n",
    "\\\n",
    "install the package: \n",
    "\n",
    "```pip install rcsb-api```\n",
    "\n",
    "\\\n",
    "In this notebook, we will be working with the below query. This GraphQL query requests non-polymer, polymer components of a structure (ions, cofactors, etc). We will be working with this query or related queries in this notebook."
   ]
  },
  {
   "cell_type": "markdown",
   "metadata": {},
   "source": [
    "```\n",
    "{\n",
    "  entry(entry_id: \"4HHB\") {\n",
    "    rcsb_entry_info {\n",
    "      nonpolymer_bound_components\n",
    "    }\n",
    "  }\n",
    "}\n",
    "```"
   ]
  },
  {
   "cell_type": "markdown",
   "metadata": {},
   "source": [
    "## Making Queries\n",
    "\n",
    "You would make the equivalent query in this package by creating a Query object as shown below. \n",
    "\n",
    "The Query object automatically generates a query and makes a request to our Data API. The JSON response can be accessed with the `get_response()` method."
   ]
  },
  {
   "cell_type": "code",
   "execution_count": 13,
   "metadata": {},
   "outputs": [
    {
     "name": "stdout",
     "output_type": "stream",
     "text": [
      "{'data': {'entry': {'rcsb_entry_info': {'nonpolymer_bound_components': ['HEM']}}}}\n"
     ]
    }
   ],
   "source": [
    "#\"entry_id\" as key in input_ids\n",
    "query = Query(input_ids={\"entry_id\":\"4HHB\"},input_type=\"entry\", return_data_list=[\"nonpolymer_bound_components\"])\n",
    "pprint(query.get_response())"
   ]
  },
  {
   "cell_type": "markdown",
   "metadata": {},
   "source": [
    "Making a query requires 3 arguments - input_ids, input_type, and return_data_list."
   ]
  },
  {
   "cell_type": "markdown",
   "metadata": {},
   "source": [
    "### input_ids\n",
    "input_ids are accepted as a dictionary or a list of PDB-format IDs. input_id dictionaries have specific keys depending on the input_type (entry, polymer_entity, etc). To get the keys associated with an input_type, use the `get_input_id_dict(<input_type>)` method."
   ]
  },
  {
   "cell_type": "code",
   "execution_count": 14,
   "metadata": {},
   "outputs": [
    {
     "name": "stdout",
     "output_type": "stream",
     "text": [
      "{'data': {'polymer_entity_instance': {'polymer_entity': {'entry': {'rcsb_entry_info': {'nonpolymer_bound_components': ['HEM']}}}}}}\n"
     ]
    }
   ],
   "source": [
    "# requires multiple keys to specify a polymer_entity_instance\n",
    "query = Query(input_ids={\"entry_id\":\"4HHB\",\"asym_id\":\"A\"},input_type=\"polymer_entity_instance\", return_data_list=[\"nonpolymer_bound_components\"])\n",
    "pprint(query.get_response())\n",
    "#Note that this query returns the same information and has to go to entry again. This could more efficiently be accessed through entry input_type, like above."
   ]
  },
  {
   "cell_type": "code",
   "execution_count": 15,
   "metadata": {},
   "outputs": [
    {
     "name": "stdout",
     "output_type": "stream",
     "text": [
      "{'asym_id': \"ENTITY INSTANCE ID, e.g. 'A', 'B'. Identifies structural element \"\n",
      "            'in the asymmetric unit (_struct_asym.id)',\n",
      " 'entry_id': 'ID'}\n"
     ]
    }
   ],
   "source": [
    "# to get the dictionary keys and descriptions for a given input_type, use the get_input_id_dict method\n",
    "pprint(SCHEMA.get_input_id_dict(\"polymer_entity_instance\"))"
   ]
  },
  {
   "cell_type": "markdown",
   "metadata": {},
   "source": [
    "input_id lists must be passed in PDB ID format \n",
    "\n",
    "|Type | Format |Example\n",
    "|---|---|---|\n",
    "|entry | entry_id | 4HHB\n",
    "|polymer, branched, or non-polymer entities | [entry_id]_[entity_id] | 4HHB_1 |\n",
    "|polymer, branched, or non-polymer entity instances| [entry_id].[asym_id] | 4HHB.A |\n",
    "|biological assemblies | [entry_id]-[assembly_id]| 4HHB-1 |\n",
    "|interface| [entry_id]-[assembly_id]-[interface_id] |4HHB-1.1 |\n",
    "\n",
    "The below examples with lists for input_ids are equivalent to above. Note that although there is only one input id, the argument must be a list not a string."
   ]
  },
  {
   "cell_type": "code",
   "execution_count": 16,
   "metadata": {},
   "outputs": [
    {
     "name": "stdout",
     "output_type": "stream",
     "text": [
      "{'data': {'entry': {'rcsb_entry_info': {'nonpolymer_bound_components': ['HEM']}}}}\n"
     ]
    }
   ],
   "source": [
    "query = Query(input_ids=[\"4HHB\"],input_type=\"entry\", return_data_list=[\"nonpolymer_bound_components\"])\n",
    "pprint(query.get_response())"
   ]
  },
  {
   "cell_type": "code",
   "execution_count": 17,
   "metadata": {},
   "outputs": [
    {
     "name": "stdout",
     "output_type": "stream",
     "text": [
      "{'data': {'polymer_entity_instance': {'polymer_entity': {'entry': {'rcsb_entry_info': {'nonpolymer_bound_components': ['HEM']}}}}}}\n"
     ]
    }
   ],
   "source": [
    "# uses PDB ID format\n",
    "query = Query(input_ids=[\"4HHB.A\"],input_type=\"polymer_entity_instance\", return_data_list=[\"nonpolymer_bound_components\"])\n",
    "pprint(query.get_response())"
   ]
  },
  {
   "cell_type": "markdown",
   "metadata": {},
   "source": [
    "## input_types\n",
    "input_types are designated points where you can begin your query. Some examples are entry, polymer_entity, and polymer_entity_instance. You can also begin your search with uniprot or pubmed using their IDs. For a full list of input_types see the [README](https://github.com/rcsb/py-rcsb-api/blob/dev-it-schema-parse/README.md#input_types).\n",
    "\n",
    "If you're unsure of which input_type would be best and are using a PDB ID (4HHB, 4HHB_1, 4HHB.A, 4HHB-1), you can generally begin at entry. This may produce a more verbose query that can later be refined."
   ]
  },
  {
   "cell_type": "markdown",
   "metadata": {},
   "source": [
    "## return_data_list\n",
    "return_data_list are the fields/data you are requesting in your query. <!--You can explore possible fields by using the search method on a string--> "
   ]
  },
  {
   "cell_type": "markdown",
   "metadata": {},
   "source": [
    "There are some fields that must be identified using dot notation ([type].[field_name]). You can search for the dot notation of a field by using the `get_unique_fields(<field name>)` method."
   ]
  },
  {
   "cell_type": "code",
   "execution_count": 19,
   "metadata": {},
   "outputs": [
    {
     "ename": "ValueError",
     "evalue": "\"polymer_composition\" exists, but is not a unique field, must specify further. To find valid fields with this name, run: get_unique_fields(\"polymer_composition\")",
     "output_type": "error",
     "traceback": [
      "\u001b[1;31m---------------------------------------------------------------------------\u001b[0m",
      "\u001b[1;31mValueError\u001b[0m                                Traceback (most recent call last)",
      "Cell \u001b[1;32mIn[19], line 2\u001b[0m\n\u001b[0;32m      1\u001b[0m \u001b[38;5;66;03m# return_data_list isn't specific enough, throws a ValueError\u001b[39;00m\n\u001b[1;32m----> 2\u001b[0m query \u001b[38;5;241m=\u001b[39m \u001b[43mQuery\u001b[49m\u001b[43m(\u001b[49m\u001b[43minput_ids\u001b[49m\u001b[38;5;241;43m=\u001b[39;49m\u001b[43m[\u001b[49m\u001b[38;5;124;43m\"\u001b[39;49m\u001b[38;5;124;43m4HHB.A\u001b[39;49m\u001b[38;5;124;43m\"\u001b[39;49m\u001b[43m]\u001b[49m\u001b[43m,\u001b[49m\u001b[43minput_type\u001b[49m\u001b[38;5;241;43m=\u001b[39;49m\u001b[38;5;124;43m\"\u001b[39;49m\u001b[38;5;124;43mpolymer_entity_instance\u001b[39;49m\u001b[38;5;124;43m\"\u001b[39;49m\u001b[43m,\u001b[49m\u001b[43m \u001b[49m\u001b[43mreturn_data_list\u001b[49m\u001b[38;5;241;43m=\u001b[39;49m\u001b[43m[\u001b[49m\u001b[38;5;124;43m\"\u001b[39;49m\u001b[38;5;124;43mpolymer_composition\u001b[39;49m\u001b[38;5;124;43m\"\u001b[39;49m\u001b[43m]\u001b[49m\u001b[43m)\u001b[49m\n",
      "File \u001b[1;32m~\\rcsb\\py-rcsb-api\\rcsbapi\\data\\query.py:29\u001b[0m, in \u001b[0;36mQuery.__init__\u001b[1;34m(self, input_ids, input_type, return_data_list)\u001b[0m\n\u001b[0;32m     27\u001b[0m \u001b[38;5;28mself\u001b[39m\u001b[38;5;241m.\u001b[39m__input_type \u001b[38;5;241m=\u001b[39m input_type\n\u001b[0;32m     28\u001b[0m \u001b[38;5;28mself\u001b[39m\u001b[38;5;241m.\u001b[39m__return_data_list \u001b[38;5;241m=\u001b[39m return_data_list\n\u001b[1;32m---> 29\u001b[0m \u001b[38;5;28mself\u001b[39m\u001b[38;5;241m.\u001b[39m__query \u001b[38;5;241m=\u001b[39m \u001b[43mSCHEMA\u001b[49m\u001b[38;5;241;43m.\u001b[39;49m\u001b[43mconstruct_query\u001b[49m\u001b[43m(\u001b[49m\u001b[43minput_ids\u001b[49m\u001b[43m,\u001b[49m\u001b[43m \u001b[49m\u001b[43minput_type\u001b[49m\u001b[43m,\u001b[49m\u001b[43m \u001b[49m\u001b[43mreturn_data_list\u001b[49m\u001b[43m)\u001b[49m\n\u001b[0;32m     30\u001b[0m \u001b[38;5;28mself\u001b[39m\u001b[38;5;241m.\u001b[39m__plural_input \u001b[38;5;241m=\u001b[39m \u001b[38;5;28;01mFalse\u001b[39;00m\n\u001b[0;32m     31\u001b[0m \u001b[38;5;28;01mif\u001b[39;00m SCHEMA\u001b[38;5;241m.\u001b[39mroot_dict[input_type][\u001b[38;5;241m0\u001b[39m][\u001b[38;5;124m\"\u001b[39m\u001b[38;5;124mkind\u001b[39m\u001b[38;5;124m\"\u001b[39m] \u001b[38;5;241m==\u001b[39m \u001b[38;5;124m\"\u001b[39m\u001b[38;5;124mLIST\u001b[39m\u001b[38;5;124m\"\u001b[39m:\n",
      "File \u001b[1;32m~\\rcsb\\py-rcsb-api\\rcsbapi\\data\\schema.py:408\u001b[0m, in \u001b[0;36mSchema.construct_query\u001b[1;34m(self, input_ids, input_type, return_data_list)\u001b[0m\n\u001b[0;32m    406\u001b[0m         \u001b[38;5;28;01mcontinue\u001b[39;00m\n\u001b[0;32m    407\u001b[0m     \u001b[38;5;28;01mif\u001b[39;00m \u001b[38;5;28mself\u001b[39m\u001b[38;5;241m.\u001b[39mverify_unique_field(return_field) \u001b[38;5;129;01mis\u001b[39;00m \u001b[38;5;28;01mFalse\u001b[39;00m:\n\u001b[1;32m--> 408\u001b[0m         \u001b[38;5;28;01mraise\u001b[39;00m \u001b[38;5;167;01mValueError\u001b[39;00m(\n\u001b[0;32m    409\u001b[0m             \u001b[38;5;124mf\u001b[39m\u001b[38;5;124m\"\u001b[39m\u001b[38;5;130;01m\\\"\u001b[39;00m\u001b[38;5;132;01m{\u001b[39;00mreturn_field\u001b[38;5;132;01m}\u001b[39;00m\u001b[38;5;130;01m\\\"\u001b[39;00m\u001b[38;5;124m exists, but is not a unique field, must specify further. To find valid fields with this name, run: get_unique_fields(\u001b[39m\u001b[38;5;130;01m\\\"\u001b[39;00m\u001b[38;5;132;01m{\u001b[39;00mreturn_field\u001b[38;5;132;01m}\u001b[39;00m\u001b[38;5;130;01m\\\"\u001b[39;00m\u001b[38;5;124m)\u001b[39m\u001b[38;5;124m\"\u001b[39m)\n\u001b[0;32m    410\u001b[0m \u001b[38;5;28;01mif\u001b[39;00m use_networkx:\n\u001b[0;32m    412\u001b[0m     \u001b[38;5;28;01mreturn\u001b[39;00m \u001b[38;5;28mself\u001b[39m\u001b[38;5;241m.\u001b[39m__construct_query_networkx(input_ids, input_type, return_data_list)\n",
      "\u001b[1;31mValueError\u001b[0m: \"polymer_composition\" exists, but is not a unique field, must specify further. To find valid fields with this name, run: get_unique_fields(\"polymer_composition\")"
     ]
    }
   ],
   "source": [
    "# return_data_list isn't specific enough, throws a ValueError\n",
    "query = Query(input_ids=[\"4HHB.A\"],input_type=\"polymer_entity_instance\", return_data_list=[\"polymer_composition\"])"
   ]
  },
  {
   "cell_type": "code",
   "execution_count": 4,
   "metadata": {},
   "outputs": [
    {
     "data": {
      "text/plain": [
       "['RcsbInterfaceInfo.polymer_composition',\n",
       " 'RcsbAssemblyInfo.polymer_composition',\n",
       " 'RcsbEntryInfo.polymer_composition']"
      ]
     },
     "execution_count": 4,
     "metadata": {},
     "output_type": "execute_result"
    }
   ],
   "source": [
    "# run get_unique_fields(\"polymer_composition\")\n",
    "SCHEMA.get_unique_fields(\"polymer_composition\")"
   ]
  },
  {
   "cell_type": "code",
   "execution_count": null,
   "metadata": {},
   "outputs": [],
   "source": [
    "# By looking through the list, find the intended field\n",
    "query = Query(input_ids={\"entry_id\": \"4HHB\"},input_type=\"entry\", return_data_list=[\"nonpolymer_bound_components\", \"RcsbEntryInfo.polymer_composition\"])"
   ]
  },
  {
   "cell_type": "markdown",
   "metadata": {},
   "source": [
    "If you're unsure which field to use, you can call `find_field_names(<search string>)` to search for fields and their descripitions. You can also search for fields using incomplete or partially-matching names."
   ]
  },
  {
   "cell_type": "code",
   "execution_count": 20,
   "metadata": {},
   "outputs": [
    {
     "ename": "AttributeError",
     "evalue": "'Schema' object has no attribute 'find_field_names'",
     "output_type": "error",
     "traceback": [
      "\u001b[1;31m---------------------------------------------------------------------------\u001b[0m",
      "\u001b[1;31mAttributeError\u001b[0m                            Traceback (most recent call last)",
      "Cell \u001b[1;32mIn[20], line 2\u001b[0m\n\u001b[0;32m      1\u001b[0m \u001b[38;5;66;03m# If you're unsure which field to use, you can call find_field_names(<search string>) to search for fields and their descripitions.\u001b[39;00m\n\u001b[1;32m----> 2\u001b[0m pprint(\u001b[43mSCHEMA\u001b[49m\u001b[38;5;241;43m.\u001b[39;49m\u001b[43mfind_field_names\u001b[49m(\u001b[38;5;124m\"\u001b[39m\u001b[38;5;124mpolymer_composition\u001b[39m\u001b[38;5;124m\"\u001b[39m))\n",
      "\u001b[1;31mAttributeError\u001b[0m: 'Schema' object has no attribute 'find_field_names'"
     ]
    }
   ],
   "source": [
    "pprint(SCHEMA.find_field_names(\"polymer_composition\"))"
   ]
  },
  {
   "cell_type": "code",
   "execution_count": null,
   "metadata": {},
   "outputs": [],
   "source": [
    "# searching an incomplete field name\n",
    "pprint(SCHEMA.find_field_names(\"composition\"))"
   ]
  },
  {
   "cell_type": "markdown",
   "metadata": {},
   "source": [
    "### More Complex Queries"
   ]
  },
  {
   "cell_type": "markdown",
   "metadata": {},
   "source": [
    "You can make more complex queries by searching multiple ids at once or adding more fields/data in the return_data_list."
   ]
  },
  {
   "cell_type": "code",
   "execution_count": null,
   "metadata": {},
   "outputs": [
    {
     "name": "stdout",
     "output_type": "stream",
     "text": [
      "{'data': {'entries': [{'rcsb_entry_info': {'nonpolymer_bound_components': ['HEM']}},\n",
      "                      {'rcsb_entry_info': {'nonpolymer_bound_components': ['ZN']}},\n",
      "                      {'rcsb_entry_info': {'nonpolymer_bound_components': ['NAG',\n",
      "                                                                           'PLM',\n",
      "                                                                           'RET']}}]}}\n"
     ]
    }
   ],
   "source": [
    "# search multiple ids. Note the input_type changed from \"entry\" to \"entries\"\n",
    "query = Query(input_ids={\"entry_ids\": [\"4HHB\", \"12CA\", \"3PQR\"]},input_type=\"entries\", return_data_list=[\"nonpolymer_bound_components\"])\n",
    "pprint(query.get_response())"
   ]
  },
  {
   "cell_type": "code",
   "execution_count": 12,
   "metadata": {},
   "outputs": [
    {
     "name": "stdout",
     "output_type": "stream",
     "text": [
      "{'data': {'entry': {'citation': [{'title': 'The crystal structure of human '\n",
      "                                           'deoxyhaemoglobin at 1.74 A '\n",
      "                                           'resolution'},\n",
      "                                 {'title': 'Stereochemistry of Iron in '\n",
      "                                           'Deoxyhaemoglobin'},\n",
      "                                 {'title': 'Regulation of Oxygen Affinity of '\n",
      "                                           'Hemoglobin. Influence of Structure '\n",
      "                                           'of the Globin on the Heme Iron'},\n",
      "                                 {'title': 'Three-Dimensional Fourier '\n",
      "                                           'Synthesis of Human Deoxyhemoglobin '\n",
      "                                           'at 2.5 Angstroms Resolution, '\n",
      "                                           'I.X-Ray Analysis'},\n",
      "                                 {'title': 'Three-Dimensional Fourier '\n",
      "                                           'Synthesis of Human '\n",
      "                                           'Deoxyhaemoglobin at 2.5 Angstroms '\n",
      "                                           'Resolution, Refinement of the '\n",
      "                                           'Atomic Model'},\n",
      "                                 {'title': 'Three-Dimensional Fourier '\n",
      "                                           'Synthesis of Human '\n",
      "                                           'Deoxyhaemoglobin at 3.5 Angstroms '\n",
      "                                           'Resolution'},\n",
      "                                 {'title': None},\n",
      "                                 {'title': None},\n",
      "                                 {'title': None}],\n",
      "                    'rcsb_entry_info': {'nonpolymer_bound_components': ['HEM'],\n",
      "                                        'polymer_composition': 'heteromeric '\n",
      "                                                               'protein'}}}}\n"
     ]
    }
   ],
   "source": [
    "# search multiple fields\n",
    "query = Query(input_ids={\"entry_id\": \"4HHB\"},input_type=\"entry\", return_data_list=[\"Citation.title\", \"nonpolymer_bound_components\", \"RcsbEntryInfo.polymer_composition\", ])\n",
    "pprint(query.get_response())"
   ]
  }
 ],
 "metadata": {
  "kernelspec": {
   "display_name": "Python 3",
   "language": "python",
   "name": "python3"
  },
  "language_info": {
   "codemirror_mode": {
    "name": "ipython",
    "version": 3
   },
   "file_extension": ".py",
   "mimetype": "text/x-python",
   "name": "python",
   "nbconvert_exporter": "python",
   "pygments_lexer": "ipython3",
   "version": "3.10.11"
  }
 },
 "nbformat": 4,
 "nbformat_minor": 2
}
