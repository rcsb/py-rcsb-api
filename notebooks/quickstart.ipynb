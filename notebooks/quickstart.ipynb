{
 "cells": [
  {
   "cell_type": "markdown",
   "metadata": {},
   "source": [
    "<a href=\"https://colab.research.google.com/github/rcsb/py-rcsb-api/blob/master/notebooks/quickstart.ipynb\" target=\"_parent\"><img src=\"https://colab.research.google.com/assets/colab-badge.svg\" alt=\"Open In Colab\"/></a>"
   ]
  },
  {
   "cell_type": "code",
   "execution_count": null,
   "metadata": {},
   "outputs": [],
   "source": [
    "!pip install rcsb-api"
   ]
  },
  {
   "cell_type": "code",
   "execution_count": 55,
   "metadata": {},
   "outputs": [],
   "source": [
    "from rcsbapi.data import Schema, Query\n",
    "from pprint import pprint"
   ]
  },
  {
   "cell_type": "markdown",
   "metadata": {},
   "source": [
    "## RCSB PDB Data API: Quick-start\n",
    "\n",
    "This quick-start notebook will walk through the basics of making queries in this package using a simple example. For more in-depth documentation reference the [readthedocs page](https://py-rcsb-api.readthedocs.io/en/latest/index.html).\n",
    "\n",
    "\\\n",
    "install the package: \n",
    "\n",
    "```pip install rcsb-api```\n",
    "\n",
    "\\\n",
    "In this notebook, we will be working with the below query. This GraphQL query requests non-polymer, polymer components of a structure (ions, cofactors, etc). We will be working with this query or related queries in this notebook."
   ]
  },
  {
   "cell_type": "markdown",
   "metadata": {},
   "source": [
    "```\n",
    "{\n",
    "  entry(entry_id: \"4HHB\") {\n",
    "    rcsb_entry_info {\n",
    "      nonpolymer_bound_components\n",
    "    }\n",
    "  }\n",
    "}\n",
    "```"
   ]
  },
  {
   "cell_type": "markdown",
   "metadata": {},
   "source": [
    "## Making Queries\n",
    "\n",
    "You would make the equivalent query in this package by creating a Query object as shown below. \n",
    "\n",
    "The Query object automatically generates a query and makes a request to our Data API. The JSON response can be accessed with the `get_response()` method."
   ]
  },
  {
   "cell_type": "code",
   "execution_count": null,
   "metadata": {},
   "outputs": [],
   "source": [
    "#\"entry_id\" as key in input_ids\n",
    "query = Query(input_type=\"entry\", input_ids={\"entry_id\":\"4HHB\"}, return_data_list=[\"nonpolymer_bound_components\"])\n",
    "query.exec()\n",
    "pprint(query.get_response())"
   ]
  },
  {
   "cell_type": "markdown",
   "metadata": {},
   "source": [
    "Making a query requires 3 arguments - input_type, input_ids, and return_data_list."
   ]
  },
  {
   "cell_type": "markdown",
   "metadata": {},
   "source": [
    "## input_types\n",
    "input_types are designated points where you can begin your query. Some examples are entry, polymer_entity, and polymer_entity_instance. You can also begin your search with uniprot or pubmed using their IDs. For a full list of input_types see the [README](https://github.com/rcsb/py-rcsb-api/blob/dev-it-schema-parse/README.md#input_types).\n",
    "\n",
    "If you're unsure of which input_type would be best and are using a PDB ID (4HHB, 4HHB_1, 4HHB.A, 4HHB-1), you can generally begin at entry. This may produce a more verbose query that can later be refined."
   ]
  },
  {
   "cell_type": "markdown",
   "metadata": {},
   "source": [
    "## input_ids\n",
    "input_ids are accepted as a dictionary or a list of PDB-format IDs. input_id dictionaries have specific keys depending on the input_type (entry, polymer_entity, etc). To get the keys associated with an input_type, use the `get_input_id_dict(<input_type>)` method."
   ]
  },
  {
   "cell_type": "code",
   "execution_count": null,
   "metadata": {},
   "outputs": [],
   "source": [
    "# requires multiple keys to specify a polymer_entity_instance\n",
    "query = Query(input_type=\"polymer_entity_instance\", input_ids={\"entry_id\":\"4HHB\", \"asym_id\":\"A\"}, return_data_list=[\"nonpolymer_bound_components\"])\n",
    "query.exec()\n",
    "pprint(query.get_response())\n",
    "#Note that this query returns the same information and has to go to entry again. This could more efficiently be accessed through entry input_type, like above."
   ]
  },
  {
   "cell_type": "code",
   "execution_count": null,
   "metadata": {},
   "outputs": [],
   "source": [
    "# to get the dictionary keys and descriptions for a given input_type, use the get_input_id_dict method\n",
    "schema = Schema() #create an instance of the API Schema\n",
    "pprint(schema.get_input_id_dict(\"polymer_entity_instance\"))"
   ]
  },
  {
   "cell_type": "markdown",
   "metadata": {},
   "source": [
    "input_id lists must be passed in PDB ID format \n",
    "\n",
    "|Type | Format |Example\n",
    "|---|---|---|\n",
    "|entries | entry_id | 4HHB\n",
    "|polymer, branched, or non-polymer entities | [entry_id]_[entity_id] | 4HHB_1 |\n",
    "|polymer, branched, or non-polymer entity instances| [entry_id].[asym_id] | 4HHB.A |\n",
    "|biological assemblies | [entry_id]-[assembly_id]| 4HHB-1 |\n",
    "|interface| [entry_id]-[assembly_id]-[interface_id] |4HHB-1.1 |\n",
    "\n",
    "The below examples with lists for input_ids are equivalent to above. Note that although there is only one input id, the argument must be a list not a string."
   ]
  },
  {
   "cell_type": "code",
   "execution_count": null,
   "metadata": {},
   "outputs": [],
   "source": [
    "query = Query(input_type=\"entry\", input_ids=[\"4HHB\"], return_data_list=[\"nonpolymer_bound_components\"])\n",
    "query.exec()\n",
    "pprint(query.get_response())"
   ]
  },
  {
   "cell_type": "code",
   "execution_count": null,
   "metadata": {},
   "outputs": [],
   "source": [
    "# uses PDB ID format\n",
    "query = Query(input_type=\"polymer_entity_instance\", input_ids=[\"4HHB.A\"], return_data_list=[\"nonpolymer_bound_components\"])\n",
    "query.exec()\n",
    "pprint(query.get_response())"
   ]
  },
  {
   "cell_type": "markdown",
   "metadata": {},
   "source": [
    "## return_data_list\n",
    "return_data_list are the fields/data you are requesting in your query. <!--You can explore possible fields by using the search method on a string--> "
   ]
  },
  {
   "cell_type": "markdown",
   "metadata": {},
   "source": [
    "There are some fields that must be further specified using multiple fields separated by dots. You can search for the dot notation of a field by using the `find_paths(input_type, field_name)` method."
   ]
  },
  {
   "cell_type": "code",
   "execution_count": null,
   "metadata": {},
   "outputs": [],
   "source": [
    "# return_data_list isn't specific enough, throws a ValueError. The ValueError will list up to 10 valid paths.\n",
    "query = Query(input_type=\"polymer_entity_instance\", input_ids=[\"4HHB.A\"], return_data_list=[\"polymer_composition\"])"
   ]
  },
  {
   "cell_type": "code",
   "execution_count": null,
   "metadata": {},
   "outputs": [],
   "source": [
    "# run find_paths(\"polymer_composition\")\n",
    "schema = Schema()\n",
    "schema.find_paths(\"polymer_entity_instance\", \"polymer_composition\")"
   ]
  },
  {
   "cell_type": "code",
   "execution_count": null,
   "metadata": {},
   "outputs": [],
   "source": [
    "# By looking through the list, find the intended field\n",
    "query = Query(input_type=\"polymer_entity_instance\", input_ids=[\"4HHB.A\"], return_data_list=[\"polymer_entity.entry.rcsb_entry_info.polymer_composition\"])\n",
    "query.exec()\n",
    "pprint(query.get_response())"
   ]
  },
  {
   "cell_type": "markdown",
   "metadata": {},
   "source": [
    "If you're unsure which field to use, you can call `find_field_names(<search string>)`. This method will also return partial matches."
   ]
  },
  {
   "cell_type": "code",
   "execution_count": null,
   "metadata": {},
   "outputs": [],
   "source": [
    "schema = Schema()\n",
    "pprint(schema.find_field_names(\"comp\"))"
   ]
  },
  {
   "cell_type": "markdown",
   "metadata": {},
   "source": [
    "### More Complex Queries"
   ]
  },
  {
   "cell_type": "markdown",
   "metadata": {},
   "source": [
    "You can make more complex queries by searching multiple ids at once or adding more fields/data in the return_data_list."
   ]
  },
  {
   "cell_type": "code",
   "execution_count": null,
   "metadata": {},
   "outputs": [],
   "source": [
    "# search multiple ids. Note the input_type changed from \"entry\" to \"entries\"\n",
    "query = Query(\n",
    "    input_type=\"entries\",\n",
    "    input_ids=[\"4HHB\", \"12CA\", \"3PQR\"],\n",
    "    return_data_list=[\"nonpolymer_bound_components\"]\n",
    ")\n",
    "query.exec()\n",
    "pprint(query.get_response())"
   ]
  },
  {
   "cell_type": "code",
   "execution_count": null,
   "metadata": {},
   "outputs": [],
   "source": [
    "# search multiple fields\n",
    "query = Query(\n",
    "    input_type=\"entry\",\n",
    "    input_ids={\"entry_id\": \"4HHB\"},\n",
    "    return_data_list=[\n",
    "        \"citation.title\",\n",
    "        \"nonpolymer_bound_components\",\n",
    "        \"rcsb_entry_info.polymer_composition\"\n",
    "    ]\n",
    ")\n",
    "query.exec()\n",
    "pprint(query.get_response())"
   ]
  }
 ],
 "metadata": {
  "kernelspec": {
   "display_name": "Python 3",
   "language": "python",
   "name": "python3"
  },
  "language_info": {
   "codemirror_mode": {
    "name": "ipython",
    "version": 3
   },
   "file_extension": ".py",
   "mimetype": "text/x-python",
   "name": "python",
   "nbconvert_exporter": "python",
   "pygments_lexer": "ipython3",
   "version": "3.10.11"
  }
 },
 "nbformat": 4,
 "nbformat_minor": 2
}
