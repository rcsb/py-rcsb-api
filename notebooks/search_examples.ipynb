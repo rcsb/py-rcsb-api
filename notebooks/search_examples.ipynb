{
 "cells": [
  {
   "cell_type": "markdown",
   "metadata": {},
   "source": [
    "<a href=\"https://colab.research.google.com/github/rcsb/py-rcsb-api/blob/master/notebooks/search_examples.ipynb\" target=\"_parent\"><img src=\"https://colab.research.google.com/assets/colab-badge.svg\" alt=\"Open In Colab\"/></a>"
   ]
  },
  {
   "cell_type": "markdown",
   "metadata": {},
   "source": [
    "# RCSB PDB Search API: Additional Examples\n",
    "\n",
    "This notebook contains the examples listed in [readthedocs: Additional Examples](https://rcsbapi.readthedocs.io/en/latest/search_api/additional_examples.html) for the Search API sub-package.\n",
    "\n",
    "If you're looking for an introduction please refer to the `search_quickstart` notebook or [readthedocs: Quickstart](https://rcsbapi.readthedocs.io/en/dev-it-docs/search_api/quickstart.html)\n",
    "\n",
    "\\\n",
    "Start by installing the package:\n",
    "\n",
    "```pip install rcsb-api```"
   ]
  },
  {
   "cell_type": "code",
   "execution_count": null,
   "metadata": {
    "scrolled": true
   },
   "outputs": [],
   "source": [
    "%pip install rcsb-api"
   ]
  },
  {
   "cell_type": "markdown",
   "metadata": {},
   "source": [
    "## Sequence Motif Search Examples\n",
    "\n",
    "In [Query Construction](https://rcsbapi.readthedocs.io/en/dev-it-docs/data_api/query_construction.html#query-construction), you saw an example query using a PROSITE signature.\n",
    "You can also use a regular expression (RegEx) to make a sequence motif search. As an example, here is a query for the zinc finger motif that binds Zn in a DNA-binding domain:"
   ]
  },
  {
   "cell_type": "code",
   "execution_count": null,
   "metadata": {},
   "outputs": [],
   "source": [
    "from rcsbapi.search import SeqMotifQuery\n",
    "\n",
    "results = SeqMotifQuery(\n",
    "    \"C.{2,4}C.{12}H.{3,5}H\",\n",
    "    pattern_type=\"regex\",\n",
    "    sequence_type=\"protein\")\n",
    "\n",
    "for polyid in results(\"polymer_entity\"):\n",
    "    print(polyid)"
   ]
  },
  {
   "cell_type": "markdown",
   "metadata": {},
   "source": [
    "You can use a standard amino acid sequence to make a sequence motif search. \n",
    "X can be used to allow any amino acid in that position. \n",
    "As an example, here is a query for SH3 domains:"
   ]
  },
  {
   "cell_type": "code",
   "execution_count": null,
   "metadata": {},
   "outputs": [],
   "source": [
    "from rcsbapi.search import SeqMotifQuery\n",
    "\n",
    "# The default pattern_type argument is \"simple\" and the sequence_type argument is \"protein\".\n",
    "# X is used as a \"variable residue\" and can be any amino acid. \n",
    "results = SeqMotifQuery(\"XPPXP\")\n",
    "\n",
    "for polyid in results(\"polymer_entity\"):\n",
    "    print(polyid)"
   ]
  },
  {
   "cell_type": "markdown",
   "metadata": {},
   "source": [
    "All 3 of these pattern types can be used to search for DNA and RNA sequences as well.\n",
    "These are two queries, one DNA and one RNA, using the `simple` pattern type:"
   ]
  },
  {
   "cell_type": "code",
   "execution_count": null,
   "metadata": {},
   "outputs": [],
   "source": [
    "from rcsbapi.search import SeqMotifQuery\n",
    "\n",
    "# DNA query: this is a query for a T-Box.\n",
    "dna = SeqMotifQuery(\"TCACACCT\", sequence_type=\"dna\")\n",
    "\n",
    "print(\"DNA results:\")\n",
    "for polyid in dna(\"polymer_entity\"):\n",
    "    print(polyid)\n",
    "\n",
    "# RNA query: 6C RNA motif\n",
    "rna = SeqMotifQuery(\"CCCCCC\", sequence_type=\"rna\")\n",
    "print(\"RNA results:\")\n",
    "for polyid in rna(\"polymer_entity\"):\n",
    "    print(polyid)"
   ]
  },
  {
   "cell_type": "markdown",
   "metadata": {},
   "source": [
    "## Structure Similarity Search Examples\n",
    "This is a more complex example that utilizes `chain_id`, the `relaxed_shape_match` operator, and a `target_search_space` of `polymer_entity_instance`. Specifying whether the input structure type is `chain_id` or `assembly_id` is very important. For example, specifying `chain_id` as the input structure type but inputting an assembly ID can lead to\n",
    "an error."
   ]
  },
  {
   "cell_type": "code",
   "execution_count": null,
   "metadata": {},
   "outputs": [],
   "source": [
    "from rcsbapi.search import StructSimilarityQuery\n",
    "\n",
    "# More complex query:\n",
    "# Entry ID value \"4HHB\", chain ID \"B\", operator \"relaxed\", and target search space \"Chains\"\n",
    "q2 = StructSimilarityQuery(\n",
    "    structure_search_type=\"entry_id\",\n",
    "    entry_id=\"4HHB\",\n",
    "    structure_input_type=\"chain_id\",\n",
    "    chain_id=\"B\",\n",
    "    operator=\"relaxed_shape_match\",\n",
    "    target_search_space=\"polymer_entity_instance\"\n",
    ")\n",
    "list(q2())"
   ]
  },
  {
   "cell_type": "markdown",
   "metadata": {},
   "source": [
    "Structure similarity queries also allow users to upload a file from their local computer or input a file url from the website to query the PDB archive for similar proteins. The file represents a target protein structure in the file formats \"cif\", \"bcif\", \"pdb\", \"cif.gz\", or \"pdb.gz\". If a user wants to use a file url for queries, the user must specify the `structure_search_type`, the `file_url`, and the `file_format` of the file. This is the same case for file upload, except the user must provide the absolute path leading to the file that is in the local machine."
   ]
  },
  {
   "cell_type": "code",
   "execution_count": null,
   "metadata": {},
   "outputs": [],
   "source": [
    "from rcsbapi.search import StructSimilarityQuery\n",
    "\n",
    "# Using file_url\n",
    "q3 = StructSimilarityQuery(\n",
    "    structure_search_type=\"file_url\",\n",
    "    file_url=\"https://files.rcsb.org/view/4HHB.cif\",\n",
    "    file_format=\"cif\"\n",
    ")\n",
    "list(q3())\n"
   ]
  },
  {
   "cell_type": "code",
   "execution_count": null,
   "metadata": {},
   "outputs": [],
   "source": [
    "from rcsbapi.search import StructSimilarityQuery\n",
    "\n",
    "# Using `file_path`\n",
    "q4 = StructSimilarityQuery(\n",
    "    structure_search_type=\"file_upload\",\n",
    "    file_path=\"/PATH/TO/FILE.cif\",  # specify local model file path\n",
    "    file_format=\"cif\"\n",
    ")\n",
    "list(q4())"
   ]
  },
  {
   "cell_type": "markdown",
   "metadata": {},
   "source": [
    "## Structure Motif Search Examples\n",
    "\n",
    "Like with Structure Similarity Queries, a `file_url` or `file_path` can also be provided to the program. These can take the place of an entry_id. \n",
    "\n",
    "For a `file_url` query, you *must* provide both a valid file URL (a string) and the file's file extension (also as a string). Failure to provide these elements will cause the package to throw an `AssertionError`. \n",
    "\n",
    "Below is an example of the same query as shown in [Query Construction](https://rcsbapi.readthedocs.io/en/dev-it-docs/search_api/query_construction.html#structure-motif-search), only this time providing a file url:"
   ]
  },
  {
   "cell_type": "code",
   "execution_count": null,
   "metadata": {},
   "outputs": [],
   "source": [
    "from rcsbapi.search import StructMotifQuery, StructMotifResidue\n",
    "\n",
    "# Construct a Residue with:\n",
    "# Chain ID of A, an operator of 1, residue number 192, and Exchanges of \"LYS\" and \"HIS\".\n",
    "# As for what is a valid \"Exchange\", the package provides these as a literal,\n",
    "# and they should be type checked. \n",
    "Res1 = StructMotifResidue(\n",
    "    struct_oper_id=\"1\",\n",
    "    chain_id=\"A\",\n",
    "    exchanges=[\"LYS\", \"HIS\"],  # exchanges are optional\n",
    "    label_seq_id=192\n",
    ")\n",
    "\n",
    "Res2 = StructMotifResidue(\n",
    "    struct_oper_id=\"1\",\n",
    "    chain_id=\"A\",\n",
    "    label_seq_id=162\n",
    ")\n",
    "\n",
    "# After declaring a minimum of 2 and as many as 10 residues,\n",
    "# they can be passed into a list for use in the query itself:\n",
    "ResList = [Res1, Res2]\n",
    "\n",
    "link = \"https://files.rcsb.org/view/2MNR.cif\"\n",
    "q2 = StructMotifQuery(\n",
    "    structure_search_type=\"file_url\",\n",
    "    url=link,\n",
    "    file_extension=\"cif\",\n",
    "    residue_ids=ResList\n",
    ")\n",
    "# structure_search_type MUST be provided. A mismatched query type will cause an error. \n",
    "list(q2())"
   ]
  },
  {
   "cell_type": "markdown",
   "metadata": {},
   "source": [
    "A query using `file_path` would look something like this:"
   ]
  },
  {
   "cell_type": "code",
   "execution_count": null,
   "metadata": {},
   "outputs": [],
   "source": [
    "from rcsbapi.search import StructMotifQuery\n",
    "\n",
    "file_path = \"/absolute/path/to/file.cif\"\n",
    "q3 = StructMotifQuery(\n",
    "    structure_search_type=\"file_upload\",\n",
    "    file_path=file_path,\n",
    "    file_extension=\"cif\",\n",
    "    residue_ids=ResList\n",
    ")\n",
    "list(q3())"
   ]
  },
  {
   "cell_type": "markdown",
   "metadata": {},
   "source": [
    "There are many additional parameters that Structure Motif Query supports. These include a variety of features such as `backbone_distance_tolerance`, `side_chain_distance_tolerance`, `angle_tolerance`, `rmsd_cutoff`, `limit` (stop searching after this many hits), `atom_pairing_scheme`, `motif_pruning_strategy`, `allowed_structures`, and `excluded_structures`. These can be mixed and matched as needed to make accurate and useful queries. All of these have some default value which is used when a parameter isn't provided (See [Query Construction](https://rcsbapi.readthedocs.io/en/dev-it-docs/search_api/query_construction.html#structure-motif-search)). These parameters conform to the defaults used by the Search API. \n",
    "\n",
    "Below will demonstrate how to define these parameters:"
   ]
  },
  {
   "cell_type": "code",
   "execution_count": null,
   "metadata": {},
   "outputs": [],
   "source": [
    "from rcsbapi.search import StructMotifQuery, StructMotifResidue\n",
    "\n",
    "Res1 = StructMotifResidue(\n",
    "    struct_oper_id=\"1\",\n",
    "    chain_id=\"A\",\n",
    "    exchanges=[\"LYS\", \"HIS\"],\n",
    "    label_seq_id=192\n",
    ")\n",
    "\n",
    "Res2 = StructMotifResidue(\n",
    "    struct_oper_id=\"1\",\n",
    "    chain_id=\"A\",\n",
    "    label_seq_id=162\n",
    ")\n",
    "\n",
    "ResList = [Res1, Res2]\n",
    "\n",
    "# Specifying backbone distance tolerance: 0-3, default is 1\n",
    "# Allowed backbone distance tolerance in Angstrom. \n",
    "backbone = StructMotifQuery(\n",
    "    entry_id=\"2MNR\",\n",
    "    backbone_distance_tolerance=2,\n",
    "    residue_ids=ResList\n",
    ")\n",
    "list(backbone())\n",
    "\n",
    "# Specifying sidechain distance tolerance: 0-3, default is 1\n",
    "# Allowed side-chain distance tolerance in Angstrom.\n",
    "sidechain = StructMotifQuery(\n",
    "    entry_id=\"2MNR\",\n",
    "    side_chain_distance_tolerance=2,\n",
    "    residue_ids=ResList\n",
    ")\n",
    "list(sidechain())\n",
    "\n",
    "# Specifying angle tolerance: 0-3, default is 1\n",
    "# Allowed angle tolerance in multiples of 20 degrees. \n",
    "angle = StructMotifQuery(\n",
    "    entry_id=\"2MNR\",\n",
    "    angle_tolerance=2,\n",
    "    residue_ids=ResList\n",
    ")\n",
    "list(angle())\n",
    "\n",
    "# Specifying RMSD cutoff: >=0, default is 2\n",
    "# Threshold above which hits will be filtered by RMSD\n",
    "rmsd = StructMotifQuery(\n",
    "    entry_id=\"2MNR\",\n",
    "    rmsd_cutoff=1,\n",
    "    residue_ids=ResList\n",
    ")\n",
    "list(rmsd())\n",
    "\n",
    "# Specifying limit: >=0, default excluded\n",
    "# Stop accepting results after this many hits. \n",
    "limit = StructMotifQuery(\n",
    "    entry_id=\"2MNR\",\n",
    "    limit=100,\n",
    "    residue_ids=ResList\n",
    ")\n",
    "list(limit())\n",
    "\n",
    "# Specifying atom pairing scheme, default = \"SIDE_CHAIN\"\n",
    "# ENUM: \"ALL\", \"BACKBONE\", \"SIDE_CHAIN\", \"PSUEDO_ATOMS\"\n",
    "# This is typechecked by a literal. \n",
    "# Which atoms to consider to compute RMSD scores and transformations. \n",
    "atom = StructMotifQuery(\n",
    "    entry_id=\"2MNR\",\n",
    "    atom_pairing_scheme=\"ALL\",\n",
    "    residue_ids=ResList\n",
    ")\n",
    "list(atom())\n",
    "\n",
    "# Specifying motif pruning strategy, default = \"KRUSKAL\"\n",
    "# ENUM: \"NONE\", \"KRUSKAL\"\n",
    "# This is typechecked by a literal in the package. \n",
    "# Specifies how many query motifs are \"pruned\".\n",
    "# KRUSKAL leads to less stringent queries, and faster results.\n",
    "pruning = StructMotifQuery(\n",
    "    entry_id=\"2MNR\",\n",
    "    motif_pruning_strategy=\"NONE\",\n",
    "    residue_ids=ResList\n",
    ")\n",
    "list(pruning())\n",
    "\n",
    "# Specifying allowed structures, default excluded\n",
    "# Specify the structures you wish to allow in the return result. As an example,\n",
    "# We could only allow the results from the limited query we ran earlier. \n",
    "allowed = StructMotifQuery(\n",
    "    entry_id=\"2MNR\",\n",
    "    allowed_structures=list(limit()),\n",
    "    residue_ids=ResList\n",
    ")\n",
    "list(allowed())\n",
    "\n",
    "# Specifying structures to exclude, default excluded\n",
    "# Specify structures to exclude from a query. We could, for example,\n",
    "# Exclude the results of the previous allowed query. \n",
    "excluded = StructMotifQuery(\n",
    "    entry_id=\"2MNR\",\n",
    "    excluded_structures=list(allowed()),\n",
    "    residue_ids=ResList\n",
    ")\n",
    "list(excluded())"
   ]
  },
  {
   "cell_type": "markdown",
   "metadata": {},
   "source": [
    "The Structure Motif Query can be used to make some very specific queries. Below is an example of a query that retrieves occurrences of the enolase superfamily, a group of proteins diverse in sequence and structure that are all capable of abstracting a proton from a carboxylic acid. Position-specific exchanges are crucial to represent this superfamily accurately."
   ]
  },
  {
   "cell_type": "code",
   "execution_count": null,
   "metadata": {},
   "outputs": [],
   "source": [
    "from rcsbapi.search import StructMotifResidue\n",
    "\n",
    "Res1 = StructMotifResidue(\"A\", \"1\", 162, [\"LYS\", \"HIS\"])\n",
    "Res2 = StructMotifResidue(\"A\", \"1\", 193)\n",
    "Res3 = StructMotifResidue(\"A\", \"1\", 219)\n",
    "Res4 = StructMotifResidue(\"A\", \"1\", 245, [\"GLU\", \"ASP\", \"ASN\"])\n",
    "Res5 = StructMotifResidue(\"A\", \"1\", 295, [\"HIS\", \"LYS\"])\n",
    "\n",
    "ResList = [Res1, Res2, Res3, Res4, Res5]\n",
    "\n",
    "query = StructMotifQuery(entry_id=\"2MNR\", residue_ids=ResList)\n",
    "\n",
    "list(query())"
   ]
  },
  {
   "cell_type": "markdown",
   "metadata": {},
   "source": [
    "## Chemical Similarity Search Examples"
   ]
  },
  {
   "cell_type": "markdown",
   "metadata": {},
   "source": [
    "Below are two examples of using the query option `descriptor`. Both `descriptor_type`s are shown."
   ]
  },
  {
   "cell_type": "code",
   "execution_count": null,
   "metadata": {},
   "outputs": [],
   "source": [
    "from rcsbapi.search import ChemSimilarityQuery\n",
    "\n",
    "# Query with descriptor_type SMILES,\n",
    "# match_type = \"graph-relaxed-stereo\" (similar ligands (stereospecific))\n",
    "q2 = ChemSimilarityQuery(\n",
    "    value=\"Cc1c(sc[n+]1Cc2cnc(nc2N)C)CCO\",\n",
    "    query_type=\"descriptor\",\n",
    "    descriptor_type=\"SMILES\",\n",
    "    match_type=\"graph-relaxed-stereo\"\n",
    ")\n",
    "list(q2())"
   ]
  },
  {
   "cell_type": "code",
   "execution_count": null,
   "metadata": {},
   "outputs": [],
   "source": [
    "from rcsbapi.search import ChemSimilarityQuery\n",
    "\n",
    "# Query descriptor_type InChI,\n",
    "# match_type = \"sub-struct-graph-relaxed-stereo\" (substructure (stereospecific))\n",
    "q3 = ChemSimilarityQuery(\n",
    "    value=\"InChI=1S/C13H10N2O4/c16-10-6-5-9(11(17)14-10)15-12(18)7-3-1-2-4-8(7)13(15)19/h1-4,9H,5-6H2,(H,14,16,17)/t9-/m0/s1\",\n",
    "    query_type=\"descriptor\",\n",
    "    descriptor_type=\"InChI\",\n",
    "    match_type=\"sub-struct-graph-relaxed-stereo\"\n",
    ")\n",
    "list(q3())"
   ]
  },
  {
   "cell_type": "markdown",
   "metadata": {},
   "source": [
    "## Faceted Query Examples\n",
    "For more details on arguments, see the [API reference](https://rcsbapi.readthedocs.io/en/dev-it-docs/search_api/api.html)\n",
    "\n",
    "### Terms Facets\n",
    "Terms faceting is a multi-bucket aggregation where buckets are dynamically built - one per unique value. We can specify the minimum count (`>= 0`) for a bucket to be returned using the parameter `min_interval_population` (default value `1`). We can also control the number of buckets returned using the parameter `max_num_intervals` (default value `65336`)."
   ]
  },
  {
   "cell_type": "code",
   "execution_count": null,
   "metadata": {},
   "outputs": [],
   "source": [
    "from rcsbapi.search import AttributeQuery\n",
    "from rcsbapi.search import Facet\n",
    "\n",
    "# This is the default query used by the RCSB Search API when no query is specified.\n",
    "# This default query will be used for most of the examples found below for faceted queries.\n",
    "q = AttributeQuery(\n",
    "    attribute=\"rcsb_entry_info.structure_determination_methodology\",\n",
    "    operator=\"exact_match\",\n",
    "    value=\"experimental\",\n",
    ") \n",
    "\n",
    "q(\n",
    "    facets= Facet(\n",
    "        name=\"Journals\",\n",
    "        aggregation_type=\"terms\",\n",
    "        attribute=\"rcsb_primary_citation.rcsb_journal_abbrev\",\n",
    "        min_interval_population=1000\n",
    "    )\n",
    ").facets"
   ]
  },
  {
   "cell_type": "markdown",
   "metadata": {},
   "source": [
    "### Histogram Facets\n",
    "Histogram facets build fixed-sized buckets (intervals) over numeric values. The size of the intervals must be specified in the parameter `interval`. We can also specify `min_interval_population` if desired."
   ]
  },
  {
   "cell_type": "code",
   "execution_count": null,
   "metadata": {},
   "outputs": [],
   "source": [
    "from rcsbapi.search import AttributeQuery\n",
    "from rcsbapi.search import Facet\n",
    "\n",
    "q = AttributeQuery(\n",
    "    attribute=\"rcsb_entry_info.structure_determination_methodology\",\n",
    "    operator=\"exact_match\",\n",
    "    value=\"experimental\"\n",
    ") \n",
    "\n",
    "q(\n",
    "    return_type=\"polymer_entity\",\n",
    "    facets=Facet(\n",
    "        name=\"Formula Weight\",\n",
    "        aggregation_type=\"histogram\",\n",
    "        attribute=\"rcsb_polymer_entity.formula_weight\",\n",
    "        interval=50,\n",
    "        min_interval_population=1\n",
    "    )\n",
    ").facets"
   ]
  },
  {
   "cell_type": "markdown",
   "metadata": {},
   "source": [
    "### Date Histogram Facets\n",
    "Similar to histogram facets, date histogram facets build buckets over date values. For date histogram aggregations, we must specify `interval=\"year\"`. Again, we may also specify `min_interval_population`."
   ]
  },
  {
   "cell_type": "code",
   "execution_count": null,
   "metadata": {},
   "outputs": [],
   "source": [
    "from rcsbapi.search import AttributeQuery\n",
    "from rcsbapi.search import Facet\n",
    "\n",
    "q = AttributeQuery(\n",
    "    attribute=\"rcsb_entry_info.structure_determination_methodology\",\n",
    "    operator=\"exact_match\",\n",
    "    value=\"experimental\"\n",
    ") \n",
    "\n",
    "q(\n",
    "    facets=Facet(\n",
    "        name=\"Release Date\",\n",
    "        aggregation_type=\"date_histogram\",\n",
    "        attribute=\"rcsb_accession_info.initial_release_date\",\n",
    "        interval=\"year\",\n",
    "        min_interval_population=1\n",
    "    )\n",
    ").facets"
   ]
  },
  {
   "cell_type": "markdown",
   "metadata": {},
   "source": [
    "### Range Facets\n",
    "We can define the buckets ourselves by using range facets. In order to specify the ranges, we use the `FacetRange` class. Note that the range includes the `start` value and excludes the `end` value (`include_lower` and `include_upper` should not be specified). If the `start` or `end` is omitted, the minimum or maximum boundaries will be used by default. The buckets should be provided as a list of `FacetRange` objects to the `ranges` parameter."
   ]
  },
  {
   "cell_type": "code",
   "execution_count": null,
   "metadata": {},
   "outputs": [],
   "source": [
    "from rcsbapi.search import AttributeQuery\n",
    "from rcsbapi.search import Facet, FacetRange\n",
    "\n",
    "q = AttributeQuery(\n",
    "    attribute=\"rcsb_entry_info.structure_determination_methodology\",\n",
    "    operator=\"exact_match\",\n",
    "    value=\"experimental\"\n",
    ")\n",
    "\n",
    "q(\n",
    "    facets=Facet(\n",
    "        name=\"Resolution Combined\",\n",
    "        aggregation_type=\"range\",\n",
    "        attribute=\"rcsb_entry_info.resolution_combined\",\n",
    "        ranges=[\n",
    "            FacetRange(start=None,end=2),\n",
    "            FacetRange(start=2, end=2.2),\n",
    "            FacetRange(start=2.2, end=2.4),\n",
    "            FacetRange(start=4.6, end=None)\n",
    "        ]\n",
    "    )\n",
    ").facets"
   ]
  },
  {
   "cell_type": "markdown",
   "metadata": {},
   "source": [
    "### Date Range Facets\n",
    "Date range facets allow us to specify date values as bucket ranges, using [date math expressions](https://search.rcsb.org/#date-math-expressions)."
   ]
  },
  {
   "cell_type": "code",
   "execution_count": null,
   "metadata": {},
   "outputs": [],
   "source": [
    "from rcsbapi.search import AttributeQuery\n",
    "from rcsbapi.search import Facet, FacetRange\n",
    "\n",
    "q = AttributeQuery(\n",
    "    attribute=\"rcsb_entry_info.structure_determination_methodology\",\n",
    "    operator=\"exact_match\",\n",
    "    value=\"experimental\"\n",
    ")\n",
    "\n",
    "q(\n",
    "    facets=Facet(\n",
    "        name=\"Release Date\",\n",
    "        aggregation_type=\"date_range\",\n",
    "        attribute=\"rcsb_accession_info.initial_release_date\",\n",
    "        ranges=[\n",
    "            FacetRange(start=None,end=\"2020-06-01||-12M\"),\n",
    "            FacetRange(start=\"2020-06-01\", end=\"2020-06-01||+12M\"),\n",
    "            FacetRange(start=\"2020-06-01||+12M\", end=None)\n",
    "        ]\n",
    "    )\n",
    ").facets"
   ]
  },
  {
   "cell_type": "markdown",
   "metadata": {},
   "source": [
    "### Cardinality Facets \n",
    "Cardinality facets return a single value: the count of distinct values returned for a given field. A `precision_threshold` (`<= 40000`, default value `40000`) may be specified."
   ]
  },
  {
   "cell_type": "code",
   "execution_count": null,
   "metadata": {},
   "outputs": [],
   "source": [
    "from rcsbapi.search import AttributeQuery\n",
    "from rcsbapi.search import Facet\n",
    "\n",
    "q = AttributeQuery(\n",
    "    attribute=\"rcsb_entry_info.structure_determination_methodology\",\n",
    "    operator=\"exact_match\",\n",
    "    value=\"experimental\",\n",
    ") \n",
    "\n",
    "q(\n",
    "    facets=Facet(\n",
    "        name=\"Organism Names Count\",\n",
    "        aggregation_type=\"cardinality\",\n",
    "        attribute=\"rcsb_entity_source_organism.ncbi_scientific_name\"\n",
    "    )\n",
    ").facets"
   ]
  },
  {
   "cell_type": "markdown",
   "metadata": {},
   "source": [
    "### Multidimensional Facets\n",
    "Complex, multi-dimensional aggregations are possible by specifying additional facets in the `nested_facets` parameter, as in the example below:"
   ]
  },
  {
   "cell_type": "code",
   "execution_count": null,
   "metadata": {},
   "outputs": [],
   "source": [
    "from rcsbapi.search import AttributeQuery\n",
    "from rcsbapi.search import Facet\n",
    "\n",
    "f1 = Facet(\n",
    "    name=\"Polymer Entity Types\",\n",
    "    aggregation_type=\"terms\",\n",
    "    attribute=\"rcsb_entry_info.selected_polymer_entity_types\"\n",
    ")\n",
    "f2 = Facet(\n",
    "    name=\"Release Date\",\n",
    "    aggregation_type=\"date_histogram\",\n",
    "    attribute=\"rcsb_accession_info.initial_release_date\",\n",
    "    interval=\"year\"\n",
    ")\n",
    "\n",
    "q = AttributeQuery(\n",
    "    attribute=\"rcsb_entry_info.structure_determination_methodology\",\n",
    "    operator=\"exact_match\",\n",
    "    value=\"experimental\",\n",
    ") \n",
    "\n",
    "q(\n",
    "    facets=Facet(\n",
    "        name=\"Experimental Method\",\n",
    "        aggregation_type=\"terms\",\n",
    "        attribute=\"rcsb_entry_info.experimental_method\",\n",
    "        nested_facets=[f1, f2]\n",
    "    )\n",
    ").facets"
   ]
  },
  {
   "cell_type": "markdown",
   "metadata": {},
   "source": [
    "### Filter Facets\n",
    "Filters allow us to filter documents that contribute to bucket count. Similar to queries, we can group several `TerminalFilter`s into a single `GroupFilter`. We can combine a filter with a facet using the `FilterFacet` class. Terminal filters should specify an `attribute` and `operator`, as well as a `value`. The `negation` and `case_sensitive` parameters are `False` by default, but can be set. Group filters should specify a `logical_operator` (which should be either `\"and\"` or `\"or\"`) and a list of filters (`nodes`) that should be combined. Finally, the `FilterFacet` should be provided with a filter and a (list of) facet(s).\n",
    "\n",
    "Here is an example that filters only protein chains which adopt 2 different beta propeller arrangements according to the CATH classification."
   ]
  },
  {
   "cell_type": "code",
   "execution_count": null,
   "metadata": {},
   "outputs": [],
   "source": [
    "from rcsbapi.search import AttributeQuery\n",
    "from rcsbapi.search import TerminalFilter, GroupFilter, FilterFacet, Facet\n",
    "\n",
    "tf1 = TerminalFilter(\n",
    "    attribute=\"rcsb_polymer_instance_annotation.type\",\n",
    "    operator=\"exact_match\",\n",
    "    value=\"CATH\"\n",
    ")\n",
    "tf2 = TerminalFilter(\n",
    "    attribute=\"rcsb_polymer_instance_annotation.annotation_lineage.id\",\n",
    "    operator=\"in\",\n",
    "    value=[\"2.140.10.30\", \"2.120.10.80\"]\n",
    ")\n",
    "ff2 = FilterFacet(\n",
    "    filter=tf2,\n",
    "    facets=Facet(\n",
    "        name=\"CATH Domains\",\n",
    "        aggregation_type=\"terms\",\n",
    "        attribute=\"rcsb_polymer_instance_annotation.annotation_lineage.id\",\n",
    "        min_interval_population=1\n",
    "    )\n",
    ")\n",
    "\n",
    "q = AttributeQuery(\n",
    "    attribute=\"rcsb_entry_info.structure_determination_methodology\",\n",
    "    operator=\"exact_match\",\n",
    "    value=\"experimental\"\n",
    ") \n",
    "\n",
    "q(\n",
    "    return_type=\"polymer_instance\",\n",
    "    facets=FilterFacet(filter=tf1, facets=ff2\n",
    ")).facets"
   ]
  },
  {
   "cell_type": "markdown",
   "metadata": {},
   "source": [
    "This example shows how to get assembly counts per symmetry types, further broken down by Enzyme Classification (EC) classes.\n",
    "The assemblies are first filtered to homo-oligomers only."
   ]
  },
  {
   "cell_type": "code",
   "execution_count": null,
   "metadata": {},
   "outputs": [],
   "source": [
    "from rcsbapi.search import AttributeQuery\n",
    "from rcsbapi.search import TerminalFilter, FilterFacet, Facet\n",
    "\n",
    "tf1 = TerminalFilter(\n",
    "    attribute=\"rcsb_struct_symmetry.kind\",\n",
    "    operator=\"exact_match\",\n",
    "    value=\"Global Symmetry\",\n",
    "    negation=False\n",
    ")\n",
    "f2 = Facet(\n",
    "    name=\"ec_terms\",\n",
    "    aggregation_type=\"terms\",\n",
    "    attribute=\"rcsb_polymer_entity.rcsb_ec_lineage.id\"\n",
    ")\n",
    "f1 = Facet(\n",
    "    name=\"sym_symbol_terms\",\n",
    "    aggregation_type=\"terms\",\n",
    "    attribute=\"rcsb_struct_symmetry.symbol\",\n",
    "    nested_facets=f2\n",
    ")\n",
    "\n",
    "ff = FilterFacet(filter=tf1, facets=f1)\n",
    "q1 = AttributeQuery(\n",
    "    attribute=\"rcsb_assembly_info.polymer_entity_count\",\n",
    "    operator=\"equals\",\n",
    "    value=1\n",
    ")\n",
    "q2 = AttributeQuery(\n",
    "    attribute=\"rcsb_assembly_info.polymer_entity_instance_count\",\n",
    "    operator=\"greater\",\n",
    "    value=1\n",
    ")\n",
    "q = q1 & q2\n",
    "q(return_type=\"assembly\", facets=ff).facets"
   ]
  },
  {
   "cell_type": "markdown",
   "metadata": {},
   "source": [
    "This example shows how to get the number of distinct protein sequences in the PDB archive."
   ]
  },
  {
   "cell_type": "code",
   "execution_count": null,
   "metadata": {},
   "outputs": [],
   "source": [
    "from rcsbapi.search import AttributeQuery\n",
    "from rcsbapi.search import TerminalFilter, FilterFacet, Facet\n",
    "\n",
    "tf1 = TerminalFilter(\n",
    "    attribute=\"rcsb_polymer_entity_group_membership.aggregation_method\",\n",
    "    operator=\"exact_match\",\n",
    "    value=\"sequence_identity\"\n",
    ")\n",
    "tf2 = TerminalFilter(\n",
    "    attribute=\"rcsb_polymer_entity_group_membership.similarity_cutoff\",\n",
    "    operator=\"equals\",\n",
    "    value=100)\n",
    "gf = GroupFilter(logical_operator=\"and\", nodes=[tf1, tf2])\n",
    "ff = FilterFacet(\n",
    "    filter=gf,\n",
    "    facets=Facet(\n",
    "        \"Distinct Protein Sequence Count\",\n",
    "        \"cardinality\",\n",
    "        \"rcsb_polymer_entity_group_membership.group_id\"\n",
    "    )\n",
    ")\n",
    "q = AttributeQuery(\n",
    "    attribute=\"rcsb_assembly_info.polymer_entity_count\",\n",
    "    operator=\"equals\",\n",
    "    value=1,\n",
    ")\n",
    "q(return_type=\"polymer_entity\", facets=ff).facets"
   ]
  },
  {
   "cell_type": "markdown",
   "metadata": {},
   "source": [
    "## GroupBy Example\n",
    "For more details on arguments to create `RequestOption` objects, see the [API reference](https://rcsbapi.readthedocs.io/en/dev-it-docs/search_api/api.html).\n",
    "\n",
    "Sequence Identity and Matching Uniprot Accession examples from [Search API Documentation](https://search.rcsb.org/#group-by-return-type).\n",
    "\n",
    "### Matching Deposit Group ID\n",
    "Aggregation method `matching_deposit_group_id` groups on the basis of a common identifier for a group of entries deposited as a collection.\n",
    "\n",
    "This example searches for entries associated with \"interleukin\" from humans with investigational or experimental drugs bound.\n",
    "Since `group_by_return_type` is specified as `representatives`, one representative structure per group is returned."
   ]
  },
  {
   "cell_type": "code",
   "execution_count": null,
   "metadata": {},
   "outputs": [],
   "source": [
    "from rcsbapi.search import AttributeQuery, TextQuery\n",
    "from rcsbapi.search import search_attributes as attrs\n",
    "from rcsbapi.search import GroupBy\n",
    "\n",
    "q1 = TextQuery(\"interleukin\")\n",
    "q2 = attrs.rcsb_entity_source_organism.scientific_name == \"Homo sapiens\"\n",
    "q3 = attrs.drugbank_info.drug_groups == \"investigational\"\n",
    "q4 = attrs.drugbank_info.drug_groups == \"experimental\"\n",
    "\n",
    "query = q1 & q2 & (q3 | q4)\n",
    "list(\n",
    "    query(\n",
    "        group_by=GroupBy(aggregation_method=\"matching_deposit_group_id\"),\n",
    "        # \"representatives\" means that only a single search hit is returned per group\n",
    "        group_by_return_type=\"representatives\"\n",
    "    )\n",
    ")"
   ]
  },
  {
   "cell_type": "markdown",
   "metadata": {},
   "source": [
    "### Sequence Identity\n",
    "Aggregation method `sequence_identity` is used to group search hits on the basis of protein sequence clusters that meet a predefined identity threshold.\n",
    "\n",
    "This example groups together identical human sequences from high-resolution (1.0-2.0Å) structures determined by X-ray crystallography. Among the resulting groups, there is a cluster of human glutathione transferases in complex with different substrates."
   ]
  },
  {
   "cell_type": "code",
   "execution_count": null,
   "metadata": {},
   "outputs": [],
   "source": [
    "from rcsbapi.search import search_attributes as attrs\n",
    "from rcsbapi.search import GroupBy, RankingCriteriaType\n",
    "\n",
    "q1 = attrs.rcsb_entity_source_organism.taxonomy_lineage.name == \"Homo sapiens\"\n",
    "q2 = attrs.exptl.method == \"X-RAY DIFFRACTION\"\n",
    "q3 = attrs.rcsb_entry_info.resolution_combined >= 1\n",
    "q4 = attrs.rcsb_entry_info.resolution_combined <= 2\n",
    "\n",
    "query = q1 & q2 & q3 & q4\n",
    "\n",
    "list(query(\n",
    "    # \"sequence_identity\" aggregation method must use return_type \"polymer_entity\"\n",
    "    # If not return_type will be changed and a warning will be raised.\n",
    "    return_type=\"polymer_entity\",\n",
    "    group_by=GroupBy(\n",
    "        aggregation_method=\"sequence_identity\",\n",
    "        similarity_cutoff=100,  # 100, 95, 90, 70, 50, or 30\n",
    "        ranking_criteria_type=RankingCriteriaType(\n",
    "                sort_by=\"entity_poly.rcsb_sample_sequence_length\",\n",
    "                direction=\"desc\"\n",
    "        )\n",
    "    ),\n",
    "    group_by_return_type=\"groups\"  # divide into groups returned with all associated hits\n",
    "))"
   ]
  },
  {
   "cell_type": "markdown",
   "metadata": {},
   "source": [
    "### Matching Uniprot Accession\n",
    "This example demonstrates how to use `matching_uniprot_accession` grouping to get distinct Spike protein S1 proteins released from the beginning of 2020. Here, all entities are represented by distinct groups of SARS-CoV, SARS-CoV-2 and Pangolin coronavirus spike proteins."
   ]
  },
  {
   "cell_type": "code",
   "execution_count": null,
   "metadata": {},
   "outputs": [],
   "source": [
    "from rcsbapi.search import AttributeQuery\n",
    "from rcsbapi.search import search_attributes as attrs\n",
    "from rcsbapi.search import GroupBy, RankingCriteriaType\n",
    "\n",
    "q1 = AttributeQuery(\n",
    "    attribute=\"rcsb_polymer_entity.pdbx_description\",\n",
    "    operator=\"contains_phrase\",\n",
    "    value=\"Spike protein S1\"\n",
    ")\n",
    "q2 = attrs.rcsb_accession_info.initial_release_date > \"2020-01-01\"\n",
    "\n",
    "query = q1 & q2\n",
    "list(query(\n",
    "    # \"matching_uniprot_accession\" aggregation method\n",
    "    # must use return type \"polymer_entity\"\n",
    "    return_type=\"polymer_entity\",\n",
    "    group_by=GroupBy(\n",
    "        aggregation_method=\"matching_uniprot_accession\",\n",
    "        ranking_criteria_type= RankingCriteriaType(\n",
    "            sort_by=\"coverage\"\n",
    "        )\n",
    "    ),\n",
    "    group_by_return_type=\"groups\"\n",
    "))"
   ]
  },
  {
   "cell_type": "markdown",
   "metadata": {},
   "source": [
    "## Sort Example\n",
    "The `sort` request option can be used to control sorting of results. By default, results are sorted by `score` in descending order.\n",
    "You can also sort by attribute name and apply filters.\n",
    "\n",
    "Example from [RCSB PDB Search API](https://search.rcsb.org/#sorting) page."
   ]
  },
  {
   "cell_type": "code",
   "execution_count": null,
   "metadata": {},
   "outputs": [],
   "source": [
    "from rcsbapi.search import AttributeQuery\n",
    "from rcsbapi.search import Sort\n",
    "\n",
    "query = AttributeQuery(\n",
    "    attribute=\"struct.title\",\n",
    "    operator=\"contains_phrase\",\n",
    "    value=\"hiv protease\",\n",
    ")\n",
    "\n",
    "list(query(sort=\n",
    "    Sort(\n",
    "        sort_by=\"rcsb_accession_info.initial_release_date\",\n",
    "        direction=\"desc\"\n",
    "    )\n",
    "))"
   ]
  }
 ],
 "metadata": {
  "kernelspec": {
   "display_name": "Python 3",
   "language": "python",
   "name": "python3"
  },
  "language_info": {
   "codemirror_mode": {
    "name": "ipython",
    "version": 3
   },
   "file_extension": ".py",
   "mimetype": "text/x-python",
   "name": "python",
   "nbconvert_exporter": "python",
   "pygments_lexer": "ipython3",
   "version": "3.12.6"
  }
 },
 "nbformat": 4,
 "nbformat_minor": 4
}
