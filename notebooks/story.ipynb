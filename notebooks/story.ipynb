{
 "cells": [
  {
   "cell_type": "code",
   "execution_count": 27,
   "metadata": {},
   "outputs": [],
   "source": [
    "from rcsbapi.data.query import Query\n",
    "from rcsbapi.data.query import SCHEMA\n",
    "from rcsbsearchapi import rcsb_attributes as attrs\n",
    "from pprint import pprint"
   ]
  },
  {
   "cell_type": "markdown",
   "metadata": {},
   "source": [
    "## RCSB PDB Data API: Search and Data API Workflow Demo\n",
    "\n",
    "This quick-start notebook will walk through the basics of making queries in this package using a simple example. For more in-depth documentation reference the [README](https://github.com/rcsb/py-rcsb-api/blob/master/README.md).\n",
    "\n",
    "\\\n",
    "install the package: \n",
    "\n",
    "```pip install rcsbdataapi```\n",
    "\n",
    "\\\n",
    "In this demo, we are interested in finding potential drugs to treat COVID-19 and the associated literature in order to conduct further research. To do this, we will:\n",
    " 1. Construct a query to fetch COVID-19 viruses with ligands bound (Python Search API package)\n",
    " 2. Find information about each ligand (PDB ID, Formula, associated publications) (Python Data API package)\n",
    " 3. Parse our results and output in an easy-to-read format"
   ]
  },
  {
   "cell_type": "markdown",
   "metadata": {},
   "source": [
    "### Python Search API: Find COVID-19 Structures with Ligand Bound\n",
    "To learn more about using the Search API Python package, read the documentation [here](https://rcsbsearchapi.readthedocs.io/en/latest/)\n",
    "\n",
    "We'll start by constructing a query.\n",
    "- Source organism is \"COVID-19 virus\" \n",
    "- Nonpolymer_enitity that is the subject of investigation in the structure\n",
    "- Modified chemical component is present"
   ]
  },
  {
   "cell_type": "code",
   "execution_count": 28,
   "metadata": {},
   "outputs": [
    {
     "name": "stdout",
     "output_type": "stream",
     "text": [
      "['6W61', '7ARF', '7AWU', '7C8B', '7JP0', '7JPZ', '7JQ0', '7JQ1', '7JQ2', '7JQ3']\n"
     ]
    }
   ],
   "source": [
    "# Create each subquery\n",
    "q1 = attrs.rcsb_entity_source_organism.taxonomy_lineage.name == \"COVID-19 virus\"\n",
    "q2 = attrs.rcsb_nonpolymer_entity_annotation.type == \"SUBJECT_OF_INVESTIGATION\"\n",
    "q3 = attrs.rcsb_polymer_entity_feature_summary.type == \"modified_monomer\"\n",
    "\n",
    "# Combine using bitwise operators (&, |, ~, etc)\n",
    "query = q1 & q2 & q3\n",
    "\n",
    "# Call the query to execute it\n",
    "result_list = query()\n",
    "\n",
    "# Print and save the first five resilts\n",
    "short_result_list = []\n",
    "for i, result in enumerate(result_list):\n",
    "    if i < 10:\n",
    "        short_result_list.append(result)\n",
    "print(short_result_list)\n"
   ]
  },
  {
   "cell_type": "markdown",
   "metadata": {},
   "source": [
    "### Python Data API: Find Information About Structures\n",
    "\n",
    "Once we have the PDB IDs, we can query them using the data API for information related to the structure. \n",
    "\n",
    "In this case, we will find the following for the first 10 results:\n",
    "- ID\n",
    "- Title of associated publication\n",
    "- Digital Object Identifier (DOI) if applicable"
   ]
  },
  {
   "cell_type": "code",
   "execution_count": 29,
   "metadata": {},
   "outputs": [
    {
     "name": "stderr",
     "output_type": "stream",
     "text": [
      "WARNING:root:Was not able to post query due to the following error.\n"
     ]
    },
    {
     "name": "stdout",
     "output_type": "stream",
     "text": [
      "1. Validation error (FieldUndefined@[entries/nonpolymer_entities/nonpolymer_entity_instances/rcsb_nonpolymer_instance_validation_score/nonpolymer_entities]) : Field 'nonpolymer_entities' in type 'RcsbNonpolymerInstanceValidationScore' is undefined\n",
      ". Run <query object name>.get_editor_link() to get a link to GraphiQL editor with query\n",
      "None\n"
     ]
    }
   ],
   "source": [
    "query = Query(input_ids={\"entry_ids\":short_result_list}, input_type=\"entries\", return_data_list=[\n",
    "        \"CoreEntry.rcsb_id\", \"is_subject_of_investigation\", \"RcsbNonpolymerEntityInstanceContainerIdentifiers.comp_id\", \"Citation.title\", \"Citation.pdbx_database_id_DOI\"])\n",
    "pprint(query.response)"
   ]
  },
  {
   "cell_type": "markdown",
   "metadata": {},
   "source": [
    "### Parsing the Result\n",
    "\n",
    "The result of the request is returned in JSON format. We can refer JSON output to understand the data structure and then parse it for the information that is useful to us.\n",
    "In this case, we will\n",
    "- Confirm the subject of investigation and find the ID if it exists (comp_id)\n",
    "- Find the publication title \n",
    "- Construct a link to the publication using the DOI\n",
    "- Put these data into a dictionary"
   ]
  },
  {
   "cell_type": "code",
   "execution_count": null,
   "metadata": {},
   "outputs": [],
   "source": [
    "json = query.response[\"data\"][\"entries\"]\n",
    "output_dict = {}\n",
    "\n",
    "# iterate through the result of each entry requested\n",
    "for entry_dict in json:\n",
    "    rcsb_id = entry_dict[\"rcsb_id\"]\n",
    "    chem_id_list = []\n",
    "\n",
    "    # Check for non-polymer subject of investigation, then append to chem_id_list\n",
    "    for entity_dict in entry_dict[\"nonpolymer_entities\"]:\n",
    "        for instance_dict in entity_dict[\"nonpolymer_entity_instances\"]:\n",
    "            is_subject = instance_dict[\"rcsb_nonpolymer_instance_validation_score\"][0][\"is_subject_of_investigation\"]\n",
    "            if is_subject == \"Y\":\n",
    "                comp_ids = instance_dict[\"rcsb_nonpolymer_instance_feature_summary\"]\n",
    "                if (comp_ids is not None):\n",
    "                    for id in comp_ids:\n",
    "                        if id not in chem_id_list:\n",
    "                            chem_id_list.append(id)\n",
    "\n",
    "    # Find publication title\n",
    "    title = entry_dict[\"citation\"][0][\"title\"]\n",
    "\n",
    "    # Construct link from DOI (only exists if paper has been published or is on preprint server)\n",
    "    base_link = \"https://doi.org/\"\n",
    "    doi_link = \"\"\n",
    "    if entry_dict[\"citation\"][0][\"pdbx_database_id_DOI\"] is not None:\n",
    "        doi_link += base_link + entry_dict[\"citation\"][0][\"pdbx_database_id_DOI\"]\n",
    "\n",
    "    # Add to dictionary\n",
    "    output_dict[rcsb_id] = {\"subject_of_investigation\": chem_id_list, \"title\": title, \"link\": doi_link}\n",
    "\n",
    "pprint(output_dict)"
   ]
  }
 ],
 "metadata": {
  "kernelspec": {
   "display_name": "Python 3",
   "language": "python",
   "name": "python3"
  },
  "language_info": {
   "codemirror_mode": {
    "name": "ipython",
    "version": 3
   },
   "file_extension": ".py",
   "mimetype": "text/x-python",
   "name": "python",
   "nbconvert_exporter": "python",
   "pygments_lexer": "ipython3",
   "version": "3.10.11"
  }
 },
 "nbformat": 4,
 "nbformat_minor": 2
}
