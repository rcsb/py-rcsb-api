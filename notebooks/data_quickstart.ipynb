{
 "cells": [
  {
   "cell_type": "markdown",
   "metadata": {},
   "source": [
    "<a href=\"https://colab.research.google.com/github/rcsb/py-rcsb-api/blob/master/notebooks/data_quickstart.ipynb\" target=\"_parent\"><img src=\"https://colab.research.google.com/assets/colab-badge.svg\" alt=\"Open In Colab\"/></a>"
   ]
  },
  {
   "cell_type": "markdown",
   "metadata": {},
   "source": [
    "# RCSB PDB Data API: Quickstart\n",
    "\n",
    "This Quickstart notebook will walk through the basics of creating and executing queries using the `rcsbapi.data` module of the `rcsb-api` package. For more in-depth documentation, reference the [readthedocs page](https://rcsbapi.readthedocs.io/en/latest/data_api/quickstart.html).\n",
    "\n",
    "\\\n",
    "Before beginning, you must install the package:\n",
    "\n",
    "```pip install rcsb-api```"
   ]
  },
  {
   "cell_type": "code",
   "execution_count": null,
   "metadata": {
    "scrolled": true
   },
   "outputs": [],
   "source": [
    "%pip install rcsb-api"
   ]
  },
  {
   "cell_type": "code",
   "execution_count": 25,
   "metadata": {
    "scrolled": false
   },
   "outputs": [],
   "source": [
    "from rcsbapi.data import DataQuery as Query\n",
    "import json  # for easy-to-read output"
   ]
  },
  {
   "cell_type": "markdown",
   "metadata": {},
   "source": [
    "## Creating and executing queries"
   ]
  },
  {
   "cell_type": "markdown",
   "metadata": {},
   "source": [
    "To create a `Query` object, you need to provide three arguments:\n",
    "- `input_type`: input_types are points where you can begin your query. Some examples are `entries`, `polymer_entities`, and `polymer_entity_instances`. For a full list of input_types see the [readthedocs](https://rcsbapi.readthedocs.io/en/latest/data_api/query_construction.html#input-type).\n",
    "- `input_ids`: input_ids are accepted as a list or dictionary of PDB-formatted IDs.\n",
    "- `return_data_list`: list of data items to return. These must be unique path segments (using dots to separate each name). Further explained [below](#Providing-specific-and-unique-field-names/paths).\n",
    "\n",
    "(More details on input arguments can be found in [readthedocs: Query Construction](https://rcsbapi.readthedocs.io/en/latest/data_api/query_construction.html).)\n",
    "\n",
    "For example, to create a `Query` object requesting all non-polymer components of a structure (ions, cofactors, etc):"
   ]
  },
  {
   "cell_type": "code",
   "execution_count": null,
   "metadata": {},
   "outputs": [],
   "source": [
    "query = Query(\n",
    "    input_type=\"entries\",\n",
    "    input_ids=[\"4HHB\"],\n",
    "    return_data_list=[\"nonpolymer_bound_components\"]  # must be unique field or unique path segment\n",
    ")\n",
    "\n",
    "# Note: When the package autocompletes a path, it prints an Warning message\n",
    "# To suppress this warning, either use the fully qualified path (\"rcsb_entry_info.nonpolymer_bound_components\"),\n",
    "# or set the `suppress_autocomplete_warning` to True.\n"
   ]
  },
  {
   "cell_type": "markdown",
   "metadata": {},
   "source": [
    "After creating a `Query` object, you can run it with `.exec()` or view the GraphQL query with `.get_editor_link()`:"
   ]
  },
  {
   "cell_type": "code",
   "execution_count": null,
   "metadata": {},
   "outputs": [],
   "source": [
    "# Execute the query and print the results\n",
    "return_data = query.exec()\n",
    "print(json.dumps(return_data, indent=2))  # prints return_data with easy-to-read formatting\n",
    "\n",
    "## Expected Output:\n",
    "# {\n",
    "#  \"data\": {\n",
    "#    \"entries\": [\n",
    "#      {\n",
    "#        \"rcsb_id\": \"4HHB\",\n",
    "#        \"rcsb_entry_info\": {\n",
    "#          \"nonpolymer_bound_components\": [\n",
    "#            \"HEM\"\n",
    "#          ]\n",
    "#        }\n",
    "#      }\n",
    "#    ]\n",
    "#  }\n",
    "# }"
   ]
  },
  {
   "cell_type": "code",
   "execution_count": null,
   "metadata": {},
   "outputs": [],
   "source": [
    "# Print the GraphQL editor URL\n",
    "query.get_editor_link()"
   ]
  },
  {
   "cell_type": "markdown",
   "metadata": {},
   "source": [
    "### Querying multiple IDs\n",
    "You can search multiple entries by starting from `input_type` \"entries\" and passing in a list of `input_ids`."
   ]
  },
  {
   "cell_type": "code",
   "execution_count": null,
   "metadata": {},
   "outputs": [],
   "source": [
    "query = Query(\n",
    "    input_type=\"entries\",\n",
    "    input_ids=[\"4HHB\", \"12CA\", \"3PQR\"],\n",
    "    return_data_list=[\"nonpolymer_bound_components\"]\n",
    ")\n",
    "return_data = query.exec()\n",
    "print(json.dumps(return_data, indent=2))"
   ]
  },
  {
   "cell_type": "markdown",
   "metadata": {},
   "source": [
    "### Querying multiple data items\n",
    "You can also request multiple data items by adding to the `return_data_list`."
   ]
  },
  {
   "cell_type": "code",
   "execution_count": null,
   "metadata": {},
   "outputs": [],
   "source": [
    "#  Query multiple fields in return_data_list\n",
    "query = Query(\n",
    "    input_type=\"entries\",\n",
    "    input_ids=[\"4HHB\", \"12CA\", \"3PQR\"],\n",
    "    return_data_list=[\n",
    "        \"nonpolymer_bound_components\",\n",
    "        \"citation.title\",\n",
    "        \"rcsb_entry_info.polymer_composition\"\n",
    "    ]\n",
    ")\n",
    "return_data = query.exec()\n",
    "print(json.dumps(return_data, indent=2))"
   ]
  },
  {
   "cell_type": "markdown",
   "metadata": {},
   "source": [
    "### Autocompletion of nested fields\n",
    "If there are fields nested under a requested data item in `return_data_list`, the package will add all sub-fields to the query. This allows you to make more general requests to get all information under that field (e.g., `\"exptl\"`). If you would like a more precise query, you can request specific fields (e.g., `\"exptl.method\"`)."
   ]
  },
  {
   "cell_type": "code",
   "execution_count": null,
   "metadata": {},
   "outputs": [],
   "source": [
    "# Requesting \"exptl\" gets all fields underneath that field\n",
    "query = Query(\n",
    "    input_type=\"entries\",\n",
    "    input_ids=[\"4HHB\"],\n",
    "    return_data_list=[\"exptl\"] # requests exptl.crystals_number, exptl.method, etc.\n",
    ")\n",
    "return_data = query.exec()\n",
    "print(json.dumps(return_data, indent=2))"
   ]
  },
  {
   "cell_type": "code",
   "execution_count": null,
   "metadata": {},
   "outputs": [],
   "source": [
    "# To view the generated GraphQL query:\n",
    "query.get_editor_link()"
   ]
  },
  {
   "cell_type": "markdown",
   "metadata": {},
   "source": [
    "### Querying different `input_types`\n",
    "You can also start queries from various `input_types` (e.g., `polymer_entities`, `polymer_entity_instances`, `uniprot`). (For more examples, see [readthedocs: Additional Examples](https://rcsbapi.readthedocs.io/en/latest/data_api/additional_examples.html))"
   ]
  },
  {
   "cell_type": "code",
   "execution_count": null,
   "metadata": {},
   "outputs": [],
   "source": [
    "# Search from input_type \"polymer_entities\"\n",
    "query = Query(\n",
    "    input_type=\"polymer_entities\",\n",
    "    input_ids=[\"2CPK_1\", \"3WHM_1\", \"2D5Z_1\"],\n",
    "    return_data_list=[\n",
    "        \"polymer_entities.rcsb_id\",\n",
    "        \"rcsb_entity_source_organism.ncbi_taxonomy_id\",\n",
    "        \"rcsb_entity_source_organism.ncbi_scientific_name\",\n",
    "        \"cluster_id\",\n",
    "        \"identity\"\n",
    "    ]\n",
    ")\n",
    "return_data = query.exec()\n",
    "print(json.dumps(return_data, indent=2))"
   ]
  },
  {
   "cell_type": "code",
   "execution_count": null,
   "metadata": {},
   "outputs": [],
   "source": [
    "# Search from input_type \"polymer_entity_instances\"\n",
    "query = Query(\n",
    "    input_type=\"polymer_entity_instances\",\n",
    "    input_ids=[\"4HHB.A\", \"12CA.A\", \"3PQR.A\"],\n",
    "    return_data_list=[\n",
    "        \"polymer_entity_instances.rcsb_id\",\n",
    "        \"rcsb_polymer_instance_annotation.annotation_id\",\n",
    "        \"rcsb_polymer_instance_annotation.name\",\n",
    "        \"rcsb_polymer_instance_annotation.type\"\n",
    "    ]\n",
    ")\n",
    "return_data = query.exec()\n",
    "print(json.dumps(return_data, indent=2))"
   ]
  },
  {
   "cell_type": "code",
   "execution_count": null,
   "metadata": {},
   "outputs": [],
   "source": [
    "# Search from input_type \"uniprot\"\n",
    "query = Query(\n",
    "    input_type=\"uniprot\",\n",
    "    input_ids=[\"P68871\"],\n",
    "    return_data_list=[\n",
    "        \"rcsb_uniprot_annotation\"\n",
    "    ]\n",
    ")\n",
    "return_data = query.exec()\n",
    "print(json.dumps(return_data, indent=2))"
   ]
  },
  {
   "cell_type": "markdown",
   "metadata": {},
   "source": [
    "## Determining fields for `return_data_list`"
   ]
  },
  {
   "cell_type": "markdown",
   "metadata": {},
   "source": [
    "### Providing specific and unique field names/paths\n",
    "There are some fields that must be further specified using multiple fields separated by dots. This is because some fields are redundant within our GraphQL Data API schema. For example, “id” appears over 50 times.\n",
    "\n",
    "For example, the field, `\"polymer_composition\"`, is redundant between several nodes: "
   ]
  },
  {
   "cell_type": "code",
   "execution_count": null,
   "metadata": {},
   "outputs": [],
   "source": [
    "# The field \"polymer_composition\" isn't specific enough\n",
    "query = Query(\n",
    "    input_type=\"entries\",\n",
    "    input_ids=[\"4HHB\"],\n",
    "    return_data_list=[\"polymer_composition\"]\n",
    ")\n",
    "\n",
    "# This will throw a ValueError, which will print out up to 10 valid paths that you can use instead"
   ]
  },
  {
   "cell_type": "markdown",
   "metadata": {},
   "source": [
    "```\n",
    "ValueError: Given path  \"polymer_composition\" not specific enough. Use one or more of these paths in return_data_list argument:\n",
    "\n",
    "3 of 3 possible paths:\n",
    "  assemblies.interfaces.rcsb_interface_info.polymer_composition\n",
    "  assemblies.rcsb_assembly_info.polymer_composition\n",
    "  rcsb_entry_info.polymer_composition\n",
    "```"
   ]
  },
  {
   "cell_type": "markdown",
   "metadata": {},
   "source": [
    "To get a list of all possible paths for a given field name, you can use the `DataSchema().find_paths()` method:\n",
    "```python\n",
    "from rcsbapi.data import DataSchema\n",
    "schema = DataSchema()\n",
    "schema.find_paths(input_type, field_name_or_path_segment)\n",
    "```\n",
    "For example:"
   ]
  },
  {
   "cell_type": "code",
   "execution_count": null,
   "metadata": {},
   "outputs": [],
   "source": [
    "# Find all paths:\n",
    "from rcsbapi.data import DataSchema\n",
    "\n",
    "schema = DataSchema()\n",
    "schema.find_paths(input_type=\"entries\", return_data_name=\"polymer_composition\")"
   ]
  },
  {
   "cell_type": "code",
   "execution_count": null,
   "metadata": {},
   "outputs": [],
   "source": [
    "# By looking through the list, find the intended field path\n",
    "query = Query(\n",
    "    input_type=\"entries\",\n",
    "    input_ids=[\"4HHB\"],\n",
    "    return_data_list=[\"rcsb_entry_info.polymer_composition\"]\n",
    ")\n",
    "return_data = query.exec()\n",
    "print(json.dumps(return_data, indent=2))"
   ]
  },
  {
   "cell_type": "markdown",
   "metadata": {},
   "source": [
    "###  Discovering field names\n",
    "If you're unsure which fields exist, you can call `find_field_names(search_substring)`.\n",
    "\n",
    "For example, to find all fields containing `\"comp\"`:"
   ]
  },
  {
   "cell_type": "code",
   "execution_count": null,
   "metadata": {},
   "outputs": [],
   "source": [
    "from rcsbapi.data import DataSchema\n",
    "\n",
    "schema = DataSchema()\n",
    "schema.find_field_names(\"comp\")"
   ]
  },
  {
   "cell_type": "markdown",
   "metadata": {},
   "source": [
    "Note that once you identify which field you want to use, you may need to also run the `find_paths()` method mentioned above on the field name to identify the set of possible paths for `return_data_list`. "
   ]
  },
  {
   "cell_type": "code",
   "execution_count": null,
   "metadata": {},
   "outputs": [],
   "source": [
    "# Find all paths for the field `\"chem_comps\"`:\n",
    "schema.find_paths(input_type=\"entries\", return_data_name=\"chem_comp\")"
   ]
  },
  {
   "cell_type": "markdown",
   "metadata": {},
   "source": [
    "For more in-depth documentation, go to [readthedocs](https://rcsbapi.readthedocs.io/en/latest/data_api/quickstart.html)."
   ]
  }
 ],
 "metadata": {
  "kernelspec": {
   "display_name": "Python 3",
   "language": "python",
   "name": "python3"
  },
  "language_info": {
   "codemirror_mode": {
    "name": "ipython",
    "version": 3
   },
   "file_extension": ".py",
   "mimetype": "text/x-python",
   "name": "python",
   "nbconvert_exporter": "python",
   "pygments_lexer": "ipython3",
   "version": "3.12.6"
  }
 },
 "nbformat": 4,
 "nbformat_minor": 4
}
