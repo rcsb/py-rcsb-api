{
 "cells": [
  {
   "cell_type": "markdown",
   "id": "deb1fbf6",
   "metadata": {},
   "source": [
    "# rcsbapi.search\n",
    "\n",
    "Access the RCSB PDB advanced search from python: [rcsbapi.readthedocs.io](https://rcsbapi.readthedocs.io)\n",
    "\n",
    "    pip install rcsb-api\n"
   ]
  },
  {
   "cell_type": "code",
   "execution_count": 9,
   "id": "married-burden",
   "metadata": {},
   "outputs": [],
   "source": [
    "from rcsbapi.search import rcsb_attributes as attrs, TextQuery"
   ]
  },
  {
   "cell_type": "markdown",
   "id": "266c28ab",
   "metadata": {},
   "source": [
    "## Demo\n",
    "\n",
    "We are interested in how the antiviral drug boceprevir interacts with the Covid-19 virus. \n",
    "- Source Organism is \"COVID-19 virus\"\n",
    "- Structure title contains \"protease\"\n",
    "- Bound to ligand \"Boceprevir\"\n",
    "\n",
    "[RCSB Query](http://www.rcsb.org/search?request=%7B%22query%22%3A%7B%22type%22%3A%22group%22%2C%22logical_operator%22%3A%22and%22%2C%22nodes%22%3A%5B%7B%22type%22%3A%22terminal%22%2C%22service%22%3A%22text%22%2C%22parameters%22%3A%7B%22attribute%22%3A%22rcsb_entity_source_organism.taxonomy_lineage.name%22%2C%22operator%22%3A%22exact_match%22%2C%22value%22%3A%22COVID-19%22%2C%22negation%22%3Afalse%7D%2C%22node_id%22%3A0%7D%2C%7B%22type%22%3A%22terminal%22%2C%22service%22%3A%22text%22%2C%22parameters%22%3A%7B%22value%22%3A%22protease%22%2C%22negation%22%3Afalse%7D%2C%22node_id%22%3A1%7D%2C%7B%22type%22%3A%22terminal%22%2C%22service%22%3A%22text%22%2C%22parameters%22%3A%7B%22attribute%22%3A%22chem_comp.name%22%2C%22operator%22%3A%22contains_words%22%2C%22value%22%3A%22Boceprevir%22%2C%22negation%22%3Afalse%7D%2C%22node_id%22%3A2%7D%5D%7D%2C%22return_type%22%3A%22entry%22%2C%22request_info%22%3A%7B%22query_id%22%3A%2270e677a6376b4c5eba8b4f2b73866c92%22%2C%22src%22%3A%22ui%22%7D%7D)"
   ]
  },
  {
   "attachments": {},
   "cell_type": "markdown",
   "id": "collectible-thread",
   "metadata": {},
   "source": [
    "## Operator syntax\n",
    "- Uses python comparison operators for basic attributes (`==`, `<`, `<=`, etc)\n",
    "- Combine using set operators (`&`, `|`, `~`, etc)\n",
    "- Execute queries as functions"
   ]
  },
  {
   "cell_type": "code",
   "execution_count": null,
   "id": "confidential-behavior",
   "metadata": {},
   "outputs": [],
   "source": [
    "q1 = attrs.rcsb_entity_source_organism.taxonomy_lineage.name == \"COVID-19 virus\"\n",
    "q2 = TextQuery(\"protease\")\n",
    "q3 = attrs.chem_comp.name.contains_words(\"Boceprevir\")\n",
    "q4 = attrs.rcsb_entry_info.resolution_combined > 1.5\n",
    "query = q1 & q2 & q3 & q4\n",
    "\n",
    "list(query())"
   ]
  },
  {
   "attachments": {},
   "cell_type": "markdown",
   "id": "uniform-allen",
   "metadata": {},
   "source": [
    "## Fluent syntax\n",
    "\n",
    "A second syntax is available with a [fluent interface](https://en.wikipedia.org/wiki/Fluent_interface), similar to popular data science packages like tidyverse and Apache Spark. Function calls  are chained together.\n",
    "\n",
    "Here's an example around a second antiviral, remdesivir. The drug interferes with RNA polymerase, replacing an adenine and causing early chain termination. When integrated into RNA, the nucleotide formed from remdesivir has residue code F86."
   ]
  },
  {
   "cell_type": "code",
   "execution_count": null,
   "id": "irish-navigator",
   "metadata": {
    "scrolled": true
   },
   "outputs": [],
   "source": [
    "attrs.struct.title.contains_phrase(\"RNA polymerase\")\\\n",
    "    .or_(attrs.struct.title).contains_words(\"RdRp\")\\\n",
    "    .and_(attrs.rcsb_entity_source_organism.taxonomy_lineage.name).exact_match(\"COVID-19 virus\")\\\n",
    "    .and_(attrs.rcsb_chem_comp_container_identifiers.comp_id).exact_match(\"F86\")\\\n",
    "    .exec()\\\n",
    "    .iquery()\n"
   ]
  },
  {
   "attachments": {},
   "cell_type": "markdown",
   "id": "distant-graduate",
   "metadata": {},
   "source": [
    "## Try it!\n",
    "\n",
    "[rcsbsearchapi.readthedocs.io](rcsbsearchapi.readthedocs.io)"
   ]
  }
 ],
 "metadata": {
  "kernelspec": {
   "display_name": "Python 3",
   "language": "python",
   "name": "python3"
  },
  "language_info": {
   "codemirror_mode": {
    "name": "ipython",
    "version": 3
   },
   "file_extension": ".py",
   "mimetype": "text/x-python",
   "name": "python",
   "nbconvert_exporter": "python",
   "pygments_lexer": "ipython3",
   "version": "3.12.6"
  },
  "toc": {
   "base_numbering": 1,
   "nav_menu": {},
   "number_sections": true,
   "sideBar": true,
   "skip_h1_title": false,
   "title_cell": "Table of Contents",
   "title_sidebar": "Contents",
   "toc_cell": false,
   "toc_position": {},
   "toc_section_display": true,
   "toc_window_display": false
  },
  "varInspector": {
   "cols": {
    "lenName": 16,
    "lenType": 16,
    "lenVar": 40
   },
   "kernels_config": {
    "python": {
     "delete_cmd_postfix": "",
     "delete_cmd_prefix": "del ",
     "library": "var_list.py",
     "varRefreshCmd": "print(var_dic_list())"
    },
    "r": {
     "delete_cmd_postfix": ") ",
     "delete_cmd_prefix": "rm(",
     "library": "var_list.r",
     "varRefreshCmd": "cat(var_dic_list()) "
    }
   },
   "types_to_exclude": [
    "module",
    "function",
    "builtin_function_or_method",
    "instance",
    "_Feature"
   ],
   "window_display": false
  }
 },
 "nbformat": 4,
 "nbformat_minor": 5
}
