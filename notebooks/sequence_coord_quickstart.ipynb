{
 "cells": [
  {
   "cell_type": "markdown",
   "id": "33ebe9f8",
   "metadata": {},
   "source": [
    "<a href=\"https://colab.research.google.com/github/rcsb/py-rcsb-api/blob/master/notebooks/sequence_coord_quickstart.ipynb\" target=\"_parent\"><img src=\"https://colab.research.google.com/assets/colab-badge.svg\" alt=\"Open In Colab\"/></a>"
   ]
  },
  {
   "cell_type": "markdown",
   "id": "49c7fd42",
   "metadata": {},
   "source": [
    "# RCSB PDB Sequence Coordinates API: Quickstart and examples\n",
    "\n",
    "This notebook provides a quickstart to the `rcsbapi.sequence` module, which enables access to the RCSB PDB [Sequence Coordinates API](https://sequence-coordinates.rcsb.org/#sequence-coordinates-api) service.\n",
    "\n",
    "For further details and documentation, please refer to the [readthedocs: Sequence](https://rcsbapi.readthedocs.io/en/latest/seq_api/quickstart.html)."
   ]
  },
  {
   "cell_type": "markdown",
   "id": "59df9250",
   "metadata": {},
   "source": [
    "## Installation\n",
    "Start by installing the package:\n",
    "\n",
    "    pip install rcsb-api"
   ]
  },
  {
   "cell_type": "code",
   "execution_count": null,
   "id": "84b427e8",
   "metadata": {},
   "outputs": [],
   "source": [
    "%pip install rcsb-api"
   ]
  },
  {
   "cell_type": "code",
   "execution_count": null,
   "id": "26c49575",
   "metadata": {},
   "outputs": [],
   "source": [
    "from rcsbapi.sequence import Alignments, Annotations"
   ]
  },
  {
   "cell_type": "markdown",
   "id": "d548d079",
   "metadata": {},
   "source": [
    "## Getting Started\n",
    "\n",
    "The [RCSB PDB Sequence Coordinates API](https://sequence-coordinates.rcsb.org/#sequence-coordinates-api) allows querying for alignments between structural and sequence databases as well as protein positional annotations/features integrated from multiple resources. Alignment data is available for NCBI [RefSeq](https://www.ncbi.nlm.nih.gov/refseq/) (including protein and genomic sequences), UniProt and PDB sequences. Protein positional features are integrated from [UniProt](https://www.uniprot.org/), [CATH](https://www.cathdb.info/), [SCOPe](https://scop.berkeley.edu/) and [RCSB PDB](https://www.rcsb.org/) and collected from the [RCSB PDB Data Warehouse](https://data.rcsb.org/#data-api).\n",
    "\n",
    "Alignments and positional features provided by this API include Experimental Structures from the [PDB](https://www.rcsb.org/) and [select Computed Structure Models (CSMs)](https://www.rcsb.org/docs/general-help/computed-structure-models-and-rcsborg#what-csms-are-available). Alignments and positional features for CSMs can be requested using the same parameters as Experimental Structures providing CSM Ids.\n",
    "\n",
    "The API supports requests using [GraphQL](https://graphql.org/), a language for API queries. This package simplifies generating queries in GraphQL syntax. \n",
    "\n",
    "There are two main types of queries: `Alignments` and `Annotations`."
   ]
  },
  {
   "cell_type": "markdown",
   "id": "eba76f5d",
   "metadata": {},
   "source": [
    "### Alignments\n",
    "\n",
    "`Alignments` queries request data about alignments between an object in a supported database to all objects of another supported database."
   ]
  },
  {
   "cell_type": "code",
   "execution_count": null,
   "id": "0126ff2f",
   "metadata": {},
   "outputs": [],
   "source": [
    "from rcsbapi.sequence import Alignments\n",
    "\n",
    "# Fetch alignments between a UniProt Accession and PDB Entities\n",
    "query = Alignments(\n",
    "    db_from=\"UNIPROT\",\n",
    "    db_to=\"PDB_ENTITY\",\n",
    "    query_id=\"P01112\",\n",
    "    return_data_list=[\"query_sequence\", \"target_alignments\", \"alignment_length\"]\n",
    ")\n",
    "result_dict = query.exec()\n",
    "print(result_dict)"
   ]
  },
  {
   "cell_type": "markdown",
   "id": "147df8ae",
   "metadata": {},
   "source": [
    "### Annotations\n",
    "`Annotations` queries request annotation data about a sequence (e.g., residue-level annotations/features). Protein positional features are integrated from [UniProt](https://www.uniprot.org/), [CATH](https://www.cathdb.info/), [SCOPe](https://scop.berkeley.edu/) and [RCSB PDB](https://www.rcsb.org/) and collected from the [RCSB PDB Data Warehouse](https://data.rcsb.org/#data-api). "
   ]
  },
  {
   "cell_type": "code",
   "execution_count": null,
   "id": "4d6086cb",
   "metadata": {},
   "outputs": [],
   "source": [
    "from rcsbapi.sequence import Annotations\n",
    "\n",
    "# Fetch all positional features for a particular PDB Instance\n",
    "query = Annotations(  # type: ignore\n",
    "    reference=\"PDB_INSTANCE\",\n",
    "    query_id=\"2UZI.C\",\n",
    "    sources=[\"UNIPROT\"],\n",
    "    return_data_list=[\"target_id\", \"features\"]\n",
    ")\n",
    "result_dict = query.exec()\n",
    "print(result_dict)"
   ]
  },
  {
   "cell_type": "markdown",
   "id": "e32f2533",
   "metadata": {},
   "source": [
    "## Additional Usage and Examples\n",
    "\n",
    "The `rcsbapi.sequence` module also supports more advanced query types such as `GroupAlignments`, `GroupAnnotations`, and `GroupAnnotationsSummary` as well as the use of `filters` to apply to the returned result set.\n",
    "\n",
    "The examples below illustrate the usage of these query types."
   ]
  },
  {
   "cell_type": "markdown",
   "id": "56f6b633",
   "metadata": {},
   "source": [
    "### Alignments Query with Range\n",
    "Filter alignments to a particular range:"
   ]
  },
  {
   "cell_type": "code",
   "execution_count": null,
   "id": "98e1f88b",
   "metadata": {},
   "outputs": [],
   "source": [
    "from rcsbapi.sequence import Alignments\n",
    "\n",
    "# Only return alignments data that fall in given range\n",
    "query = Alignments(\n",
    "    db_from=\"NCBI_PROTEIN\",\n",
    "    db_to=\"PDB_ENTITY\",\n",
    "    query_id=\"XP_642496\",\n",
    "    range=[1, 100],\n",
    "    return_data_list=[\"target_alignments\"]\n",
    ")\n",
    "query.exec()"
   ]
  },
  {
   "cell_type": "markdown",
   "id": "e0ccabcb",
   "metadata": {},
   "source": [
    "### Annotations Query with Filter\n",
    "You can use the `filters` argument in combination with `AnnotationFilterInput` to select which annotations to retrieve.\n",
    "\n",
    "For example, to select just the binding site annotations:"
   ]
  },
  {
   "cell_type": "code",
   "execution_count": null,
   "id": "ba921107",
   "metadata": {},
   "outputs": [],
   "source": [
    "from rcsbapi.sequence import Annotations, AnnotationFilterInput\n",
    "\n",
    "# Fetch protein-ligand binding sites for PDB Instances of UniProt Q6P1M3\n",
    "query = Annotations(\n",
    "    reference=\"UNIPROT\",\n",
    "    query_id=\"Q6P1M3\",\n",
    "    sources=[\"PDB_INSTANCE\"],\n",
    "    filters=[\n",
    "        AnnotationFilterInput(\n",
    "            field=\"TYPE\",\n",
    "            operation=\"EQUALS\",\n",
    "            values=[\"BINDING_SITE\"],\n",
    "            source=\"PDB_INSTANCE\"\n",
    "        )\n",
    "    ],\n",
    "    return_data_list=[\"target_id\", \"features\"]\n",
    ")\n",
    "query.exec()"
   ]
  },
  {
   "cell_type": "markdown",
   "id": "b58dbd38",
   "metadata": {},
   "source": [
    "### GroupAlignments\n",
    "Use `GroupAlignments` to get alignments for groups of sequences (e.g., for [UniProt P01112](https://www.rcsb.org/groups/sequence/polymer_entity/P01112))."
   ]
  },
  {
   "cell_type": "code",
   "execution_count": null,
   "id": "19665740",
   "metadata": {},
   "outputs": [],
   "source": [
    "from rcsbapi.sequence import GroupAlignments\n",
    "\n",
    "query = GroupAlignments(\n",
    "    group=\"MATCHING_UNIPROT_ACCESSION\",\n",
    "    group_id=\"P01112\",\n",
    "    return_data_list=[\"target_alignments.aligned_regions\", \"target_id\"],\n",
    ")\n",
    "query.exec()"
   ]
  },
  {
   "cell_type": "markdown",
   "id": "3c18af44",
   "metadata": {},
   "source": [
    "### GroupAlignments with Filter\n",
    "\n",
    "To filter the results down to specific set of PDB entity IDs, use the `filter` option:"
   ]
  },
  {
   "cell_type": "code",
   "execution_count": null,
   "id": "851ff202",
   "metadata": {},
   "outputs": [],
   "source": [
    "from rcsbapi.sequence import GroupAlignments\n",
    "\n",
    "query = GroupAlignments(\n",
    "    group=\"MATCHING_UNIPROT_ACCESSION\",\n",
    "    group_id=\"P01112\",\n",
    "    return_data_list=[\"target_alignments.aligned_regions\", \"target_id\"],\n",
    "    filter=[\"8CNJ_1\", \"8FG4_1\"]\n",
    ")\n",
    "query.exec()"
   ]
  },
  {
   "cell_type": "markdown",
   "id": "6d7d3017",
   "metadata": {},
   "source": [
    "### GroupAnnotations\n",
    "\n",
    "Use `GroupAnnotations` to get annotations for groups of sequences."
   ]
  },
  {
   "cell_type": "code",
   "execution_count": null,
   "id": "7cb214f0",
   "metadata": {},
   "outputs": [],
   "source": [
    "from rcsbapi.sequence import GroupAnnotations\n",
    "\n",
    "query = GroupAnnotations(\n",
    "    group=\"MATCHING_UNIPROT_ACCESSION\",\n",
    "    group_id=\"P01112\",\n",
    "    sources=[\"PDB_ENTITY\"],\n",
    "    return_data_list=[\"features.name\",\"features.feature_positions\", \"target_id\"]\n",
    ")\n",
    "query.exec()"
   ]
  },
  {
   "cell_type": "markdown",
   "id": "3ef13c64",
   "metadata": {},
   "source": [
    "### GroupAnnotations with Filter\n",
    "\n",
    "Use the `filters` argument in combination with `AnnotationFilterInput` to select which annotations to retrieve."
   ]
  },
  {
   "cell_type": "code",
   "execution_count": null,
   "id": "e8f5d6ba",
   "metadata": {},
   "outputs": [],
   "source": [
    "from rcsbapi.sequence import GroupAnnotations, AnnotationFilterInput\n",
    "\n",
    "# Fetch only \"BINDING_SITE\" annotations from PDB instances\n",
    "query = GroupAnnotations(\n",
    "    group=\"MATCHING_UNIPROT_ACCESSION\",\n",
    "    group_id=\"P01112\",\n",
    "    sources=[\"PDB_INSTANCE\"],\n",
    "    filters=[\n",
    "        AnnotationFilterInput(\n",
    "            field=\"TYPE\",\n",
    "            operation=\"EQUALS\",\n",
    "            values=[\"BINDING_SITE\"],\n",
    "            source=\"PDB_INSTANCE\"\n",
    "        )\n",
    "    ],\n",
    "    return_data_list=[\"features.name\", \"features.type\", \"features.feature_positions\", \"target_id\"],\n",
    ")\n",
    "query.exec()"
   ]
  },
  {
   "cell_type": "markdown",
   "id": "0db2fb73",
   "metadata": {},
   "source": [
    "### GroupAnnotationsSummary\n",
    "Use `GroupAnnotationsSummary` to get annotations summaries for groups of sequences."
   ]
  },
  {
   "cell_type": "code",
   "execution_count": null,
   "id": "0f9ef258",
   "metadata": {},
   "outputs": [],
   "source": [
    "from rcsbapi.sequence import GroupAnnotationsSummary\n",
    "\n",
    "query = GroupAnnotationsSummary(\n",
    "    group=\"MATCHING_UNIPROT_ACCESSION\",\n",
    "    group_id=\"P01112\",\n",
    "    sources=[\"PDB_INSTANCE\"],\n",
    "    return_data_list=[\"target_id\", \"features.type\", \"features.value\"]\n",
    ")\n",
    "query.exec()"
   ]
  },
  {
   "cell_type": "markdown",
   "id": "2b6fbe56",
   "metadata": {},
   "source": [
    "### GroupAnnotationsSummary with Filter\n",
    "\n",
    "Use the `filters` argument in combination with `AnnotationFilterInput` to select which annotation summaries to retrieve."
   ]
  },
  {
   "cell_type": "code",
   "execution_count": null,
   "id": "067e49f0",
   "metadata": {},
   "outputs": [],
   "source": [
    "from rcsbapi.sequence import GroupAnnotationsSummary, AnnotationFilterInput\n",
    "\n",
    "# Fetch only the \"LIGAND_INTERACTION\" annotation summary information\n",
    "query = GroupAnnotationsSummary(\n",
    "    group=\"MATCHING_UNIPROT_ACCESSION\",\n",
    "    group_id=\"P01112\",\n",
    "    sources=[\"PDB_INSTANCE\"],\n",
    "    filters=[\n",
    "        AnnotationFilterInput(\n",
    "            field=\"TYPE\",\n",
    "            operation=\"EQUALS\",\n",
    "            values=[\"LIGAND_INTERACTION\"],\n",
    "            source=\"PDB_INSTANCE\"\n",
    "        )\n",
    "    ],\n",
    "    return_data_list=[\"target_id\", \"features.type\", \"features.value\"]\n",
    ")\n",
    "query.exec()"
   ]
  }
 ],
 "metadata": {
  "language_info": {
   "name": "python"
  }
 },
 "nbformat": 4,
 "nbformat_minor": 5
}
