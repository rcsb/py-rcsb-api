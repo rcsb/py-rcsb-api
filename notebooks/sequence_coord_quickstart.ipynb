{
 "cells": [
  {
   "cell_type": "markdown",
   "id": "33ebe9f8",
   "metadata": {},
   "source": [
    "<a href=\"https://colab.research.google.com/github/rcsb/py-rcsb-api/blob/master/notebooks/sequence_coord_quickstart.ipynb\" target=\"_parent\"><img src=\"https://colab.research.google.com/assets/colab-badge.svg\" alt=\"Open In Colab\"/></a>"
   ]
  },
  {
   "cell_type": "markdown",
   "id": "49c7fd42",
   "metadata": {},
   "source": [
    "# RCSB PDB Sequence API: Examples\n",
    "\n",
    "If you're looking for an introduction please refer to the [readthedocs: Sequence](https://rcsbapi.readthedocs.io/en/dev-it-docs/search_api/quickstart.html)\n",
    "\n",
    "\\\n",
    "Start by installing the package:\n",
    "\n",
    "```pip install rcsb-api```"
   ]
  },
  {
   "cell_type": "code",
   "execution_count": null,
   "id": "84b427e8",
   "metadata": {},
   "outputs": [],
   "source": [
    "%pip install rcsb-api"
   ]
  },
  {
   "cell_type": "code",
   "execution_count": null,
   "id": "26c49575",
   "metadata": {},
   "outputs": [],
   "source": [
    "from rcsbapi.sequence import Alignments, Annotations\n",
    "import json  # for easy-to-read output"
   ]
  },
  {
   "cell_type": "markdown",
   "id": "d548d079",
   "metadata": {},
   "source": [
    "## Getting Started\n",
    "\n",
    "The RCSB PDB Sequence Coordinates API allows querying for alignments between structural and sequence databases, integrating protein positional features from multiple resources. The API supports requests using GraphQL, a language for API queries. This package simplifies generating queries in GraphQL syntax.\n",
    "\n",
    "There are two main types of queries: Alignments and Annotations"
   ]
  },
  {
   "cell_type": "markdown",
   "id": "eba76f5d",
   "metadata": {},
   "source": [
    "### Alignments\n",
    "\n",
    "Alignments queries request data about alignments between an object in a supported database to all objects of another supported database.\n"
   ]
  },
  {
   "cell_type": "code",
   "execution_count": null,
   "id": "0126ff2f",
   "metadata": {},
   "outputs": [],
   "source": [
    "from rcsbapi.sequence import Alignments\n",
    "\n",
    "# Fetch alignments between a UniProt Accession and PDB Entities\n",
    "query = Alignments(\n",
    "    db_from=\"UNIPROT\",\n",
    "    db_to=\"PDB_ENTITY\",\n",
    "    query_id=\"P01112\",\n",
    "    return_data_list=[\"query_sequence\", \"target_alignments\", \"aligned_regions\"]\n",
    ")\n",
    "query.exec()"
   ]
  },
  {
   "cell_type": "markdown",
   "id": "147df8ae",
   "metadata": {},
   "source": [
    "### Annotations"
   ]
  },
  {
   "cell_type": "code",
   "execution_count": null,
   "id": "4d6086cb",
   "metadata": {},
   "outputs": [],
   "source": [
    "from rcsbapi.sequence import Annotations\n",
    "\n",
    "# Fetch all positional features for a particular PDB Instance\n",
    "query = Annotations(  # type: ignore\n",
    "    reference=\"PDB_INSTANCE\",\n",
    "    sources=[\"UNIPROT\"],\n",
    "    queryId=\"2UZI.C\",\n",
    "    return_data_list=[\"target_id\", \"features\"]\n",
    ")\n",
    "query.exec()\n"
   ]
  },
  {
   "cell_type": "markdown",
   "id": "e32f2533",
   "metadata": {},
   "source": [
    "## Additional Examples\n",
    "\n",
    "For examples using other query types like GroupAlignments, GroupAnnotations, and GroupAnnotationsSummary or for examples using filters, check below."
   ]
  },
  {
   "cell_type": "markdown",
   "id": "e0ccabcb",
   "metadata": {},
   "source": [
    "### Annotations Query with Filter"
   ]
  },
  {
   "cell_type": "code",
   "execution_count": null,
   "id": "ba921107",
   "metadata": {},
   "outputs": [],
   "source": [
    "from rcsbapi.sequence import Annotations, AnnotationFilterInput\n",
    "\n",
    "# Fetch protein-ligand binding sites for PDB Instances that fall within Human Chromosome 1\n",
    "query = Annotations(\n",
    "    reference=\"NCBI_GENOME\",\n",
    "    sources=[\"PDB_INSTANCE\"],\n",
    "    query_id=\"NC_000001\",\n",
    "    filters=[\n",
    "        AnnotationFilterInput(\n",
    "            field=\"TYPE\",\n",
    "            operation=\"EQUALS\",\n",
    "            values=[\"BINDING_SITE\"],\n",
    "            source=\"UNIPROT\"\n",
    "        )\n",
    "    ],\n",
    "    return_data_list=[\"features.description\"]\n",
    ")\n",
    "query.exec()"
   ]
  },
  {
   "cell_type": "markdown",
   "id": "56f6b633",
   "metadata": {},
   "source": [
    "### Alignments with Range"
   ]
  },
  {
   "cell_type": "code",
   "execution_count": null,
   "id": "98e1f88b",
   "metadata": {},
   "outputs": [],
   "source": [
    "from rcsbapi.sequence import Alignments\n",
    "\n",
    "# Only return alignments data that fall in given range\n",
    "query = Alignments(\n",
    "    db_from=\"NCBI_PROTEIN\",\n",
    "    db_to=\"PDB_ENTITY\",\n",
    "    queryId=\"XP_642496\",\n",
    "    range=[1, 100],\n",
    "    return_data_list=[\"target_alignments\"]\n",
    ")\n",
    "query.exec()\n"
   ]
  },
  {
   "cell_type": "markdown",
   "id": "b58dbd38",
   "metadata": {},
   "source": [
    "### GroupAlignments"
   ]
  },
  {
   "cell_type": "code",
   "execution_count": null,
   "id": "19665740",
   "metadata": {},
   "outputs": [],
   "source": [
    "from rcsbapi.sequence import GroupAlignments\n",
    "\n",
    "# TODO: add description\n",
    "query = GroupAlignments(\n",
    "    group=\"MATCHING_UNIPROT_ACCESSION\",\n",
    "    group_id=\"P01112\",\n",
    "    return_data_list=[\"target_alignments.aligned_regions\", \"target_id\"],\n",
    ")\n",
    "query.exec()\n"
   ]
  },
  {
   "cell_type": "markdown",
   "id": "3c18af44",
   "metadata": {},
   "source": [
    "### GroupAlignments with Filter\n",
    "\n",
    "filter specify which IDs to return results for"
   ]
  },
  {
   "cell_type": "code",
   "execution_count": null,
   "id": "851ff202",
   "metadata": {},
   "outputs": [],
   "source": [
    "from rcsbapi.sequence import GroupAlignments\n",
    "\n",
    "# TODO: add description\n",
    "query = GroupAlignments(\n",
    "    group=\"MATCHING_UNIPROT_ACCESSION\",\n",
    "    group_id=\"P01112\",\n",
    "    return_data_list=[\"target_alignments.aligned_regions\", \"target_id\"],\n",
    "    filter=[\"8CNJ_1\", \"8FG4_1\"]\n",
    ")\n",
    "query.exec()\n"
   ]
  },
  {
   "cell_type": "markdown",
   "id": "6d7d3017",
   "metadata": {},
   "source": [
    "### GroupAnnotations\n",
    "\n",
    "Get annotations for structures in groups"
   ]
  },
  {
   "cell_type": "code",
   "execution_count": null,
   "id": "7cb214f0",
   "metadata": {},
   "outputs": [],
   "source": [
    "from rcsbapi.sequence import GroupAnnotations\n",
    "\n",
    "# TODO Add description\n",
    "query = GroupAnnotations(\n",
    "    group=\"MATCHING_UNIPROT_ACCESSION\",\n",
    "    group_id=\"P01112\",\n",
    "    sources=[\"PDB_ENTITY\"],\n",
    "    return_data_list=[\"features.name\",\"features.feature_positions\", \"target_id\"]\n",
    ")\n",
    "query.exec()"
   ]
  },
  {
   "cell_type": "markdown",
   "id": "3ef13c64",
   "metadata": {},
   "source": [
    "### GroupAnnotations with Filter\n",
    "\n",
    "filters specify what annotations will be retrieved."
   ]
  },
  {
   "cell_type": "code",
   "execution_count": null,
   "id": "e8f5d6ba",
   "metadata": {},
   "outputs": [],
   "source": [
    "from rcsbapi.sequence import GroupAnnotations, AnnotationFilterInput\n",
    "\n",
    "# TODO: Add description\n",
    "query = GroupAnnotations(\n",
    "    group=\"MATCHING_UNIPROT_ACCESSION\",\n",
    "    group_id=\"P01112\",\n",
    "    sources=[\"PDB_ENTITY\"],\n",
    "    filters=[\n",
    "        AnnotationFilterInput(\n",
    "            field=\"TYPE\",\n",
    "            operation=\"EQUALS\",\n",
    "            values=[\"BINDING_SITE\"],\n",
    "            source=\"UNIPROT\"\n",
    "        )\n",
    "    ],\n",
    "    return_data_list=[\"features.name\", \"features.feature_positions\", \"target_id\"],\n",
    ")\n",
    "query.exec()"
   ]
  },
  {
   "cell_type": "markdown",
   "id": "0db2fb73",
   "metadata": {},
   "source": [
    "### GroupAnnotationsSummary"
   ]
  },
  {
   "cell_type": "code",
   "execution_count": null,
   "id": "0f9ef258",
   "metadata": {},
   "outputs": [],
   "source": [
    "from rcsbapi.sequence import GroupAnnotationsSummary\n",
    "\n",
    "# TODO: add description\n",
    "query = GroupAnnotationsSummary(\n",
    "    group=\"MATCHING_UNIPROT_ACCESSION\",\n",
    "    group_id=\"P01112\",\n",
    "    sources=[\"PDB_INSTANCE\"],\n",
    "    return_data_list=[\"target_id\", \"features.type\"]\n",
    ")\n",
    "query.exec()"
   ]
  },
  {
   "cell_type": "markdown",
   "id": "2b6fbe56",
   "metadata": {},
   "source": [
    "### GroupAnnotations with Filter\n",
    "\n",
    "filters specify what annotations will be retrieved."
   ]
  },
  {
   "cell_type": "code",
   "execution_count": null,
   "id": "067e49f0",
   "metadata": {},
   "outputs": [],
   "source": [
    "from rcsbapi.sequence import GroupAnnotationsSummary, AnnotationFilterInput\n",
    "\n",
    "# TODO: add description\n",
    "query = GroupAnnotationsSummary(\n",
    "    group=\"MATCHING_UNIPROT_ACCESSION\",\n",
    "    group_id=\"P01112\",\n",
    "    sources=[\"PDB_INSTANCE\"],\n",
    "    filters=[\n",
    "        AnnotationFilterInput(\n",
    "            field=\"TYPE\",\n",
    "            operation=\"EQUALS\",\n",
    "            values=[\"BINDING_SITE\"],\n",
    "            source=\"UNIPROT\"\n",
    "        )\n",
    "    ],\n",
    "    return_data_list=[\"target_id\", \"features.type\"]\n",
    ")\n",
    "query.exec()"
   ]
  }
 ],
 "metadata": {
  "language_info": {
   "name": "python"
  }
 },
 "nbformat": 4,
 "nbformat_minor": 5
}
