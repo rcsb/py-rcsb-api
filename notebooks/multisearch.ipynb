{
 "cells": [
  {
   "cell_type": "markdown",
   "metadata": {},
   "source": [
    "<a href=\"https://colab.research.google.com/github/rcsb/py-rcsb-api/blob/master/notebooks/multisearch.ipynb\" target=\"_parent\"><img src=\"https://colab.research.google.com/assets/colab-badge.svg\" alt=\"Open In Colab\"/></a>"
   ]
  },
  {
   "cell_type": "markdown",
   "metadata": {},
   "source": [
    "## Enabling Computational Biology Research\n",
    "\n",
    "This tool can be an integral resource for computational biologists performing data analysis or iterative processes on big datasets from the RCSB PDB. Our tool supports data automation which is essential for any researcher or computational biologists wanting to work with huge datasets. Furthermore, our tool can be incorporated within a larger research workflow to quickly and seamlessly retrieve RCSB PDB data in an automated way."
   ]
  },
  {
   "cell_type": "markdown",
   "metadata": {},
   "source": [
    "Below is an example of how a computational biologist may use our tool for data automation to facilitate their research. The first query below finds protein structures with a similar protein sequence to the target protein. The retrieved data are then used as search parameters for a set of iterative search queries that find structurally similar proteins that are bound to small molecules. Then, the researcher can use their own workflow to further investigate how the protein structures and small molecules interact."
   ]
  },
  {
   "cell_type": "code",
   "execution_count": 1,
   "metadata": {},
   "outputs": [],
   "source": [
    "from rcsbapi.search import SeqSimilarityQuery, AttributeQuery, StructSimilarityQuery"
   ]
  },
  {
   "cell_type": "code",
   "execution_count": null,
   "metadata": {},
   "outputs": [],
   "source": [
    "q1 = SeqSimilarityQuery(\"DTHKSEIAHRFKDLGEEHFKGLVLIAFSQYLQQCPFDEHVKLVNEL\" + \n",
    "                   \"TEFAKTCVADESHAGCEKSLHTLFGDELCKVASLRETYGDMADCCE\" + \n",
    "                   \"KQEPERNECFLSHKDDSPDLPKLKPDPNTLCDEFKADEKKFWGKYL\" + \n",
    "                   \"YEIARRHPYFYAPELLYYANKYNGVFQECCQAEDKGACLLPKIETM\" + \n",
    "                   \"REKVLTSSARQRLRCASIQKFGERALKAWSVARLSQKFPKAEFVEV\" + \n",
    "                   \"TKLVTDLTKVHKECCHGDLLECADDRADLAKYICDNQDTISSKLKE\" + \n",
    "                   \"CCDKPLLEKSHCIAEVEKDAIPENLPPLTADFAEDKDVCKNYQEAK\" + \n",
    "                   \"DAFLGSFLYEYSRRHPEYAVSVLLRLAKEYEATLEECCAKDDPHAC\" +\n",
    "                   \"YSTVFDKLKHLVDEPQNLIKQNCDQFEKLGEYGFQNALIVRYTRKV\" + \n",
    "                   \"PQVSTPTLVEVSRSLGKVGTRCCTKPESERMPCTEDYLSLILNRLC\" + \n",
    "                   \"VLHEKTPVSEKVTKCCTESLVNRRPCFSALTPDETYVPKAFDEKLF\" + \n",
    "                   \"TFHADICTLPDTEKQIKKQTALVELLKHKPKATEEQLKTVMENFVA\" +\n",
    "                   \"FVDKCCAADDKEACFAVEGPKLVVSTQTALA\") # sequence similarity query\n",
    "\n",
    "sequence_similarity_results = list(q1(\"polymer_entity\"))\n",
    "print(\"Sequences similar to query:\")\n",
    "print(sequence_similarity_results)\n",
    "\n",
    "for i in range(5):\n",
    "    similar_protein = sequence_similarity_results[i]\n",
    "\n",
    "    entry_id = similar_protein[:-2]\n",
    "\n",
    "    small_molecule_query = AttributeQuery(attribute=\"rcsb_nonpolymer_entity_annotation.comp_id\",\n",
    "                                          operator=\"exists\",\n",
    "                                          value=None) # attribute query for small molecule\n",
    "\n",
    "    struct_similarity_query = StructSimilarityQuery(structure_search_type=\"entry_id\",\n",
    "                                                    entry_id=entry_id,\n",
    "                                                    structure_input_type=\"assembly_id\",\n",
    "                                                    assembly_id=\"1\",\n",
    "                                                    operator=\"strict_shape_match\",\n",
    "                                                    target_search_space=\"assembly\") # assemblyid = 1 by default\n",
    "\n",
    "    group_query = struct_similarity_query & small_molecule_query\n",
    "\n",
    "    print(\"Protein structures similar to\", similar_protein, \"bound to a small molecule:\")\n",
    "    print(list(group_query(\"assembly\")))"
   ]
  }
 ],
 "metadata": {
  "kernelspec": {
   "display_name": "Python 3",
   "language": "python",
   "name": "python3"
  },
  "language_info": {
   "codemirror_mode": {
    "name": "ipython",
    "version": 3
   },
   "file_extension": ".py",
   "mimetype": "text/x-python",
   "name": "python",
   "nbconvert_exporter": "python",
   "pygments_lexer": "ipython3",
   "version": "3.8.8"
  }
 },
 "nbformat": 4,
 "nbformat_minor": 2
}
