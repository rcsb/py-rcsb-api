{
 "cells": [
  {
   "cell_type": "markdown",
   "metadata": {},
   "source": [
    "<a href=\"https://colab.research.google.com/github/rcsb/py-rcsb-api/blob/master/notebooks/multisearch.ipynb\" target=\"_parent\"><img src=\"https://colab.research.google.com/assets/colab-badge.svg\" alt=\"Open In Colab\"/></a>"
   ]
  },
  {
   "cell_type": "markdown",
   "metadata": {},
   "source": [
    "## Enabling Computational Biology Research\n",
    "\n",
    "This tool can be an integral resource for computational biologists performing data analysis or iterative processes on big datasets from the RCSB PDB. Our tool supports data automation which is essential for any researcher or computational biologists wanting to work with huge datasets. Furthermore, our tool can be incorporated within a larger research workflow to quickly and seamlessly retrieve RCSB PDB data in an automated way."
   ]
  },
  {
   "cell_type": "markdown",
   "metadata": {},
   "source": [
    "Below is an example of how a computational biologist may use our tool for data automation to facilitate their research. The first query below finds protein structures with a similar protein sequence to the target protein. The retrieved data are then used as search parameters for a set of iterative search queries that find structurally similar proteins that are bound to small molecules. Then, the researcher can use their own workflow to further investigate how the protein structures and small molecules interact."
   ]
  },
  {
   "cell_type": "code",
   "execution_count": null,
   "metadata": {},
   "outputs": [],
   "source": [
    "%pip install rcsb-api"
   ]
  },
  {
   "cell_type": "code",
   "execution_count": 1,
   "metadata": {},
   "outputs": [],
   "source": [
    "from rcsbapi.search import SeqSimilarityQuery, AttributeQuery, StructSimilarityQuery"
   ]
  },
  {
   "cell_type": "code",
   "execution_count": 2,
   "metadata": {},
   "outputs": [
    {
     "name": "stdout",
     "output_type": "stream",
     "text": [
      "Sequences similar to query:\n",
      "['3V03_1', '4F5S_1', '4JK4_1', '4OR0_1', '6RJV_1', '6QS9_1', '8KFO_1', '8WDD_1', '4LUF_1', '4LUH_1', '5ORF_1', '6HN0_1', '5ORI_1', '5OSW_1', '5OTB_1', '6HN1_1', '5YXE_1', '5GHK_1', '1AO6_1', '1BJ5_1', '1BM0_1', '1E78_1', '1E7A_1', '1E7B_1', '1E7C_1', '1E7E_1', '1E7F_1', '1E7G_1', '1E7H_1', '1E7I_1', '1GNI_1', '1GNJ_1', '1H9Z_1', '1HA2_1', '1HK1_1', '1HK4_1', '1N5U_1', '1O9X_1', '1UOR_1', '2BX8_1', '2BXA_1', '2BXB_1', '2BXC_1', '2BXD_1', '2BXE_1', '2BXF_1', '2BXG_1', '2BXH_1', '2BXI_1', '2BXK_1', '2BXL_1', '2BXM_1', '2BXN_1', '2BXO_1', '2BXP_1', '2BXQ_1', '2ESG_3', '2I2Z_1', '2I30_1', '2VUE_1', '2VUF_1', '2XSI_1', '2XVQ_1', '2XVU_1', '2XVV_1', '2XVW_1', '2XW0_1', '2XW1_1', '2YDF_1', '3A73_1', '3B9L_1', '3B9M_1', '3JQZ_1', '3JRY_1', '3LU6_1', '3LU7_1', '3LU8_1', '3TDL_1', '3UIV_1', '4BKE_1', '4E99_1', '4EMX_1', '4G03_1', '4G04_1', '4HGK_1', '4HGM_2', '4IW1_1', '4IW2_1', '4K2C_1', '4L8U_1', '4L9K_1', '4L9Q_1', '4LA0_1', '4LB2_1', '4LB9_1', '4N0F_3', '4S1Y_1', '4Z69_1', '5FUO_1', '5ID7_1', '5IFO_1', '5IJF_1', '5UJB_1', '5VNW_1', '5X52_1', '5YOQ_1', '5Z0B_1', '6A7P_1', '6EZQ_1', '6M4R_1', '6M58_1', '6M5E_1', '6R7S_1', '6WUW_1', '6XV0_1', '6YG9_1', '7A9C_1', '7D6J_1', '7DJN_1', '7DL4_1', '7FFR_1', '7FFS_1', '7QFE_1', '7VR0_1', '7VR9_1', '7WKZ_1', '7WLF_1', '7WOJ_1', '7WOK_1', '7X7X_1', '8CKS_1', '8EW4_1', '8EW7_1', '8EY5_1', '8H0O_1', '8J8E_1', '8K1Y_1', '8Q3F_1', '8RCO_1', '8RCP_1', '8RGK_1', '8RGL_1', '8VAC_1', '8VAE_1', '8VAF_1', '8YXA_1', '8YXB_1', '8Z8V_1', '1HK2_1', '1HK3_1', '1HK5_1', '3CX9_1', '3SQJ_1', '4N0U_3', '5GIX_1', '5GIY_1', '5YB1_1', '6JE7_1', '6L4K_1', '7AAE_1', '7AAI_1', '7EEK_1', '7JWN_1', '7WZ9_1', '7Y2D_1', '7Z57_1', '8ISM_1', '8ITR_1', '8OI2_1', '9CSG_1', '4ZBQ_1', '4ZBR_1', '5DBY_1', '5ID9_1', '6OCI_1', '6OCJ_1', '1BKE_1', '4K71_1', '5HOZ_1', '5IIH_1', '5IIU_1', '5IIX_1', '5IJ5_1', '5IJE_1', '5V0V_1', '6MDQ_1', '6QIO_1', '6QIP_1', '6U4R_1', '6U4X_1', '6U5A_1', '6XK0_1', '7MBL_1', '8A9Q_1', '8ITT_1', '6ZL1_1', '3V08_1', '4F5T_1', '4F5U_1', '4J2V_1', '4OT2_1', '6CI6_1', '6M5D_1', '2VDB_1', '1TF0_1', '7Q4X_1', '5DQF_1', '4F5V_1', '4PO0_1', '6OCK_1', '6OCL_1', '8BSG_1', '3V09_1', '7YIM_1', '8X1N_1', '5OKL_1', '6FAK_1', '6RQ7_1', '1YSX_1', '1MA9_1', '1J78_1', '1J7E_1', '1KW2_1', '1KXP_2', '1LOT_1']\n",
      "Protein structures similar to 3V03_1 bound to a small molecule:\n",
      "['8KFO-1', '8WDD-2', '8WDD-1', '8KFO-2', '6HN0-1', '6XK0-1', '6U5A-1', '8BSG-1', '6HN1-1', '6MDQ-1', '7Q4X-1', '6U4X-1', '8VAE-1', '7MBL-1', '8VAC-1', '6U4R-1', '6M5D-1', '7D6J-1', '6R7S-1', '7WKZ-2', '7WOK-1', '7WOK-2', '7X7X-1', '7WKZ-1', '7WOJ-1', '7X7X-2', '7D6J-2', '8CKS-1', '8RGK-2', '8A9Q-1', '7VR9-2', '8YXB-2', '8YXA-2', '8RGL-1', '8RCO-2', '8A9Q-2', '8RCO-1', '7EEK-1', '6WUW-2', '8RGK-1', '7DL4-1', '8EW7-1', '7EEK-2', '8ITR-1', '8K1Y-1', '8RCP-1', '7WLF-1', '7VR9-1', '8YXA-1', '7Y2D-1', '7JWN-1', '8RGL-2', '7WZ9-1', '8YXB-1', '6L4K-2', '5YB1-1', '8ITT-1', '8H0O-1', '7AAE-1', '6WUW-1', '8RCP-2', '8ITT-2', '5YB1-2', '7AAI-1', '8J8E-2', '8J8E-1', '9CSG-1', '6YG9-1', '6XV0-1', '6L4K-1', '8EW4-1', '8ISM-1', '8EY5-1', '7A9C-1', '7QFE-1', '7Z57-1', '6KXK-3', '6KXU-4', '6KXK-4', '6KXU-6', '6KXU-3']\n",
      "Protein structures similar to 4F5S_1 bound to a small molecule:\n",
      "['8WDD-2', '8KFO-1', '8WDD-1', '8KFO-2', '6XK0-1', '6HN0-1', '6U5A-1', '6MDQ-1', '6HN1-1', '8BSG-1', '6U4X-1', '8VAE-1', '6U4R-1', '7MBL-1', '7Q4X-1', '8VAC-1', '6M5D-1', '7D6J-1', '6R7S-1', '7WKZ-2', '7WOK-1', '7WOK-2', '7X7X-1', '7WOJ-1', '7X7X-2', '7WKZ-1', '8CKS-1', '7D6J-2', '8RGK-2', '8A9Q-1', '8YXB-2', '8YXA-2', '7VR9-2', '8RGL-1', '8EW7-1', '8RCO-1', '6WUW-2', '7DL4-1', '7EEK-1', '8RCO-2', '7EEK-2', '8A9Q-2', '8RGK-1', '8YXA-1', '8K1Y-1', '7JWN-1', '7WLF-1', '7Y2D-1', '8YXB-1', '8ITR-1', '8RCP-1', '5YB1-1', '8H0O-1', '7VR9-1', '8RGL-2', '6L4K-2', '7WZ9-1', '8ITT-1', '7AAE-1', '6WUW-1', '5YB1-2', '8J8E-2', '8RCP-2', '9CSG-1', '8ITT-2', '6YG9-1', '8EW4-1', '7AAI-1', '8J8E-1', '6XV0-1', '8ISM-1', '6L4K-1', '8EY5-1', '7QFE-1', '7A9C-1', '7Z57-1']\n",
      "Protein structures similar to 4JK4_1 bound to a small molecule:\n",
      "['8WDD-1', '8KFO-1', '8WDD-2', '8KFO-2', '6HN0-1', '6XK0-1', '6U5A-1', '6U4X-1', '6MDQ-1', '7MBL-1', '6HN1-1', '7Q4X-1', '6U4R-1', '8VAE-1', '8BSG-1', '8VAC-1', '6M5D-1', '6R7S-1', '7D6J-1', '7WKZ-2', '7WOK-1', '7WOK-2', '7WOJ-1', '7X7X-1', '7WKZ-1', '7X7X-2', '7D6J-2', '8CKS-1', '8RGK-2', '8A9Q-1', '8RCO-1', '8YXB-2', '8YXA-2', '7VR9-2', '8EW7-1', '8RGL-1', '6WUW-2', '8RCO-2', '8A9Q-2', '7DL4-1', '8RGK-1', '7JWN-1', '7EEK-1', '8K1Y-1', '7EEK-2', '8ITR-1', '8YXA-1', '7WLF-1', '7Y2D-1', '7VR9-1', '8RGL-2', '8YXB-1', '8H0O-1', '9CSG-1', '8RCP-1', '6L4K-2', '5YB1-1', '7AAE-1', '8ITT-1', '7WZ9-1', '6WUW-1', '8J8E-2', '8ITT-2', '5YB1-2', '8RCP-2', '7AAI-1', '8J8E-1', '6YG9-1', '8EW4-1', '6XV0-1', '6L4K-1', '8ISM-1', '8EY5-1', '7QFE-1', '7A9C-1', '7Z57-1', '6KXK-3', '6KXU-3', '6KXK-4', '6KXU-4', '6KXU-6', '8X1N-1', '6KXK-6', '6KXK-1']\n",
      "Protein structures similar to 4OR0_1 bound to a small molecule:\n",
      "['8WDD-2', '8KFO-1', '8WDD-1', '8KFO-2', '6HN0-1', '6HN1-1', '6XK0-1', '6U5A-1', '8BSG-1', '7Q4X-1', '8VAE-1', '6MDQ-1', '7MBL-1', '8VAC-1', '6U4X-1', '6U4R-1', '6M5D-1', '6R7S-1', '7D6J-1', '7WKZ-2', '7WOK-1', '7WOK-2', '7WKZ-1', '7X7X-2', '7X7X-1', '7WOJ-1', '7D6J-2', '8CKS-1', '8RGK-2', '8A9Q-1', '8A9Q-2', '8YXB-2', '8RGL-1', '8EW7-1', '8YXA-2', '7EEK-1', '8RCO-2', '8RCO-1', '7VR9-2', '7EEK-2', '7DL4-1', '8RGK-1', '6WUW-2', '8YXB-1', '8K1Y-1', '7JWN-1', '8YXA-1', '8ITR-1', '7WLF-1', '6YG9-1', '7Y2D-1', '8RGL-2', '8RCP-1', '7VR9-1', '5YB1-1', '7WZ9-1', '8H0O-1', '6L4K-2', '8ITT-1', '7AAE-1', '8RCP-2', '5YB1-2', '6WUW-1', '8ITT-2', '9CSG-1', '7AAI-1', '8J8E-2', '8J8E-1', '8EW4-1', '6L4K-1', '6XV0-1', '8ISM-1', '7A9C-1', '8EY5-1', '7QFE-1', '7Z57-1']\n",
      "Protein structures similar to 6RJV_1 bound to a small molecule:\n",
      "['8WDD-2', '8KFO-1', '8WDD-1', '6HN0-1', '8KFO-2', '6XK0-1', '6HN1-1', '6U5A-1', '7MBL-1', '6MDQ-1', '7Q4X-1', '8VAE-1', '6U4X-1', '8BSG-1', '6U4R-1', '6M5D-1', '8VAC-1', '6R7S-1', '7WOK-1', '7D6J-1', '7WKZ-2', '7WOK-2', '7WOJ-1', '7X7X-2', '7X7X-1', '7WKZ-1', '7D6J-2', '8CKS-1', '8A9Q-1', '8RGK-2', '8YXA-2', '8YXB-2', '8RGL-1', '7VR9-2', '8RCO-1', '8A9Q-2', '7EEK-2', '7EEK-1', '6WUW-2', '8RCO-2', '7DL4-1', '8YXA-1', '8RGK-1', '8EW7-1', '8YXB-1', '8K1Y-1', '7WLF-1', '7JWN-1', '7VR9-1', '6L4K-2', '8RGL-2', '8H0O-1', '5YB1-1', '8ITT-1', '8ITR-1', '7WZ9-1', '8RCP-1', '7Y2D-1', '8J8E-2', '8ITT-2', '6YG9-1', '6WUW-1', '7AAE-1', '5YB1-2', '8RCP-2', '9CSG-1', '8J8E-1', '7AAI-1', '8EW4-1', '6XV0-1', '8ISM-1', '6L4K-1', '8EY5-1', '7A9C-1', '7QFE-1', '7Z57-1']\n"
     ]
    }
   ],
   "source": [
    "# Search for similar sequences to a protein of interest\n",
    "q1 = SeqSimilarityQuery(\"DTHKSEIAHRFKDLGEEHFKGLVLIAFSQYLQQCPFDEHVKLVNEL\" + \n",
    "                   \"TEFAKTCVADESHAGCEKSLHTLFGDELCKVASLRETYGDMADCCE\" + \n",
    "                   \"KQEPERNECFLSHKDDSPDLPKLKPDPNTLCDEFKADEKKFWGKYL\" + \n",
    "                   \"YEIARRHPYFYAPELLYYANKYNGVFQECCQAEDKGACLLPKIETM\" + \n",
    "                   \"REKVLTSSARQRLRCASIQKFGERALKAWSVARLSQKFPKAEFVEV\" + \n",
    "                   \"TKLVTDLTKVHKECCHGDLLECADDRADLAKYICDNQDTISSKLKE\" + \n",
    "                   \"CCDKPLLEKSHCIAEVEKDAIPENLPPLTADFAEDKDVCKNYQEAK\" + \n",
    "                   \"DAFLGSFLYEYSRRHPEYAVSVLLRLAKEYEATLEECCAKDDPHAC\" +\n",
    "                   \"YSTVFDKLKHLVDEPQNLIKQNCDQFEKLGEYGFQNALIVRYTRKV\" + \n",
    "                   \"PQVSTPTLVEVSRSLGKVGTRCCTKPESERMPCTEDYLSLILNRLC\" + \n",
    "                   \"VLHEKTPVSEKVTKCCTESLVNRRPCFSALTPDETYVPKAFDEKLF\" + \n",
    "                   \"TFHADICTLPDTEKQIKKQTALVELLKHKPKATEEQLKTVMENFVA\" +\n",
    "                   \"FVDKCCAADDKEACFAVEGPKLVVSTQTALA\")\n",
    "\n",
    "sequence_similarity_results = list(q1(return_type=\"polymer_entity\"))\n",
    "print(\"Sequences similar to query:\")\n",
    "print(sequence_similarity_results)\n",
    "\n",
    "for i in range(5):\n",
    "    similar_protein = sequence_similarity_results[i]\n",
    "\n",
    "    entry_id = similar_protein[:-2]\n",
    "\n",
    "    # Search for structures with small molecule(s)\n",
    "    small_molecule_query = AttributeQuery(\n",
    "        attribute=\"rcsb_nonpolymer_entity_annotation.comp_id\",\n",
    "        operator=\"exists\",\n",
    "        value=None\n",
    "    )\n",
    "\n",
    "    # Search for structurally similar proteins\n",
    "    struct_similarity_query = StructSimilarityQuery(\n",
    "        structure_search_type=\"entry_id\",\n",
    "        entry_id=entry_id,\n",
    "        structure_input_type=\"assembly_id\",\n",
    "        assembly_id=\"1\",  # assemblyid = 1 by default\n",
    "        operator=\"strict_shape_match\",\n",
    "        target_search_space=\"assembly\"\n",
    "    )\n",
    "\n",
    "    group_query = struct_similarity_query & small_molecule_query\n",
    "\n",
    "    print(\"Protein structures similar to\", similar_protein, \"bound to a small molecule:\")\n",
    "    print(list(group_query(\"assembly\")))"
   ]
  }
 ],
 "metadata": {
  "kernelspec": {
   "display_name": "Python 3",
   "language": "python",
   "name": "python3"
  },
  "language_info": {
   "codemirror_mode": {
    "name": "ipython",
    "version": 3
   },
   "file_extension": ".py",
   "mimetype": "text/x-python",
   "name": "python",
   "nbconvert_exporter": "python",
   "pygments_lexer": "ipython3",
   "version": "3.12.6"
  }
 },
 "nbformat": 4,
 "nbformat_minor": 2
}
