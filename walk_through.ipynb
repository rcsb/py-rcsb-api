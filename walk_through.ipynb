{
 "cells": [
  {
   "cell_type": "code",
   "execution_count": 5,
   "metadata": {},
   "outputs": [],
   "source": [
    "from rcsbapi.data.query import Query\n",
    "from pprint import pprint"
   ]
  },
  {
   "cell_type": "code",
   "execution_count": 6,
   "metadata": {},
   "outputs": [
    {
     "name": "stdout",
     "output_type": "stream",
     "text": [
      "{'data': {'entry': {'entry': {'id': '4HHB'}}}}\n"
     ]
    }
   ],
   "source": [
    "query = Query(input_ids={\"entry_id\":\"4HHB\"},input_type=\"entry\", return_data_list=[\"Entry.id\"])\n",
    "pprint(query.response)"
   ]
  },
  {
   "cell_type": "markdown",
   "metadata": {},
   "source": [
    "Input ids can be passed as a single identifier in this format, which is consistent with the RCSB PDB website\n",
    "\n",
    "|Type | Format |Example\n",
    "|---|---|---|\n",
    "|polymer, branched, or non-polymer entities | [entry_id]_[entity_id] | 4HHB_1 |\n",
    "|polymer, branched, or non-polymer entity instances| [entry_id].[asym_id] | 4HHB.A |\n",
    "|biological assemblies | [entry_id]-[assembly_id]| 4HHB-1 |"
   ]
  },
  {
   "cell_type": "code",
   "execution_count": 7,
   "metadata": {},
   "outputs": [
    {
     "name": "stdout",
     "output_type": "stream",
     "text": [
      "{'data': {'assemblies': [{'entry': {'entry': {'id': '4HHB'}}},\n",
      "                         {'entry': {'entry': {'id': '12CA'}}},\n",
      "                         {'entry': {'entry': {'id': '3PQR'}}}]}}\n"
     ]
    }
   ],
   "source": [
    "query = Query(input_ids={\"assembly_ids\":[\"4HHB-1\", \"12CA-1\", \"3PQR-1\"]},input_type=\"assemblies\", return_data_list=[\"Entry.id\"])\n",
    "pprint(query.response)"
   ]
  },
  {
   "cell_type": "markdown",
   "metadata": {},
   "source": [
    "Lists are also accepted for the input_ids argument. The below code is equivalent to above."
   ]
  },
  {
   "cell_type": "code",
   "execution_count": null,
   "metadata": {},
   "outputs": [],
   "source": [
    "query = Query(input_ids=[\"4HHB-1\", \"12CA-1\", \"3PQR-1\"],input_type=\"assemblies\", return_data_list=[\"Entry.id\"])\n",
    "pprint(query.response)"
   ]
  }
 ],
 "metadata": {
  "kernelspec": {
   "display_name": "Python 3",
   "language": "python",
   "name": "python3"
  },
  "language_info": {
   "codemirror_mode": {
    "name": "ipython",
    "version": 3
   },
   "file_extension": ".py",
   "mimetype": "text/x-python",
   "name": "python",
   "nbconvert_exporter": "python",
   "pygments_lexer": "ipython3",
   "version": "3.10.11"
  }
 },
 "nbformat": 4,
 "nbformat_minor": 2
}
